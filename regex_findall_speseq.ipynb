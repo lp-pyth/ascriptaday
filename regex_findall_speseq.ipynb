{
 "cells": [
  {
   "cell_type": "code",
   "execution_count": 44,
   "id": "ed69851b",
   "metadata": {},
   "outputs": [],
   "source": [
    "import re"
   ]
  },
  {
   "cell_type": "code",
   "execution_count": 45,
   "id": "75be73e9",
   "metadata": {},
   "outputs": [],
   "source": [
    "txt = '''dabada abc djsha\n",
    "1 abc uhuh klllaaa kdlf \\n\n",
    "2 abjlki saap bclllx bc \\n\n",
    "3 leki cllll ahc \\n\n",
    "4 dog soup delicious \\n\n",
    "5 habada abcde klll \\n\n",
    "6 abcdefghijklmnopqrstuvwxyz'''"
   ]
  },
  {
   "cell_type": "code",
   "execution_count": 46,
   "id": "931e3fcc",
   "metadata": {},
   "outputs": [
    {
     "data": {
      "text/plain": [
       "['dabada']"
      ]
     },
     "execution_count": 46,
     "metadata": {},
     "output_type": "execute_result"
    }
   ],
   "source": [
    "re.findall(\"\\Adabada\", txt) #startofstring"
   ]
  },
  {
   "cell_type": "code",
   "execution_count": 67,
   "id": "17e95536",
   "metadata": {},
   "outputs": [
    {
     "data": {
      "text/plain": [
       "['xyz']"
      ]
     },
     "execution_count": 67,
     "metadata": {},
     "output_type": "execute_result"
    }
   ],
   "source": [
    "re.findall(\"xyz\\Z\", txt) #endofstring"
   ]
  },
  {
   "cell_type": "code",
   "execution_count": 52,
   "id": "3b179e08",
   "metadata": {},
   "outputs": [
    {
     "data": {
      "text/plain": [
       "['djs']"
      ]
     },
     "execution_count": 52,
     "metadata": {},
     "output_type": "execute_result"
    }
   ],
   "source": [
    "re.findall(r\"\\bdjs\", txt) #startofword"
   ]
  },
  {
   "cell_type": "code",
   "execution_count": 54,
   "id": "cfd43777",
   "metadata": {},
   "outputs": [
    {
     "data": {
      "text/plain": [
       "['aap']"
      ]
     },
     "execution_count": 54,
     "metadata": {},
     "output_type": "execute_result"
    }
   ],
   "source": [
    "re.findall(r\"aap\\b\", txt) #endofword"
   ]
  },
  {
   "cell_type": "code",
   "execution_count": 55,
   "id": "9c56033c",
   "metadata": {},
   "outputs": [
    {
     "data": {
      "text/plain": [
       "['1', '2', '3', '4', '5', '6']"
      ]
     },
     "execution_count": 55,
     "metadata": {},
     "output_type": "execute_result"
    }
   ],
   "source": [
    "re.findall(\"\\d\", txt) #digit"
   ]
  },
  {
   "cell_type": "code",
   "execution_count": 57,
   "id": "4ea6ad44",
   "metadata": {},
   "outputs": [
    {
     "name": "stdout",
     "output_type": "stream",
     "text": [
      "['d', 'a', 'b', 'a', 'd', 'a', ' ', 'a', 'b', 'c', ' ', 'd', 'j', 's', 'h', 'a', '\\n', ' ', 'a', 'b', 'c', ' ', 'u', 'h', 'u', 'h', ' ', 'k', 'l', 'l', 'l', 'a', 'a', 'a', ' ', 'k', 'd', 'l', 'f', ' ', '\\n', '\\n', ' ', 'a', 'b', 'j', 'l', 'k', 'i', ' ', 's', 'a', 'a', 'p', ' ', 'b', 'c', 'l', 'l', 'l', 'x', ' ', 'b', 'c', ' ', '\\n', '\\n', ' ', 'l', 'e', 'k', 'i', ' ', 'c', 'l', 'l', 'l', 'l', ' ', 'a', 'h', 'c', ' ', '\\n', '\\n', ' ', 'd', 'o', 'g', ' ', 's', 'o', 'u', 'p', ' ', 'd', 'e', 'l', 'i', 'c', 'i', 'o', 'u', 's', ' ', '\\n', '\\n', ' ', 'h', 'a', 'b', 'a', 'd', 'a', ' ', 'a', 'b', 'c', 'd', 'e', ' ', 'k', 'l', 'l', 'l', ' ', '\\n', '\\n', ' ', 'a', 'b', 'c', 'd', 'e', 'f', 'g', 'h', 'i', 'j', 'k', 'l', 'm', 'n', 'o', 'p', 'q', 'r', 's', 't', 'u', 'v', 'w', 'x', 'y', 'z']\n"
     ]
    }
   ],
   "source": [
    "print(re.findall(\"\\D\", txt)) #not digit"
   ]
  },
  {
   "cell_type": "code",
   "execution_count": 59,
   "id": "01b836f4",
   "metadata": {},
   "outputs": [
    {
     "name": "stdout",
     "output_type": "stream",
     "text": [
      "[' ', ' ', '\\n', ' ', ' ', ' ', ' ', ' ', '\\n', '\\n', ' ', ' ', ' ', ' ', ' ', '\\n', '\\n', ' ', ' ', ' ', ' ', '\\n', '\\n', ' ', ' ', ' ', ' ', '\\n', '\\n', ' ', ' ', ' ', ' ', '\\n', '\\n', ' ']\n"
     ]
    }
   ],
   "source": [
    "print(re.findall(\"\\s\", txt)) #whitespace"
   ]
  },
  {
   "cell_type": "code",
   "execution_count": 60,
   "id": "9034f2cd",
   "metadata": {},
   "outputs": [
    {
     "name": "stdout",
     "output_type": "stream",
     "text": [
      "['d', 'a', 'b', 'a', 'd', 'a', 'a', 'b', 'c', 'd', 'j', 's', 'h', 'a', '1', 'a', 'b', 'c', 'u', 'h', 'u', 'h', 'k', 'l', 'l', 'l', 'a', 'a', 'a', 'k', 'd', 'l', 'f', '2', 'a', 'b', 'j', 'l', 'k', 'i', 's', 'a', 'a', 'p', 'b', 'c', 'l', 'l', 'l', 'x', 'b', 'c', '3', 'l', 'e', 'k', 'i', 'c', 'l', 'l', 'l', 'l', 'a', 'h', 'c', '4', 'd', 'o', 'g', 's', 'o', 'u', 'p', 'd', 'e', 'l', 'i', 'c', 'i', 'o', 'u', 's', '5', 'h', 'a', 'b', 'a', 'd', 'a', 'a', 'b', 'c', 'd', 'e', 'k', 'l', 'l', 'l', '6', 'a', 'b', 'c', 'd', 'e', 'f', 'g', 'h', 'i', 'j', 'k', 'l', 'm', 'n', 'o', 'p', 'q', 'r', 's', 't', 'u', 'v', 'w', 'x', 'y', 'z']\n"
     ]
    }
   ],
   "source": [
    "print(re.findall(\"\\S\", txt)) #not whitespace"
   ]
  },
  {
   "cell_type": "code",
   "execution_count": 62,
   "id": "b47ec0dc",
   "metadata": {},
   "outputs": [
    {
     "name": "stdout",
     "output_type": "stream",
     "text": [
      "['d', 'a', 'b', 'a', 'd', 'a', 'a', 'b', 'c', 'd', 'j', 's', 'h', 'a', '1', 'a', 'b', 'c', 'u', 'h', 'u', 'h', 'k', 'l', 'l', 'l', 'a', 'a', 'a', 'k', 'd', 'l', 'f', '2', 'a', 'b', 'j', 'l', 'k', 'i', 's', 'a', 'a', 'p', 'b', 'c', 'l', 'l', 'l', 'x', 'b', 'c', '3', 'l', 'e', 'k', 'i', 'c', 'l', 'l', 'l', 'l', 'a', 'h', 'c', '4', 'd', 'o', 'g', 's', 'o', 'u', 'p', 'd', 'e', 'l', 'i', 'c', 'i', 'o', 'u', 's', '5', 'h', 'a', 'b', 'a', 'd', 'a', 'a', 'b', 'c', 'd', 'e', 'k', 'l', 'l', 'l', '6', 'a', 'b', 'c', 'd', 'e', 'f', 'g', 'h', 'i', 'j', 'k', 'l', 'm', 'n', 'o', 'p', 'q', 'r', 's', 't', 'u', 'v', 'w', 'x', 'y', 'z']\n"
     ]
    }
   ],
   "source": [
    "print(re.findall(\"\\w\", txt)) #anywordchar"
   ]
  },
  {
   "cell_type": "code",
   "execution_count": 63,
   "id": "53555210",
   "metadata": {},
   "outputs": [
    {
     "name": "stdout",
     "output_type": "stream",
     "text": [
      "[' ', ' ', '\\n', ' ', ' ', ' ', ' ', ' ', '\\n', '\\n', ' ', ' ', ' ', ' ', ' ', '\\n', '\\n', ' ', ' ', ' ', ' ', '\\n', '\\n', ' ', ' ', ' ', ' ', '\\n', '\\n', ' ', ' ', ' ', ' ', '\\n', '\\n', ' ']\n"
     ]
    }
   ],
   "source": [
    "print(re.findall(\"\\W\", txt)) #notwordchar"
   ]
  }
 ],
 "metadata": {
  "kernelspec": {
   "display_name": "Python 3",
   "language": "python",
   "name": "python3"
  },
  "language_info": {
   "codemirror_mode": {
    "name": "ipython",
    "version": 3
   },
   "file_extension": ".py",
   "mimetype": "text/x-python",
   "name": "python",
   "nbconvert_exporter": "python",
   "pygments_lexer": "ipython3",
   "version": "3.8.5"
  }
 },
 "nbformat": 4,
 "nbformat_minor": 5
}
