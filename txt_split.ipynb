{
 "cells": [
  {
   "cell_type": "code",
   "execution_count": 8,
   "id": "fe0df74b",
   "metadata": {},
   "outputs": [],
   "source": [
    "txt = \"\"\"To be, or not to be, that is the question: \n",
    "Whether 'tis nobler in the mind to suffer\n",
    "The slings and arrows of outrageous fortune,\n",
    "Or to take arms against a sea of troubles\n",
    "And by opposing end them. To die—to sleep,\n",
    "No more; and by a sleep to say we end\n",
    "The heart-ache and the thousand natural shocks\"\"\""
   ]
  },
  {
   "cell_type": "code",
   "execution_count": 16,
   "id": "77d9d0b7",
   "metadata": {},
   "outputs": [
    {
     "name": "stdout",
     "output_type": "stream",
     "text": [
      "['To', 'be,', 'or', 'not', 'to', 'be,', 'that', 'is', 'the', 'question:', 'Whether', \"'tis\", 'nobler', 'in', 'the', 'mind', 'to', 'suffer', 'The', 'slings', 'and', 'arrows', 'of', 'outrageous', 'fortune,', 'Or', 'to', 'take', 'arms', 'against', 'a', 'sea', 'of', 'troubles', 'And', 'by', 'opposing', 'end', 'them.', 'To', 'die—to', 'sleep,', 'No', 'more;', 'and', 'by', 'a', 'sleep', 'to', 'say', 'we', 'end', 'The', 'heart-ache', 'and', 'the', 'thousand', 'natural', 'shocks']\n"
     ]
    }
   ],
   "source": [
    "x = txt.split()\n",
    "print(x)"
   ]
  },
  {
   "cell_type": "code",
   "execution_count": 21,
   "id": "829cd8be",
   "metadata": {},
   "outputs": [
    {
     "name": "stdout",
     "output_type": "stream",
     "text": [
      "['To', 'be,', 'or', 'not', 'to', 'be,', 'that', 'is', 'the', 'question:', '\\nWhether', \"'tis\", 'nobler', 'in', 'the', 'mind', 'to', 'suffer\\nThe', 'slings', 'and', 'arrows of outrageous fortune,\\nOr to take arms against a sea of troubles\\nAnd by opposing end them. To die—to sleep,\\nNo more; and by a sleep to say we end\\nThe heart-ache and the thousand natural shocks']\n"
     ]
    }
   ],
   "source": [
    "x = txt.split(\" \", 20)\n",
    "print(x)"
   ]
  },
  {
   "cell_type": "code",
   "execution_count": 14,
   "id": "d0fc8d25",
   "metadata": {},
   "outputs": [
    {
     "name": "stdout",
     "output_type": "stream",
     "text": [
      "['To be, or not to be, that is the question: ', \"Whether 'tis nobler in the mind to suffer\", 'The slings and arrows of outrageous fortune,', 'Or to take arms against a sea of troubles', 'And by opposing end them. To die—to sleep,', 'No more; and by a sleep to say we end', 'The heart-ache and the thousand natural shocks']\n"
     ]
    }
   ],
   "source": [
    "x = txt.split(\"\\n\")\n",
    "print(x)"
   ]
  },
  {
   "cell_type": "code",
   "execution_count": 25,
   "id": "a2def840",
   "metadata": {},
   "outputs": [
    {
     "name": "stdout",
     "output_type": "stream",
     "text": [
      "['To be, or not ', \" be, that is the question: \\nWhether 'tis nobler in the mind \", ' suffer\\nThe slings and arrows of outrageous fortune,\\nOr ', ' take arms against a sea of troubles\\nAnd by opposing end them. To die—', ' sleep,\\nNo more; and by a sleep ', ' say we end\\nThe heart-ache and the thousand natural shocks']\n"
     ]
    }
   ],
   "source": [
    "x = txt.split(\"to\")\n",
    "print(x)"
   ]
  },
  {
   "cell_type": "code",
   "execution_count": null,
   "id": "aaaefd3a",
   "metadata": {},
   "outputs": [],
   "source": []
  },
  {
   "cell_type": "code",
   "execution_count": null,
   "id": "64a6f821",
   "metadata": {},
   "outputs": [],
   "source": []
  },
  {
   "cell_type": "code",
   "execution_count": null,
   "id": "e13a3517",
   "metadata": {},
   "outputs": [],
   "source": []
  }
 ],
 "metadata": {
  "kernelspec": {
   "display_name": "datastuff",
   "language": "python",
   "name": "datastuff"
  },
  "language_info": {
   "codemirror_mode": {
    "name": "ipython",
    "version": 3
   },
   "file_extension": ".py",
   "mimetype": "text/x-python",
   "name": "python",
   "nbconvert_exporter": "python",
   "pygments_lexer": "ipython3",
   "version": "3.6.9"
  }
 },
 "nbformat": 4,
 "nbformat_minor": 5
}
