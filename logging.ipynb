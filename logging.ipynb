{
 "cells": [
  {
   "cell_type": "code",
   "execution_count": 2,
   "id": "ba7fe349",
   "metadata": {},
   "outputs": [],
   "source": [
    "import logging\n",
    "logging.basicConfig(filename='example.log', \n",
    "                    encoding='utf-8', \n",
    "                    level=logging.DEBUG)\n",
    "logging.debug('This message should go to the log file')\n",
    "logging.info('So should this')\n",
    "logging.warning('And this, too')\n",
    "logging.error('And non-ASCII stuff, too, like Øresund and Malmö')"
   ]
  },
  {
   "cell_type": "code",
   "execution_count": 5,
   "id": "84563e87",
   "metadata": {},
   "outputs": [],
   "source": [
    "logging.basicConfig(format='%(asctime)s %(message)s')\n",
    "logging.warning('is when this event was logged.')"
   ]
  },
  {
   "cell_type": "code",
   "execution_count": null,
   "id": "4142eb53",
   "metadata": {},
   "outputs": [],
   "source": []
  }
 ],
 "metadata": {
  "kernelspec": {
   "display_name": "Python 3",
   "language": "python",
   "name": "python3"
  },
  "language_info": {
   "codemirror_mode": {
    "name": "ipython",
    "version": 3
   },
   "file_extension": ".py",
   "mimetype": "text/x-python",
   "name": "python",
   "nbconvert_exporter": "python",
   "pygments_lexer": "ipython3",
   "version": "3.8.10"
  }
 },
 "nbformat": 4,
 "nbformat_minor": 5
}
