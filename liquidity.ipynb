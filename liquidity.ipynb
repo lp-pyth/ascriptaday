{
 "cells": [
  {
   "cell_type": "code",
   "execution_count": 12,
   "id": "854f43b1",
   "metadata": {},
   "outputs": [],
   "source": [
    "import pandas as pd\n",
    "import numpy as np\n",
    "import matplotlib.pyplot as plt\n",
    "%matplotlib inline\n",
    "from matplotlib.axes._axes import _log as matplotlib_axes_logger\n",
    "matplotlib_axes_logger.setLevel('ERROR')\n",
    "from datetime import datetime\n",
    "from scipy.signal import argrelextrema\n",
    "pd.set_option('display.max_columns', None)"
   ]
  },
  {
   "cell_type": "code",
   "execution_count": 33,
   "id": "90d1a450",
   "metadata": {},
   "outputs": [],
   "source": [
    "df = pd.read_csv(\"data/400+_crypto_currency_pairs/btcusd.csv\")\n",
    "df['datetime'] = pd.to_datetime(df['time'],unit='ms')\n",
    "df.set_index('datetime',inplace=True)\n",
    "df_1min = df.drop([\"time\"], axis=1)"
   ]
  },
  {
   "cell_type": "code",
   "execution_count": 34,
   "id": "0d1c2a54",
   "metadata": {},
   "outputs": [
    {
     "data": {
      "text/html": [
       "<div>\n",
       "<style scoped>\n",
       "    .dataframe tbody tr th:only-of-type {\n",
       "        vertical-align: middle;\n",
       "    }\n",
       "\n",
       "    .dataframe tbody tr th {\n",
       "        vertical-align: top;\n",
       "    }\n",
       "\n",
       "    .dataframe thead th {\n",
       "        text-align: right;\n",
       "    }\n",
       "</style>\n",
       "<table border=\"1\" class=\"dataframe\">\n",
       "  <thead>\n",
       "    <tr style=\"text-align: right;\">\n",
       "      <th></th>\n",
       "      <th>open</th>\n",
       "      <th>close</th>\n",
       "      <th>high</th>\n",
       "      <th>low</th>\n",
       "      <th>volume</th>\n",
       "      <th>volume_usd</th>\n",
       "    </tr>\n",
       "  </thead>\n",
       "  <tbody>\n",
       "    <tr>\n",
       "      <th>2013-04-01 00:07:00</th>\n",
       "      <td>93.25</td>\n",
       "      <td>93.3</td>\n",
       "      <td>93.3</td>\n",
       "      <td>93.25</td>\n",
       "      <td>93.3</td>\n",
       "      <td>8702.5575</td>\n",
       "    </tr>\n",
       "    <tr>\n",
       "      <th>2013-04-01 00:08:00</th>\n",
       "      <td>100.00</td>\n",
       "      <td>100.0</td>\n",
       "      <td>100.0</td>\n",
       "      <td>100.00</td>\n",
       "      <td>93.3</td>\n",
       "      <td>9330.0000</td>\n",
       "    </tr>\n",
       "  </tbody>\n",
       "</table>\n",
       "</div>"
      ],
      "text/plain": [
       "                       open  close   high     low  volume  volume_usd\n",
       "2013-04-01 00:07:00   93.25   93.3   93.3   93.25    93.3   8702.5575\n",
       "2013-04-01 00:08:00  100.00  100.0  100.0  100.00    93.3   9330.0000"
      ]
     },
     "execution_count": 34,
     "metadata": {},
     "output_type": "execute_result"
    }
   ],
   "source": [
    "idx = pd.date_range('2013-04-01 00:07:00', '2021-05-30 21:31:00', freq='1Min')\n",
    "df_1min.index = pd.DatetimeIndex(df_1min.index)\n",
    "df_1min = df_1min.reindex(idx, fill_value='NaN')\n",
    "df_1min.loc[df_1min.open == \"NaN\"] = np.nan\n",
    "df_1min = df_1min.fillna(method='ffill')\n",
    "df_1min[\"volume_usd\"] = (df_1min[\"open\"]+df_1min[\"close\"]+df_1min[\"high\"]+df_1min[\"low\"])/4*df_1min[\"volume\"]\n",
    "df_1min.head(2)"
   ]
  },
  {
   "cell_type": "code",
   "execution_count": 35,
   "id": "c99c4037",
   "metadata": {},
   "outputs": [],
   "source": [
    "df_15min = df_1min.groupby(pd.Grouper(freq='15Min')).agg({\"open\": \"first\", \n",
    "                                                        \"close\": \"last\", \n",
    "                                                        \"low\": \"min\", \n",
    "                                                        \"high\": \"max\",\n",
    "                                                         \"volume\": \"sum\",\n",
    "                                                         \"volume_usd\": \"sum\"})\n",
    "df_15min.columns = [\"open\", \"close\", \"low\", \"high\", \"vol_btc\", \"vol_usd\"]\n",
    "df = df_15min.copy()\n",
    "df[\"avrg_ohlc\"] = (df[\"open\"] + df[\"close\"] + df[\"low\"] + df[\"high\"]) / 4\n",
    "df[\"liquidity_15min\"] = df[\"vol_usd\"] / df[\"avrg_ohlc\"]"
   ]
  },
  {
   "cell_type": "code",
   "execution_count": 25,
   "id": "9dd6292d",
   "metadata": {
    "scrolled": true
   },
   "outputs": [
    {
     "data": {
      "text/html": [
       "<div>\n",
       "<style scoped>\n",
       "    .dataframe tbody tr th:only-of-type {\n",
       "        vertical-align: middle;\n",
       "    }\n",
       "\n",
       "    .dataframe tbody tr th {\n",
       "        vertical-align: top;\n",
       "    }\n",
       "\n",
       "    .dataframe thead th {\n",
       "        text-align: right;\n",
       "    }\n",
       "</style>\n",
       "<table border=\"1\" class=\"dataframe\">\n",
       "  <thead>\n",
       "    <tr style=\"text-align: right;\">\n",
       "      <th></th>\n",
       "      <th>open</th>\n",
       "      <th>close</th>\n",
       "      <th>low</th>\n",
       "      <th>high</th>\n",
       "      <th>vol_btc</th>\n",
       "      <th>vol_usd</th>\n",
       "      <th>avrg_ohlc</th>\n",
       "      <th>liquidity_15min</th>\n",
       "    </tr>\n",
       "  </thead>\n",
       "  <tbody>\n",
       "    <tr>\n",
       "      <th>2021-05-30 20:30:00</th>\n",
       "      <td>36253.000000</td>\n",
       "      <td>36065.000000</td>\n",
       "      <td>36033.563841</td>\n",
       "      <td>36269.628495</td>\n",
       "      <td>82.381451</td>\n",
       "      <td>2.981736e+06</td>\n",
       "      <td>36155.298084</td>\n",
       "      <td>82.470240</td>\n",
       "    </tr>\n",
       "    <tr>\n",
       "      <th>2021-05-30 20:45:00</th>\n",
       "      <td>36059.690483</td>\n",
       "      <td>36040.135673</td>\n",
       "      <td>36011.000000</td>\n",
       "      <td>36207.000000</td>\n",
       "      <td>17.636012</td>\n",
       "      <td>6.371255e+05</td>\n",
       "      <td>36079.456539</td>\n",
       "      <td>17.658955</td>\n",
       "    </tr>\n",
       "    <tr>\n",
       "      <th>2021-05-30 21:00:00</th>\n",
       "      <td>36040.135673</td>\n",
       "      <td>35964.000000</td>\n",
       "      <td>35926.000000</td>\n",
       "      <td>36040.135673</td>\n",
       "      <td>21.302454</td>\n",
       "      <td>7.665840e+05</td>\n",
       "      <td>35992.567836</td>\n",
       "      <td>21.298398</td>\n",
       "    </tr>\n",
       "    <tr>\n",
       "      <th>2021-05-30 21:15:00</th>\n",
       "      <td>35960.948600</td>\n",
       "      <td>35949.821007</td>\n",
       "      <td>35831.000000</td>\n",
       "      <td>36005.000000</td>\n",
       "      <td>10.890180</td>\n",
       "      <td>3.912352e+05</td>\n",
       "      <td>35936.692402</td>\n",
       "      <td>10.886789</td>\n",
       "    </tr>\n",
       "    <tr>\n",
       "      <th>2021-05-30 21:30:00</th>\n",
       "      <td>35947.628977</td>\n",
       "      <td>35992.000000</td>\n",
       "      <td>35911.000000</td>\n",
       "      <td>35992.000000</td>\n",
       "      <td>0.857051</td>\n",
       "      <td>3.083521e+04</td>\n",
       "      <td>35960.657244</td>\n",
       "      <td>0.857471</td>\n",
       "    </tr>\n",
       "  </tbody>\n",
       "</table>\n",
       "</div>"
      ],
      "text/plain": [
       "                             open         close           low          high  \\\n",
       "2021-05-30 20:30:00  36253.000000  36065.000000  36033.563841  36269.628495   \n",
       "2021-05-30 20:45:00  36059.690483  36040.135673  36011.000000  36207.000000   \n",
       "2021-05-30 21:00:00  36040.135673  35964.000000  35926.000000  36040.135673   \n",
       "2021-05-30 21:15:00  35960.948600  35949.821007  35831.000000  36005.000000   \n",
       "2021-05-30 21:30:00  35947.628977  35992.000000  35911.000000  35992.000000   \n",
       "\n",
       "                       vol_btc       vol_usd     avrg_ohlc  liquidity_15min  \n",
       "2021-05-30 20:30:00  82.381451  2.981736e+06  36155.298084        82.470240  \n",
       "2021-05-30 20:45:00  17.636012  6.371255e+05  36079.456539        17.658955  \n",
       "2021-05-30 21:00:00  21.302454  7.665840e+05  35992.567836        21.298398  \n",
       "2021-05-30 21:15:00  10.890180  3.912352e+05  35936.692402        10.886789  \n",
       "2021-05-30 21:30:00   0.857051  3.083521e+04  35960.657244         0.857471  "
      ]
     },
     "execution_count": 25,
     "metadata": {},
     "output_type": "execute_result"
    }
   ],
   "source": [
    "df.tail()"
   ]
  },
  {
   "cell_type": "code",
   "execution_count": 26,
   "id": "5a117c73",
   "metadata": {},
   "outputs": [
    {
     "data": {
      "text/plain": [
       "<AxesSubplot:>"
      ]
     },
     "execution_count": 26,
     "metadata": {},
     "output_type": "execute_result"
    },
    {
     "data": {
      "image/png": "[encoded data removed]",
      "text/plain": [
       "<Figure size 432x288 with 1 Axes>"
      ]
     },
     "metadata": {
      "needs_background": "light"
     },
     "output_type": "display_data"
    }
   ],
   "source": [
    "df.liquidity_15min.plot(figsize=(12,6))"
   ]
  }
 ],
 "metadata": {
  "kernelspec": {
   "display_name": "datamining",
   "language": "python",
   "name": "datamining"
  },
  "language_info": {
   "codemirror_mode": {
    "name": "ipython",
    "version": 3
   },
   "file_extension": ".py",
   "mimetype": "text/x-python",
   "name": "python",
   "nbconvert_exporter": "python",
   "pygments_lexer": "ipython3",
   "version": "3.9.5"
  }
 },
 "nbformat": 4,
 "nbformat_minor": 5
}
