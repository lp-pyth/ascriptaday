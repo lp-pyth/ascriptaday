{
 "cells": [
  {
   "cell_type": "code",
   "execution_count": null,
   "id": "1e8e1efc",
   "metadata": {},
   "outputs": [],
   "source": [
    "import pymysql\n",
    "\n",
    "host='YOUR HOST NAME'\n",
    "port= YOUR PORT NUMBER (INT)\n",
    "user='YOUR USER NAME'\n",
    "password='YOUR PASSWORD'\n",
    "database='YOUR DATABASE NAME'\n",
    "\n",
    "#Connect to AWS RDS\n",
    "try:\n",
    "    connection = pymysql.connect(host=host,\n",
    "                                 port=port,\n",
    "                                 user=user,\n",
    "                                 password=password,\n",
    "                                 database=database)\n",
    "except pymysql.MySQLError as e:\n",
    "    logger.error(\"ERROR: Unexpected error: Could not connect to MySQL instance.\")\n",
    "    logger.error(e)\n",
    "    sys.exit()\n"
   ]
  }
 ],
 "metadata": {
  "kernelspec": {
   "display_name": "datastuff",
   "language": "python",
   "name": "datastuff"
  },
  "language_info": {
   "codemirror_mode": {
    "name": "ipython",
    "version": 3
   },
   "file_extension": ".py",
   "mimetype": "text/x-python",
   "name": "python",
   "nbconvert_exporter": "python",
   "pygments_lexer": "ipython3",
   "version": "3.6.9"
  }
 },
 "nbformat": 4,
 "nbformat_minor": 5
}
