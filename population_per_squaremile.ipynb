{
 "cells": [
  {
   "cell_type": "code",
   "execution_count": 164,
   "id": "1dccb27f",
   "metadata": {},
   "outputs": [],
   "source": [
    "import pandas as pd\n",
    "import numpy as np\n",
    "import matplotlib.pyplot as plt\n",
    "import seaborn as sns\n",
    "from scipy import stats\n",
    "\n",
    "table_MN = pd.read_html('https://www.infoplease.com/world/population/population-density-square-mile-countries')\n",
    "df = table_MN[0]"
   ]
  },
  {
   "cell_type": "code",
   "execution_count": 166,
   "id": "533a0911",
   "metadata": {
    "scrolled": true
   },
   "outputs": [],
   "source": [
    "df1 = df[['Country','Population','Land area (sq mi)','Density per sq mi']]\n",
    "df2 = df[['Country.1','Population.1','Land area (sq mi).1','Density per sq mi.1']]\n",
    "df2 = df2.rename({'Country.1': 'Country', \n",
    "                  'Population.1': 'Population', \n",
    "                  'Land area (sq mi).1': 'Land area (sq mi)', \n",
    "                  'Density per sq mi.1': 'Density per sq mi'}, axis='columns')\n",
    "df2.index += 114 "
   ]
  },
  {
   "cell_type": "code",
   "execution_count": 167,
   "id": "43112bea",
   "metadata": {},
   "outputs": [],
   "source": [
    "df_popdens = pd.concat([df1, df2])\n",
    "df_popdens[112:116]\n",
    "df_popdens = df_popdens.set_index(\"Country\")"
   ]
  },
  {
   "cell_type": "code",
   "execution_count": 168,
   "id": "894a4944",
   "metadata": {},
   "outputs": [
    {
     "data": {
      "text/html": [
       "<div>\n",
       "<style scoped>\n",
       "    .dataframe tbody tr th:only-of-type {\n",
       "        vertical-align: middle;\n",
       "    }\n",
       "\n",
       "    .dataframe tbody tr th {\n",
       "        vertical-align: top;\n",
       "    }\n",
       "\n",
       "    .dataframe thead th {\n",
       "        text-align: right;\n",
       "    }\n",
       "</style>\n",
       "<table border=\"1\" class=\"dataframe\">\n",
       "  <thead>\n",
       "    <tr style=\"text-align: right;\">\n",
       "      <th></th>\n",
       "      <th>Population</th>\n",
       "      <th>Land area (sq mi)</th>\n",
       "      <th>Density per sq mi</th>\n",
       "    </tr>\n",
       "    <tr>\n",
       "      <th>Country</th>\n",
       "      <th></th>\n",
       "      <th></th>\n",
       "      <th></th>\n",
       "    </tr>\n",
       "  </thead>\n",
       "  <tbody>\n",
       "    <tr>\n",
       "      <th>Macau S.A.R.</th>\n",
       "      <td>453125</td>\n",
       "      <td>6.0</td>\n",
       "      <td>73350.0</td>\n",
       "    </tr>\n",
       "  </tbody>\n",
       "</table>\n",
       "</div>"
      ],
      "text/plain": [
       "              Population  Land area (sq mi)  Density per sq mi\n",
       "Country                                                       \n",
       "Macau S.A.R.      453125                6.0            73350.0"
      ]
     },
     "execution_count": 168,
     "metadata": {},
     "output_type": "execute_result"
    }
   ],
   "source": [
    "df_popdens.sort_values(['Density per sq mi'], ascending=False).head(1)"
   ]
  },
  {
   "cell_type": "code",
   "execution_count": 169,
   "id": "e8488cec",
   "metadata": {},
   "outputs": [
    {
     "data": {
      "text/plain": [
       "<AxesSubplot:>"
      ]
     },
     "execution_count": 169,
     "metadata": {},
     "output_type": "execute_result"
    },
    {
     "data": {
      "image/png": "[encoded data removed]",
      "text/plain": [
       "<Figure size 1440x72 with 1 Axes>"
      ]
     },
     "metadata": {
      "needs_background": "light"
     },
     "output_type": "display_data"
    }
   ],
   "source": [
    "df_popdens['Density per sq mi'].plot(kind='box', vert=False, figsize=(20,1))"
   ]
  },
  {
   "cell_type": "code",
   "execution_count": 170,
   "id": "7595264f",
   "metadata": {},
   "outputs": [],
   "source": [
    "df4 = df_popdens[(np.abs(stats.zscore(df3['Density per sq mi'])) < 3)]"
   ]
  },
  {
   "cell_type": "code",
   "execution_count": 182,
   "id": "d0c0da3c",
   "metadata": {},
   "outputs": [
    {
     "data": {
      "text/plain": [
       "<AxesSubplot:>"
      ]
     },
     "execution_count": 182,
     "metadata": {},
     "output_type": "execute_result"
    },
    {
     "data": {
      "image/png": "[encoded data removed]",
      "text/plain": [
       "<Figure size 1440x72 with 1 Axes>"
      ]
     },
     "metadata": {
      "needs_background": "light"
     },
     "output_type": "display_data"
    }
   ],
   "source": [
    "df4['Density per sq mi'].plot(kind='box', vert=False, figsize=(20,1))"
   ]
  },
  {
   "cell_type": "code",
   "execution_count": 180,
   "id": "58a97d6a",
   "metadata": {
    "scrolled": false
   },
   "outputs": [
    {
     "data": {
      "text/plain": [
       "Text(0, 0.5, 'Flights')"
      ]
     },
     "execution_count": 180,
     "metadata": {},
     "output_type": "execute_result"
    },
    {
     "data": {
      "image/png": "[encoded data removed]",
      "text/plain": [
       "<Figure size 432x288 with 1 Axes>"
      ]
     },
     "metadata": {
      "needs_background": "light"
     },
     "output_type": "display_data"
    }
   ],
   "source": [
    "# matplotlib histogram\n",
    "plt.hist(df4['Density per sq mi'], color = 'blue', edgecolor = 'black', bins = int(180/5))\n",
    "\n",
    "# seaborn histogram\n",
    "sns.distplot(df4['Density per sq mi'], hist=True, kde=False, \n",
    "             bins=int(180/5), color = 'blue',\n",
    "             hist_kws={'edgecolor':'black'})\n",
    "# Add labels\n",
    "plt.title('Histogram of Arrival Delays')\n",
    "plt.xlabel('Delay (min)')\n",
    "plt.ylabel('Flights')"
   ]
  },
  {
   "cell_type": "code",
   "execution_count": 173,
   "id": "ad934206",
   "metadata": {},
   "outputs": [
    {
     "data": {
      "text/html": [
       "<div>\n",
       "<style scoped>\n",
       "    .dataframe tbody tr th:only-of-type {\n",
       "        vertical-align: middle;\n",
       "    }\n",
       "\n",
       "    .dataframe tbody tr th {\n",
       "        vertical-align: top;\n",
       "    }\n",
       "\n",
       "    .dataframe thead th {\n",
       "        text-align: right;\n",
       "    }\n",
       "</style>\n",
       "<table border=\"1\" class=\"dataframe\">\n",
       "  <thead>\n",
       "    <tr style=\"text-align: right;\">\n",
       "      <th></th>\n",
       "      <th>TotCases</th>\n",
       "      <th>NewCases</th>\n",
       "      <th>TotDeaths</th>\n",
       "      <th>NewDeaths</th>\n",
       "      <th>TotalRecovered</th>\n",
       "      <th>ActiveCases</th>\n",
       "      <th>SeriousCases</th>\n",
       "      <th>CasesPer1MPop</th>\n",
       "      <th>DeathsPer1MPop</th>\n",
       "      <th>TotTests</th>\n",
       "      <th>TestsPer1MPop</th>\n",
       "      <th>Population</th>\n",
       "    </tr>\n",
       "    <tr>\n",
       "      <th>Country</th>\n",
       "      <th></th>\n",
       "      <th></th>\n",
       "      <th></th>\n",
       "      <th></th>\n",
       "      <th></th>\n",
       "      <th></th>\n",
       "      <th></th>\n",
       "      <th></th>\n",
       "      <th></th>\n",
       "      <th></th>\n",
       "      <th></th>\n",
       "      <th></th>\n",
       "    </tr>\n",
       "  </thead>\n",
       "  <tbody>\n",
       "    <tr>\n",
       "      <th>World</th>\n",
       "      <td>149,637,489</td>\n",
       "      <td>310.999</td>\n",
       "      <td>3,153,202</td>\n",
       "      <td>4.987</td>\n",
       "      <td>127,719,954</td>\n",
       "      <td>18,764,333</td>\n",
       "      <td>111.144</td>\n",
       "      <td>19.197</td>\n",
       "      <td>404.5</td>\n",
       "      <td>NaN</td>\n",
       "      <td>NaN</td>\n",
       "      <td>NaN</td>\n",
       "    </tr>\n",
       "    <tr>\n",
       "      <th>USA</th>\n",
       "      <td>32,928,354</td>\n",
       "      <td>1.263</td>\n",
       "      <td>587.406</td>\n",
       "      <td>22</td>\n",
       "      <td>25,521,931</td>\n",
       "      <td>6,819,017</td>\n",
       "      <td>9.866</td>\n",
       "      <td>99.004</td>\n",
       "      <td>1.766</td>\n",
       "      <td>442,238,982</td>\n",
       "      <td>1,329,660</td>\n",
       "      <td>332,595,570</td>\n",
       "    </tr>\n",
       "  </tbody>\n",
       "</table>\n",
       "</div>"
      ],
      "text/plain": [
       "            TotCases NewCases  TotDeaths NewDeaths TotalRecovered ActiveCases  \\\n",
       "Country                                                                         \n",
       "World    149,637,489  310.999  3,153,202     4.987    127,719,954  18,764,333   \n",
       "USA       32,928,354    1.263    587.406        22     25,521,931   6,819,017   \n",
       "\n",
       "        SeriousCases CasesPer1MPop DeathsPer1MPop     TotTests TestsPer1MPop  \\\n",
       "Country                                                                        \n",
       "World        111.144        19.197          404.5          NaN           NaN   \n",
       "USA            9.866        99.004          1.766  442,238,982     1,329,660   \n",
       "\n",
       "          Population  \n",
       "Country               \n",
       "World            NaN  \n",
       "USA      332,595,570  "
      ]
     },
     "execution_count": 173,
     "metadata": {},
     "output_type": "execute_result"
    }
   ],
   "source": [
    "df_corona = pd.read_excel(\"corona_stats.xls\")\n",
    "df_corona = df_corona.rename(\n",
    "    columns={\n",
    "        'Country,': 'Country',\n",
    "        'Total': 'TotCases',\n",
    "        'New': 'NewCases',\n",
    "        'Total.1': 'TotDeaths',\n",
    "        'New.1': 'NewDeaths',\n",
    "        'Total.2': 'TotalRecovered',\n",
    "        'Active': 'ActiveCases',\n",
    "        'Serious,': 'SeriousCases',\n",
    "        'TotCases': 'CasesPer1MPop',\n",
    "        'Deaths/': 'DeathsPer1MPop',\n",
    "        'Total.3': 'TotTests',\n",
    "        'Tests/': 'TestsPer1MPop',\n",
    "        'Population': 'Population'\n",
    "    })\n",
    "df_corona = df_corona.shift(-1)\n",
    "df_corona = df_corona.drop('Unnamed: 0', 1)\n",
    "df_corona = df_corona.set_index(\"Country\")\n",
    "df_corona.head(2)"
   ]
  },
  {
   "cell_type": "code",
   "execution_count": 174,
   "id": "2a6d167a",
   "metadata": {},
   "outputs": [],
   "source": [
    "df = pd.merge(df_popdens, df_corona, left_index=True, right_index=True)"
   ]
  },
  {
   "cell_type": "code",
   "execution_count": 175,
   "id": "75d30403",
   "metadata": {
    "scrolled": true
   },
   "outputs": [],
   "source": [
    "df.head(3)\n",
    "df=df[(np.abs(stats.zscore(df['Density per sq mi'])) < 3)]"
   ]
  },
  {
   "cell_type": "code",
   "execution_count": 176,
   "id": "43f9e0ea",
   "metadata": {},
   "outputs": [
    {
     "data": {
      "image/png": "[encoded data removed]",
      "text/plain": [
       "<Figure size 1296x576 with 1 Axes>"
      ]
     },
     "metadata": {
      "needs_background": "light"
     },
     "output_type": "display_data"
    }
   ],
   "source": [
    "fig, ax = plt.subplots(figsize=(18,8))\n",
    "ax.scatter(df['Density per sq mi'], df['CasesPer1MPop'], color='orange', alpha =0.4)\n",
    "ax.set_facecolor(\"#3F495A\")"
   ]
  },
  {
   "cell_type": "code",
   "execution_count": 177,
   "id": "8f3501ce",
   "metadata": {},
   "outputs": [
    {
     "data": {
      "image/png": "[encoded data removed]",
      "text/plain": [
       "<Figure size 1296x576 with 1 Axes>"
      ]
     },
     "metadata": {
      "needs_background": "light"
     },
     "output_type": "display_data"
    }
   ],
   "source": [
    "fig, ax = plt.subplots(figsize=(18,8))\n",
    "ax.scatter(df['Density per sq mi'], df['DeathsPer1MPop'], color='orange', alpha =0.4)\n",
    "ax.set_facecolor(\"#3F495A\")"
   ]
  },
  {
   "cell_type": "code",
   "execution_count": null,
   "id": "dc5fd23c",
   "metadata": {},
   "outputs": [],
   "source": []
  },
  {
   "cell_type": "code",
   "execution_count": null,
   "id": "a09234c2",
   "metadata": {},
   "outputs": [],
   "source": []
  }
 ],
 "metadata": {
  "kernelspec": {
   "display_name": "Python 3",
   "language": "python",
   "name": "python3"
  },
  "language_info": {
   "codemirror_mode": {
    "name": "ipython",
    "version": 3
   },
   "file_extension": ".py",
   "mimetype": "text/x-python",
   "name": "python",
   "nbconvert_exporter": "python",
   "pygments_lexer": "ipython3",
   "version": "3.8.5"
  }
 },
 "nbformat": 4,
 "nbformat_minor": 5
}
