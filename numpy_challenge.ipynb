{
 "cells": [
  {
   "cell_type": "code",
   "execution_count": 123,
   "id": "6150515f",
   "metadata": {},
   "outputs": [],
   "source": [
    "import numpy as np\n",
    "\n",
    "def calculate(my_list):   \n",
    "    try:\n",
    "        #get matrix\n",
    "        np_array=np.asarray(my_list)\n",
    "        matrix = np_array.reshape(3, 3)\n",
    "        #mean \n",
    "        column_mean = list(matrix.mean(axis=0))\n",
    "        row_mean = list(matrix.mean(axis=1))\n",
    "        total_mean = matrix.mean()\n",
    "        #variance\n",
    "        column_var = list(matrix.var(axis=0))\n",
    "        row_var = list(matrix.var(axis=1))\n",
    "        total_var = matrix.var()\n",
    "        #standard deviation\n",
    "        column_stdev = list(matrix.std(axis=0))\n",
    "        row_stdev = list(matrix.std(axis=1))\n",
    "        total_stdev = matrix.std()\n",
    "        #max\n",
    "        column_max = list(matrix.max(axis=0))\n",
    "        row_max = list(matrix.max(axis=1))\n",
    "        total_max = matrix.max()\n",
    "        #min\n",
    "        column_min = list(matrix.min(axis=0))\n",
    "        row_min = list(matrix.min(axis=1))\n",
    "        total_min = matrix.min()\n",
    "        #sum\n",
    "        column_sum = list(matrix.sum(axis=0))\n",
    "        row_sum = list(matrix.sum(axis=1))\n",
    "        total_sum = matrix.sum()\n",
    "        \n",
    "        calculations = {'mean': [column_mean, row_mean, total_mean],\n",
    "                        'variance': [column_var, row_var, total_var],\n",
    "                        'standard deviation': [column_stdev, row_stdev, total_stdev],\n",
    "                        'max': [column_max, row_max, total_max],\n",
    "                        'min': [column_min, row_min, total_min],\n",
    "                        'sum': [column_sum, row_sum, total_sum]\n",
    "                       }\n",
    "    except ValueError:\n",
    "        raise ValueError(\"List must contain nine numbers.\")\n",
    "    return calculations"
   ]
  },
  {
   "cell_type": "code",
   "execution_count": 128,
   "id": "899ac54f",
   "metadata": {},
   "outputs": [
    {
     "data": {
      "text/plain": [
       "{'mean': [[4.0, 3.3333333333333335, 5.333333333333333],\n",
       "  [1.0, 4.0, 7.666666666666667],\n",
       "  4.222222222222222],\n",
       " 'variance': [[10.666666666666666, 6.888888888888888, 6.222222222222221],\n",
       "  [0.6666666666666666, 2.6666666666666665, 0.22222222222222224],\n",
       "  8.617283950617285],\n",
       " 'standard deviation': [[3.265986323710904,\n",
       "   2.6246692913372702,\n",
       "   2.494438257849294],\n",
       "  [0.816496580927726, 1.632993161855452, 0.4714045207910317],\n",
       "  2.9355210696939795],\n",
       " 'max': [[8, 7, 8], [2, 6, 8], 8],\n",
       " 'min': [[0, 1, 2], [0, 2, 7], 0],\n",
       " 'sum': [[12, 10, 16], [3, 12, 23], 38]}"
      ]
     },
     "execution_count": 128,
     "metadata": {},
     "output_type": "execute_result"
    }
   ],
   "source": [
    "my_list = [0,1,2,4,2,6,8,7,8]\n",
    "calculate(my_list)"
   ]
  },
  {
   "cell_type": "code",
   "execution_count": null,
   "id": "d42df986",
   "metadata": {},
   "outputs": [],
   "source": []
  }
 ],
 "metadata": {
  "kernelspec": {
   "display_name": "datamining",
   "language": "python",
   "name": "datamining"
  },
  "language_info": {
   "codemirror_mode": {
    "name": "ipython",
    "version": 3
   },
   "file_extension": ".py",
   "mimetype": "text/x-python",
   "name": "python",
   "nbconvert_exporter": "python",
   "pygments_lexer": "ipython3",
   "version": "3.9.5"
  }
 },
 "nbformat": 4,
 "nbformat_minor": 5
}
