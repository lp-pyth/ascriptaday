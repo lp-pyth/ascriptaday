{
 "cells": [
  {
   "cell_type": "code",
   "execution_count": 131,
   "metadata": {},
   "outputs": [],
   "source": [
    "import wikipedia as wiki\n",
    "from bs4 import BeautifulSoup as soup\n",
    "import requests"
   ]
  },
  {
   "cell_type": "code",
   "execution_count": 132,
   "metadata": {},
   "outputs": [
    {
     "name": "stdout",
     "output_type": "stream",
     "text": [
      "[<span class=\"noprint ForceAgeToShow\"> (age 59)</span>]\n"
     ]
    }
   ],
   "source": [
    "#get html from wiki and age\n",
    "Web = requests.get('https://en.wikipedia.org/wiki/Barack_Obama')\n",
    "s = soup(Web.text, 'html')\n",
    "#print(s.prettify())\n",
    "bday = s.find_all('span', {'class' : 'noprint ForceAgeToShow'})\n",
    "age = s.find_all('span', {'class' : 'noprint ForceAgeToShow'})\n",
    "print(age)"
   ]
  },
  {
   "cell_type": "code",
   "execution_count": 133,
   "metadata": {
    "scrolled": true
   },
   "outputs": [],
   "source": [
    "#get parsed wiki data from dbpedia - https://dbpedia.org/page/Barack_Obama\n",
    "data = requests.get('http://dbpedia.org/data/Barack_Obama.json').json()\n",
    "person = data['http://dbpedia.org/resource/Barack_Obama']\n",
    "#for key in sorted(person): print(key)"
   ]
  },
  {
   "cell_type": "code",
   "execution_count": 134,
   "metadata": {
    "scrolled": true
   },
   "outputs": [
    {
     "name": "stdout",
     "output_type": "stream",
     "text": [
      "Barack Obama , Honolulu, Hawaii, U.S. , 1961-08-04\n"
     ]
    }
   ],
   "source": [
    "name = wiki.page(\"Obama\").title\n",
    "birthplace = person['http://dbpedia.org/property/birthPlace'][0]['value']\n",
    "bday = person['http://dbpedia.org/ontology/birthDate'][0]['value']\n",
    "print(name, ',', birthplace, ',', bday)"
   ]
  },
  {
   "cell_type": "code",
   "execution_count": 135,
   "metadata": {
    "scrolled": true
   },
   "outputs": [
    {
     "name": "stdout",
     "output_type": "stream",
     "text": [
      "Age:  59\n"
     ]
    }
   ],
   "source": [
    "#calculate age\n",
    "from datetime import date\n",
    "\n",
    "def calculate_age(dtob):\n",
    "    today = date.today()\n",
    "    return today.year - dtob.year - ((today.month, today.day) < (dtob.month, dtob.day))\n",
    "\n",
    "year = int(bday[0:4])\n",
    "month = int(bday[5:7])\n",
    "day = int(bday[8:10])\n",
    "print(\"Age: \", calculate_age(date(year,month,day)))"
   ]
  },
  {
   "cell_type": "code",
   "execution_count": null,
   "metadata": {},
   "outputs": [],
   "source": []
  }
 ],
 "metadata": {
  "kernelspec": {
   "display_name": "Python [conda env:wiki]",
   "language": "python",
   "name": "conda-env-wiki-py"
  },
  "language_info": {
   "codemirror_mode": {
    "name": "ipython",
    "version": 3
   },
   "file_extension": ".py",
   "mimetype": "text/x-python",
   "name": "python",
   "nbconvert_exporter": "python",
   "pygments_lexer": "ipython3",
   "version": "3.9.2"
  }
 },
 "nbformat": 4,
 "nbformat_minor": 4
}
