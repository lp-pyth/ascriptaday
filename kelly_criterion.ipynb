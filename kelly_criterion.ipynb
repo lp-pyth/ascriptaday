{
 "cells": [
  {
   "cell_type": "code",
   "execution_count": 3,
   "id": "94846cf6-2712-45cd-af87-727e01c27438",
   "metadata": {},
   "outputs": [],
   "source": [
    "win_perc=0.1\n",
    "loss_perc=0.2\n",
    "winn_prob=0.8\n",
    "winlossratio = win_perc/loss_perc"
   ]
  },
  {
   "cell_type": "code",
   "execution_count": 4,
   "id": "4c8c8138-ad5c-4a8b-a932-17f090dba1f9",
   "metadata": {},
   "outputs": [
    {
     "data": {
      "text/plain": [
       "0.40000000000000013"
      ]
     },
     "execution_count": 4,
     "metadata": {},
     "output_type": "execute_result"
    }
   ],
   "source": [
    "kelly_perc = winn_prob - ((1-winn_prob) / winlossratio) \n",
    "kelly_perc"
   ]
  }
 ],
 "metadata": {
  "kernelspec": {
   "display_name": "hitbtc",
   "language": "python",
   "name": "hitbtc"
  },
  "language_info": {
   "codemirror_mode": {
    "name": "ipython",
    "version": 3
   },
   "file_extension": ".py",
   "mimetype": "text/x-python",
   "name": "python",
   "nbconvert_exporter": "python",
   "pygments_lexer": "ipython3",
   "version": "3.9.4"
  }
 },
 "nbformat": 4,
 "nbformat_minor": 5
}
