{
 "cells": [
  {
   "cell_type": "code",
   "execution_count": 29,
   "id": "3c50d283",
   "metadata": {},
   "outputs": [
    {
     "name": "stdout",
     "output_type": "stream",
     "text": [
      "<Response [200]>\n",
      "Request is successful.\n"
     ]
    }
   ],
   "source": [
    "#https://rapidapi.com/blog/how-to-build-an-api-in-python/\n",
    "import requests\n",
    "response = requests.get('https://google.com/')\n",
    "print(response)\n",
    "if response:\n",
    "    print('Request is successful.')\n",
    "else:\n",
    "    print('Request returned an error.')"
   ]
  },
  {
   "cell_type": "code",
   "execution_count": 30,
   "id": "b3d78447",
   "metadata": {},
   "outputs": [],
   "source": [
    "from flask import Flask\n",
    "from flask_restful import Api, Resource, reqparse\n",
    "import random\n",
    "app = Flask(__name__)\n",
    "api = Api(app)"
   ]
  },
  {
   "cell_type": "code",
   "execution_count": 31,
   "id": "bd074f35",
   "metadata": {},
   "outputs": [],
   "source": [
    "ai_quotes = [\n",
    "    {\n",
    "        \"id\": 0,\n",
    "        \"author\": \"Kevin Kelly\",\n",
    "        \"quote\": \"The business plans of the next 10,000 startups are easy to forecast: \" +\n",
    "                 \"Take X and add AI.\" \n",
    "    },\n",
    "    {\n",
    "        \"id\": 1,\n",
    "        \"author\": \"Stephen Hawking\",\n",
    "        \"quote\": \"The development of full artificial intelligence could \" +\n",
    "                 \"spell the end of the human race…. \" +\n",
    "                 \"It would take off on its own, and re-design \" +\n",
    "                 \"itself at an ever increasing rate. \" +\n",
    "                 \"Humans, who are limited by slow biological evolution, \" + \n",
    "                 \"couldn't compete, and would be superseded.\"\n",
    "    },\n",
    "    {\n",
    "        \"id\": 2,\n",
    "        \"author\": \"Claude Shannon\",\n",
    "        \"quote\": \"I visualize a time when we will be to robots what \" +\n",
    "                 \"dogs are to humans, \" + \n",
    "                 \"and I’m rooting for the machines.\"\n",
    "    },\n",
    "    {\n",
    "        \"id\": 3,\n",
    "        \"author\": \"Elon Musk\",\n",
    "        \"quote\": \"The pace of progress in artificial intelligence \" +\n",
    "                 \"(I’m not referring to narrow AI) \" +\n",
    "                 \"is incredibly fast. Unless you have direct \" +\n",
    "                 \"exposure to groups like Deepmind, \" +\n",
    "                 \"you have no idea how fast—it is growing \" + \n",
    "                 \"at a pace close to exponential. \" +\n",
    "                 \"The risk of something seriously dangerous \" +\n",
    "                 \"happening is in the five-year timeframe.\" + \n",
    "                 \"10 years at most.\"\n",
    "\n",
    "    },\n",
    "    {\n",
    "        \"id\": 4,\n",
    "        \"author\": \"Geoffrey Hinton\",\n",
    "        \"quote\": \"I have always been convinced that the only way \" +\n",
    "                 \"to get artificial intelligence to work \" + \n",
    "                 \"is to do the computation in a way similar to the human brain. \" +\n",
    "                 \"That is the goal I have been pursuing. We are making progress, \" +\n",
    "                 \"though we still have lots to learn about \" +\n",
    "                 \"how the brain actually works.\"\n",
    "    },\n",
    "    {\n",
    "        \"id\": 5,\n",
    "        \"author\": \"Pedro Domingos\",\n",
    "        \"quote\": \"People worry that computers will \" +\n",
    "                 \"get too smart and take over the world, \" + \n",
    "                 \"but the real problem is that they're too stupid \" +\n",
    "                 \"and they've already taken over the world.\"\n",
    "    },\n",
    "    {\n",
    "        \"id\": 6,\n",
    "        \"author\": \"Alan Turing\",\n",
    "        \"quote\": \"It seems probable that once the machine thinking \" +\n",
    "                 \"method had started, it would not take long \" +\n",
    "                 \"to outstrip our feeble powers… \" +\n",
    "                 \"They would be able to converse \" +\n",
    "                 \"with each other to sharpen their wits. \" +\n",
    "                 \"At some stage therefore, we should \" +\n",
    "                 \"have to expect the machines to take control.\"\n",
    "    },\n",
    "    {\n",
    "        \"id\": 7,\n",
    "        \"author\": \"Ray Kurzweil\",\n",
    "        \"quote\": \"Artificial intelligence will reach \" +\n",
    "                 \"human levels by around 2029. \" + \n",
    "                 \"Follow that out further to, say, 2045, \" +\n",
    "                 \"we will have multiplied the intelligence, \" + \n",
    "                 \"the human biological machine intelligence \" +\n",
    "                 \"of our civilization a billion-fold.\"\n",
    "    },\n",
    "    {\n",
    "        \"id\": 8,\n",
    "        \"author\": \"Sebastian Thrun\",\n",
    "        \"quote\": \"Nobody phrases it this way, but I think \" +\n",
    "                 \"that artificial intelligence \" +\n",
    "                 \"is almost a humanities discipline. It's really an attempt \" +\n",
    "                 \"to understand human intelligence and human cognition.\"\n",
    "    },\n",
    "    {\n",
    "        \"id\": 9,\n",
    "        \"author\": \"Andrew Ng\",\n",
    "        \"quote\": \"We're making this analogy that AI is the new electricity.\" + \n",
    "                 \"Electricity transformed industries: agriculture, \" +\n",
    "                 \"transportation, communication, manufacturing.\"\n",
    "    }\n",
    "]"
   ]
  },
  {
   "cell_type": "code",
   "execution_count": 32,
   "id": "c8c8c49e",
   "metadata": {},
   "outputs": [],
   "source": [
    "class Quote(Resource):\n",
    "\n",
    "    def get(self, id=0):\n",
    "        if id == 0:\n",
    "            return random.choice(ai_quotes), 200\n",
    "\n",
    "        for quote in ai_quotes:\n",
    "            if(quote[\"id\"] == id):\n",
    "                return quote, 200\n",
    "        return \"Quote not found\", 404"
   ]
  },
  {
   "cell_type": "code",
   "execution_count": 33,
   "id": "0c090f46",
   "metadata": {},
   "outputs": [],
   "source": [
    "def post(self, id):\n",
    "    parser = reqparse.RequestParser()\n",
    "    parser.add_argument(\"author\")\n",
    "    parser.add_argument(\"quote\")\n",
    "    params = parser.parse_args()\n",
    "\n",
    "    for quote in ai_quotes:\n",
    "        if(id == quote[\"id\"]):\n",
    "            return f\"Quote with id {id} already exists\", 400\n",
    "\n",
    "    quote = {\n",
    "      \"id\": int(id),\n",
    "      \"author\": params[\"author\"],\n",
    "      \"quote\": params[\"quote\"]\n",
    "    }\n",
    "\n",
    "    ai_quotes.append(quote)\n",
    "    return quote, 201"
   ]
  },
  {
   "cell_type": "code",
   "execution_count": 34,
   "id": "741370c4",
   "metadata": {},
   "outputs": [],
   "source": [
    "def put(self, id):\n",
    "    parser = reqparse.RequestParser()\n",
    "    parser.add_argument(\"author\")\n",
    "    parser.add_argument(\"quote\")\n",
    "    params = parser.parse_args()\n",
    "\n",
    "    for quote in ai_quotes:\n",
    "        if(id == quote[\"id\"]):\n",
    "            quote[\"author\"] = params[\"author\"]\n",
    "            quote[\"quote\"] = params[\"quote\"]\n",
    "            return quote, 200\n",
    "\n",
    "    quote = {\n",
    "      \"id\": id,\n",
    "      \"author\": params[\"author\"],\n",
    "      \"quote\": params[\"quote\"]\n",
    "    }\n",
    "\n",
    "    ai_quotes.append(quote)\n",
    "    return quote, 201"
   ]
  },
  {
   "cell_type": "code",
   "execution_count": 35,
   "id": "966b20bd",
   "metadata": {},
   "outputs": [],
   "source": [
    "def delete(self, id):\n",
    "    global ai_quotes\n",
    "    ai_quotes = [qoute for qoute in ai_quotes if qoute[\"id\"] != id]\n",
    "    return f\"Quote with id {id} is deleted.\", 200"
   ]
  },
  {
   "cell_type": "code",
   "execution_count": 36,
   "id": "f062c31a",
   "metadata": {
    "collapsed": true
   },
   "outputs": [
    {
     "name": "stderr",
     "output_type": "stream",
     "text": [
      "Traceback (most recent call last):\n",
      "  File \"C:\\Users\\lux\\anaconda3\\envs\\datamining\\lib\\site-packages\\gevent\\_ffi\\loop.py\", line 270, in python_check_callback\n",
      "    def python_check_callback(self, watcher_ptr): # pylint:disable=unused-argument\n",
      "KeyboardInterrupt\n",
      "2021-06-24T17:04:20Z\n"
     ]
    },
    {
     "ename": "KeyboardInterrupt",
     "evalue": "",
     "output_type": "error",
     "traceback": [
      "\u001b[1;31m---------------------------------------------------------------------------\u001b[0m",
      "\u001b[1;31mKeyboardInterrupt\u001b[0m                         Traceback (most recent call last)",
      "\u001b[1;32m<ipython-input-36-8206393b0ce9>\u001b[0m in \u001b[0;36m<module>\u001b[1;34m\u001b[0m\n\u001b[0;32m     13\u001b[0m     \u001b[1;31m# Production\u001b[0m\u001b[1;33m\u001b[0m\u001b[1;33m\u001b[0m\u001b[1;33m\u001b[0m\u001b[0m\n\u001b[0;32m     14\u001b[0m     \u001b[0mhttp_server\u001b[0m \u001b[1;33m=\u001b[0m \u001b[0mWSGIServer\u001b[0m\u001b[1;33m(\u001b[0m\u001b[1;33m(\u001b[0m\u001b[1;34m''\u001b[0m\u001b[1;33m,\u001b[0m \u001b[1;36m5000\u001b[0m\u001b[1;33m)\u001b[0m\u001b[1;33m,\u001b[0m \u001b[0mapp\u001b[0m\u001b[1;33m)\u001b[0m\u001b[1;33m\u001b[0m\u001b[1;33m\u001b[0m\u001b[0m\n\u001b[1;32m---> 15\u001b[1;33m     \u001b[0mhttp_server\u001b[0m\u001b[1;33m.\u001b[0m\u001b[0mserve_forever\u001b[0m\u001b[1;33m(\u001b[0m\u001b[1;33m)\u001b[0m\u001b[1;33m\u001b[0m\u001b[1;33m\u001b[0m\u001b[0m\n\u001b[0m",
      "\u001b[1;32m~\\anaconda3\\envs\\datamining\\lib\\site-packages\\gevent\\baseserver.py\u001b[0m in \u001b[0;36mserve_forever\u001b[1;34m(self, stop_timeout)\u001b[0m\n\u001b[0;32m    398\u001b[0m             \u001b[0mself\u001b[0m\u001b[1;33m.\u001b[0m\u001b[0mstart\u001b[0m\u001b[1;33m(\u001b[0m\u001b[1;33m)\u001b[0m\u001b[1;33m\u001b[0m\u001b[1;33m\u001b[0m\u001b[0m\n\u001b[0;32m    399\u001b[0m         \u001b[1;32mtry\u001b[0m\u001b[1;33m:\u001b[0m\u001b[1;33m\u001b[0m\u001b[1;33m\u001b[0m\u001b[0m\n\u001b[1;32m--> 400\u001b[1;33m             \u001b[0mself\u001b[0m\u001b[1;33m.\u001b[0m\u001b[0m_stop_event\u001b[0m\u001b[1;33m.\u001b[0m\u001b[0mwait\u001b[0m\u001b[1;33m(\u001b[0m\u001b[1;33m)\u001b[0m\u001b[1;33m\u001b[0m\u001b[1;33m\u001b[0m\u001b[0m\n\u001b[0m\u001b[0;32m    401\u001b[0m         \u001b[1;32mfinally\u001b[0m\u001b[1;33m:\u001b[0m\u001b[1;33m\u001b[0m\u001b[1;33m\u001b[0m\u001b[0m\n\u001b[0;32m    402\u001b[0m             \u001b[0mGreenlet\u001b[0m\u001b[1;33m.\u001b[0m\u001b[0mspawn\u001b[0m\u001b[1;33m(\u001b[0m\u001b[0mself\u001b[0m\u001b[1;33m.\u001b[0m\u001b[0mstop\u001b[0m\u001b[1;33m,\u001b[0m \u001b[0mtimeout\u001b[0m\u001b[1;33m=\u001b[0m\u001b[0mstop_timeout\u001b[0m\u001b[1;33m)\u001b[0m\u001b[1;33m.\u001b[0m\u001b[0mjoin\u001b[0m\u001b[1;33m(\u001b[0m\u001b[1;33m)\u001b[0m\u001b[1;33m\u001b[0m\u001b[1;33m\u001b[0m\u001b[0m\n",
      "\u001b[1;32m~\\anaconda3\\envs\\datamining\\lib\\site-packages\\gevent\\_gevent_cevent.cp39-win_amd64.pyd\u001b[0m in \u001b[0;36mgevent._gevent_cevent.Event.wait\u001b[1;34m()\u001b[0m\n",
      "\u001b[1;32m~\\anaconda3\\envs\\datamining\\lib\\site-packages\\gevent\\_gevent_c_abstract_linkable.cp39-win_amd64.pyd\u001b[0m in \u001b[0;36mgevent._gevent_c_abstract_linkable.AbstractLinkable._wait\u001b[1;34m()\u001b[0m\n",
      "\u001b[1;32m~\\anaconda3\\envs\\datamining\\lib\\site-packages\\gevent\\_gevent_c_abstract_linkable.cp39-win_amd64.pyd\u001b[0m in \u001b[0;36mgevent._gevent_c_abstract_linkable.AbstractLinkable._wait_core\u001b[1;34m()\u001b[0m\n",
      "\u001b[1;32m~\\anaconda3\\envs\\datamining\\lib\\site-packages\\gevent\\_gevent_c_abstract_linkable.cp39-win_amd64.pyd\u001b[0m in \u001b[0;36mgevent._gevent_c_abstract_linkable.AbstractLinkable._wait_core\u001b[1;34m()\u001b[0m\n",
      "\u001b[1;32m~\\anaconda3\\envs\\datamining\\lib\\site-packages\\gevent\\_gevent_c_abstract_linkable.cp39-win_amd64.pyd\u001b[0m in \u001b[0;36mgevent._gevent_c_abstract_linkable.AbstractLinkable._AbstractLinkable__wait_to_be_notified\u001b[1;34m()\u001b[0m\n",
      "\u001b[1;32m~\\anaconda3\\envs\\datamining\\lib\\site-packages\\gevent\\_gevent_c_abstract_linkable.cp39-win_amd64.pyd\u001b[0m in \u001b[0;36mgevent._gevent_c_abstract_linkable.AbstractLinkable._switch_to_hub\u001b[1;34m()\u001b[0m\n",
      "\u001b[1;32m~\\anaconda3\\envs\\datamining\\lib\\site-packages\\gevent\\_gevent_c_greenlet_primitives.cp39-win_amd64.pyd\u001b[0m in \u001b[0;36mgevent._gevent_c_greenlet_primitives.SwitchOutGreenletWithLoop.switch\u001b[1;34m()\u001b[0m\n",
      "\u001b[1;32m~\\anaconda3\\envs\\datamining\\lib\\site-packages\\gevent\\_gevent_c_greenlet_primitives.cp39-win_amd64.pyd\u001b[0m in \u001b[0;36mgevent._gevent_c_greenlet_primitives.SwitchOutGreenletWithLoop.switch\u001b[1;34m()\u001b[0m\n",
      "\u001b[1;32msrc\\\\gevent\\\\_gevent_c_greenlet_primitives.pxd\u001b[0m in \u001b[0;36mgevent._gevent_c_greenlet_primitives._greenlet_switch\u001b[1;34m()\u001b[0m\n",
      "\u001b[1;32m~\\anaconda3\\envs\\datamining\\lib\\site-packages\\gevent\\_ffi\\loop.py\u001b[0m in \u001b[0;36mpython_check_callback\u001b[1;34m(self, watcher_ptr)\u001b[0m\n\u001b[0;32m    268\u001b[0m \u001b[1;33m\u001b[0m\u001b[0m\n\u001b[0;32m    269\u001b[0m     \u001b[1;32mif\u001b[0m \u001b[1;32mnot\u001b[0m \u001b[0mPYPY\u001b[0m\u001b[1;33m:\u001b[0m\u001b[1;33m\u001b[0m\u001b[1;33m\u001b[0m\u001b[0m\n\u001b[1;32m--> 270\u001b[1;33m         \u001b[1;32mdef\u001b[0m \u001b[0mpython_check_callback\u001b[0m\u001b[1;33m(\u001b[0m\u001b[0mself\u001b[0m\u001b[1;33m,\u001b[0m \u001b[0mwatcher_ptr\u001b[0m\u001b[1;33m)\u001b[0m\u001b[1;33m:\u001b[0m \u001b[1;31m# pylint:disable=unused-argument\u001b[0m\u001b[1;33m\u001b[0m\u001b[1;33m\u001b[0m\u001b[0m\n\u001b[0m\u001b[0;32m    271\u001b[0m             \u001b[1;31m# If we have the onerror callback, this is a no-op; all the real\u001b[0m\u001b[1;33m\u001b[0m\u001b[1;33m\u001b[0m\u001b[1;33m\u001b[0m\u001b[0m\n\u001b[0;32m    272\u001b[0m             \u001b[1;31m# work to rethrow the exception is done by the onerror callback\u001b[0m\u001b[1;33m\u001b[0m\u001b[1;33m\u001b[0m\u001b[1;33m\u001b[0m\u001b[0m\n",
      "\u001b[1;31mKeyboardInterrupt\u001b[0m: "
     ]
    }
   ],
   "source": [
    "\"\"\"from flask import Flask\n",
    "from gevent.pywsgi import WSGIServer\n",
    "\n",
    "app = Flask(__name__)\n",
    "\n",
    "@app.route('/api', methods=['GET'])\n",
    "def index():\n",
    "    return \"Hello, World!\"\n",
    "\n",
    "if __name__ == '__main__':\n",
    "    # Debug/Development\n",
    "    # app.run(debug=True, host=\"0.0.0.0\", port=\"5000\")\n",
    "    # Production\n",
    "    http_server = WSGIServer(('', 5000), app)\n",
    "    http_server.serve_forever()\"\"\""
   ]
  },
  {
   "cell_type": "code",
   "execution_count": 37,
   "id": "25a73c6b",
   "metadata": {
    "collapsed": true
   },
   "outputs": [
    {
     "name": "stdout",
     "output_type": "stream",
     "text": [
      " * Serving Flask app '__main__' (lazy loading)\n",
      " * Environment: production\n",
      "\u001b[31m   WARNING: This is a development server. Do not use it in a production deployment.\u001b[0m\n",
      "\u001b[2m   Use a production WSGI server instead.\u001b[0m\n",
      " * Debug mode: on\n"
     ]
    },
    {
     "name": "stderr",
     "output_type": "stream",
     "text": [
      " * Restarting with stat\n"
     ]
    },
    {
     "ename": "SystemExit",
     "evalue": "1",
     "output_type": "error",
     "traceback": [
      "An exception has occurred, use %tb to see the full traceback.\n",
      "\u001b[1;31mSystemExit\u001b[0m\u001b[1;31m:\u001b[0m 1\n"
     ]
    },
    {
     "name": "stderr",
     "output_type": "stream",
     "text": [
      "C:\\Users\\lux\\anaconda3\\envs\\datamining\\lib\\site-packages\\IPython\\core\\interactiveshell.py:3445: UserWarning: To exit: use 'exit', 'quit', or Ctrl-D.\n",
      "  warn(\"To exit: use 'exit', 'quit', or Ctrl-D.\", stacklevel=1)\n"
     ]
    }
   ],
   "source": [
    "api.add_resource(Quote, \"/ai-quotes\", \"/ai-quotes/\", \"/ai-quotes/<int:id>\")\n",
    "\n",
    "if __name__ == '__main__':\n",
    "    app.run(debug=True)"
   ]
  }
 ],
 "metadata": {
  "kernelspec": {
   "display_name": "datamining",
   "language": "python",
   "name": "datamining"
  },
  "language_info": {
   "codemirror_mode": {
    "name": "ipython",
    "version": 3
   },
   "file_extension": ".py",
   "mimetype": "text/x-python",
   "name": "python",
   "nbconvert_exporter": "python",
   "pygments_lexer": "ipython3",
   "version": "3.9.5"
  }
 },
 "nbformat": 4,
 "nbformat_minor": 5
}
