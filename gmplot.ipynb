{
 "cells": [
  {
   "cell_type": "code",
   "execution_count": 23,
   "id": "39ac7cec",
   "metadata": {},
   "outputs": [],
   "source": [
    "import gmplot\n",
    "\n",
    "apikey = '' # (your API key here)\n",
    "gmap = gmplot.GoogleMapPlotter(52.5200, 13.4050, 14, apikey=apikey)\n",
    "\n",
    "# The Museums Island in Berlin:\n",
    "golden_gate_park = zip(*[\n",
    "    (52.522167, 13.393599),\n",
    "    (52.521289, 13.398631),\n",
    "    (52.518740, 13.402060),\n",
    "    (52.514864, 13.406358),\n",
    "    (52.513904, 13.410843),\n",
    "    (52.511973, 13.406919),\n",
    "    (52.511607, 13.404001),\n",
    "    (52.514604, 13.400847),\n",
    "    (52.517490, 13.398862),\n",
    "    (52.519542, 13.397410),\n",
    "    (52.522168, 13.393535)\n",
    "])\n",
    "gmap.polygon(*golden_gate_park, color='cornflowerblue', edge_width=10)\n",
    "\n",
    "# Some museums:\n",
    "attractions_lats, attractions_lngs = zip(*[\n",
    "    (52.521871, 13.394455),\n",
    "    (52.521090, 13.396714),\n",
    "    (52.520899, 13.398174),\n",
    "    (52.520229, 13.397815),\n",
    "    (52.519662, 13.398464)\n",
    "])\n",
    "gmap.scatter(attractions_lats, attractions_lngs, color='#3B0B39', size=40, marker=False)\n",
    "\n",
    "# Draw the map:\n",
    "gmap.draw('map.html')"
   ]
  },
  {
   "cell_type": "code",
   "execution_count": 24,
   "id": "95a8b11d",
   "metadata": {},
   "outputs": [
    {
     "data": {
      "text/html": [
       "\n",
       "        <iframe\n",
       "            width=\"900\"\n",
       "            height=\"600\"\n",
       "            src=\"map.html\"\n",
       "            frameborder=\"0\"\n",
       "            allowfullscreen\n",
       "        ></iframe>\n",
       "        "
      ],
      "text/plain": [
       "<IPython.lib.display.IFrame at 0x1e6cd2f6640>"
      ]
     },
     "execution_count": 24,
     "metadata": {},
     "output_type": "execute_result"
    }
   ],
   "source": [
    "from IPython.display import IFrame\n",
    "IFrame(src='map.html', width=900, height=600)"
   ]
  },
  {
   "cell_type": "code",
   "execution_count": null,
   "id": "84980ffd",
   "metadata": {},
   "outputs": [],
   "source": []
  }
 ],
 "metadata": {
  "kernelspec": {
   "display_name": "datamining",
   "language": "python",
   "name": "datamining"
  }
 },
 "nbformat": 4,
 "nbformat_minor": 5
}
