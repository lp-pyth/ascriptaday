{
 "cells": [
  {
   "cell_type": "code",
   "execution_count": 5,
   "id": "fe9fe6f0",
   "metadata": {},
   "outputs": [],
   "source": [
    "#https://www.webfx.com/tools/emoji-cheat-sheet/\n",
    "#https://pypi.org/project/emoji/\n",
    "import emoji"
   ]
  },
  {
   "cell_type": "code",
   "execution_count": 18,
   "id": "1de3d352",
   "metadata": {},
   "outputs": [
    {
     "data": {
      "text/plain": [
       "'Hungary vs Germany! ⚽ 😎 ⚽'"
      ]
     },
     "execution_count": 18,
     "metadata": {},
     "output_type": "execute_result"
    }
   ],
   "source": [
    "emoji.emojize('Hungary vs Germany! :soccer: :sunglasses: :soccer:', use_aliases=True)"
   ]
  },
  {
   "cell_type": "code",
   "execution_count": 19,
   "id": "78eb460b",
   "metadata": {},
   "outputs": [
    {
     "data": {
      "text/plain": [
       "'in the 84th minuuuuuute! 😂 😂 😂 😂 😂'"
      ]
     },
     "execution_count": 19,
     "metadata": {},
     "output_type": "execute_result"
    }
   ],
   "source": [
    "emoji.emojize('in the 84th minuuuuuute! :joy: :joy: :joy: :joy: :joy:', use_aliases=True)"
   ]
  }
 ],
 "metadata": {
  "kernelspec": {
   "display_name": "datamining",
   "language": "python",
   "name": "datamining"
  },
  "language_info": {
   "codemirror_mode": {
    "name": "ipython",
    "version": 3
   },
   "file_extension": ".py",
   "mimetype": "text/x-python",
   "name": "python",
   "nbconvert_exporter": "python",
   "pygments_lexer": "ipython3",
   "version": "3.9.5"
  }
 },
 "nbformat": 4,
 "nbformat_minor": 5
}
