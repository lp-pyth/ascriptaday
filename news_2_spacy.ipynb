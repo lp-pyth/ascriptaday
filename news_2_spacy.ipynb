{
 "cells": [
  {
   "cell_type": "code",
   "execution_count": 65,
   "metadata": {},
   "outputs": [],
   "source": [
    "import pandas as pd\n",
    "import numpy as np\n",
    "from bs4 import BeautifulSoup as soup\n",
    "import requests\n",
    "from newspaper import Article\n",
    "from newspaper import Config\n",
    "from urllib.request import urlopen\n",
    "import re\n",
    "from collections import Counter\n",
    "c = Counter()  \n",
    "user_agent = 'Mozilla/5.0 (Windows NT 10.0; Win64; x64; rv:87.0) Gecko/20100101 Firefox/87.0'\n",
    "config = Config()\n",
    "config.browser_user_agent = user_agent\n",
    "findword = 'biden'    #What word are you looking for\n",
    "news_url=\"https://news.google.com/news/rss\""
   ]
  },
  {
   "cell_type": "code",
   "execution_count": 66,
   "metadata": {},
   "outputs": [],
   "source": [
    "Client=urlopen(news_url)\n",
    "xml_page=Client.read()\n",
    "Client.close()\n",
    "soup_page=soup(xml_page,\"xml\")\n",
    "news_list=soup_page.findAll(\"item\")\n",
    "\n",
    "def word_search(findword):\n",
    "    search1 = rf'(?i)\\b{findword}\\b'      #r'(?i)\\bbob\\b'  # matches bob, Bob\n",
    "    contents = news.title.text\n",
    "    count = sum(1 for match in re.finditer(search1, contents))\n",
    "    return count"
   ]
  },
  {
   "cell_type": "code",
   "execution_count": 67,
   "metadata": {},
   "outputs": [
    {
     "name": "stdout",
     "output_type": "stream",
     "text": [
      "Total number of articles: 38\n",
      "Number of articles with search term: 2\n"
     ]
    }
   ],
   "source": [
    "article_count = 0\n",
    "d = {}\n",
    "i=0\n",
    "for news in news_list:\n",
    "    if (word_search(findword)) > 0:     \n",
    "        article_count = article_count + 1\n",
    "        d[i]  = news.pubDate.text, news.title.text, news.link.text\n",
    "        i=i+1\n",
    "print('Total number of articles:', len(news_list))\n",
    "print('Number of articles with search term:', article_count)\n",
    "df = pd.DataFrame(data=d)"
   ]
  },
  {
   "cell_type": "code",
   "execution_count": 68,
   "metadata": {},
   "outputs": [],
   "source": [
    "df= df.T\n",
    "df.columns = ['Timestamp','Title','URL']\n",
    "df['Timestamp'] = pd.to_datetime(df['Timestamp'])"
   ]
  },
  {
   "cell_type": "code",
   "execution_count": 69,
   "metadata": {},
   "outputs": [
    {
     "name": "stdout",
     "output_type": "stream",
     "text": [
      "ERROR\n"
     ]
    },
    {
     "data": {
      "text/html": [
       "<div>\n",
       "<style scoped>\n",
       "    .dataframe tbody tr th:only-of-type {\n",
       "        vertical-align: middle;\n",
       "    }\n",
       "\n",
       "    .dataframe tbody tr th {\n",
       "        vertical-align: top;\n",
       "    }\n",
       "\n",
       "    .dataframe thead th {\n",
       "        text-align: right;\n",
       "    }\n",
       "</style>\n",
       "<table border=\"1\" class=\"dataframe\">\n",
       "  <thead>\n",
       "    <tr style=\"text-align: right;\">\n",
       "      <th></th>\n",
       "      <th>Timestamp</th>\n",
       "      <th>Title</th>\n",
       "      <th>URL</th>\n",
       "      <th>Content</th>\n",
       "    </tr>\n",
       "  </thead>\n",
       "  <tbody>\n",
       "    <tr>\n",
       "      <th>0</th>\n",
       "      <td>2021-03-31 15:32:00+00:00</td>\n",
       "      <td>Here’s how Biden’s $2 trillion infrastructure ...</td>\n",
       "      <td>https://news.google.com/__i/rss/rd/articles/CB...</td>\n",
       "      <td>Vice President Kamala Harris (2-L) and Special...</td>\n",
       "    </tr>\n",
       "    <tr>\n",
       "      <th>1</th>\n",
       "      <td>2021-03-31 14:36:00+00:00</td>\n",
       "      <td>Dow Jones Rallies As Biden Unveils $2 Tril. In...</td>\n",
       "      <td>https://news.google.com/__i/rss/rd/articles/CB...</td>\n",
       "      <td>NaN</td>\n",
       "    </tr>\n",
       "  </tbody>\n",
       "</table>\n",
       "</div>"
      ],
      "text/plain": [
       "                  Timestamp  \\\n",
       "0 2021-03-31 15:32:00+00:00   \n",
       "1 2021-03-31 14:36:00+00:00   \n",
       "\n",
       "                                               Title  \\\n",
       "0  Here’s how Biden’s $2 trillion infrastructure ...   \n",
       "1  Dow Jones Rallies As Biden Unveils $2 Tril. In...   \n",
       "\n",
       "                                                 URL  \\\n",
       "0  https://news.google.com/__i/rss/rd/articles/CB...   \n",
       "1  https://news.google.com/__i/rss/rd/articles/CB...   \n",
       "\n",
       "                                             Content  \n",
       "0  Vice President Kamala Harris (2-L) and Special...  \n",
       "1                                                NaN  "
      ]
     },
     "execution_count": 69,
     "metadata": {},
     "output_type": "execute_result"
    }
   ],
   "source": [
    "for i in range(len(df['URL'])):\n",
    "    try:\n",
    "        url = df['URL'][i].strip()\n",
    "        article = Article(url, config=config)\n",
    "        article.download()\n",
    "        article.parse()\n",
    "        #print(article.title + 2*('\\n') + ('-----------\\n') + article.text) + ('---------------------------\\n')\n",
    "        content = article.text\n",
    "        df.loc[df.index[i], 'Content'] = str(content)\n",
    "    except:\n",
    "        print(\"ERROR\")\n",
    "df"
   ]
  },
  {
   "cell_type": "code",
   "execution_count": 70,
   "metadata": {},
   "outputs": [],
   "source": [
    "import spacy\n",
    "nlp = spacy.load(\"en_core_web_lg\")\n",
    "from spacy import displacy"
   ]
  },
  {
   "cell_type": "code",
   "execution_count": 71,
   "metadata": {},
   "outputs": [],
   "source": [
    "for i in range(len(df['URL'])):\n",
    "    text = str(df['Content'][i])\n",
    "    doc = nlp(text)\n",
    "    entities=[]\n",
    "    for ent in doc.ents:\n",
    "        if ent.label_==\"PERSON\" and ent.text not in entities:\n",
    "            entities.append(str(ent.text))\n",
    "    df.loc[df.index[i], 'Entities'] = str(entities)"
   ]
  },
  {
   "cell_type": "code",
   "execution_count": 72,
   "metadata": {},
   "outputs": [
    {
     "data": {
      "text/html": [
       "<div>\n",
       "<style scoped>\n",
       "    .dataframe tbody tr th:only-of-type {\n",
       "        vertical-align: middle;\n",
       "    }\n",
       "\n",
       "    .dataframe tbody tr th {\n",
       "        vertical-align: top;\n",
       "    }\n",
       "\n",
       "    .dataframe thead th {\n",
       "        text-align: right;\n",
       "    }\n",
       "</style>\n",
       "<table border=\"1\" class=\"dataframe\">\n",
       "  <thead>\n",
       "    <tr style=\"text-align: right;\">\n",
       "      <th></th>\n",
       "      <th>Timestamp</th>\n",
       "      <th>Title</th>\n",
       "      <th>URL</th>\n",
       "      <th>Content</th>\n",
       "      <th>Entities</th>\n",
       "    </tr>\n",
       "  </thead>\n",
       "  <tbody>\n",
       "    <tr>\n",
       "      <th>0</th>\n",
       "      <td>2021-03-31 15:32:00+00:00</td>\n",
       "      <td>Here’s how Biden’s $2 trillion infrastructure ...</td>\n",
       "      <td>https://news.google.com/__i/rss/rd/articles/CB...</td>\n",
       "      <td>Vice President Kamala Harris (2-L) and Special...</td>\n",
       "      <td>['Kamala Harris', 'John Kerry', 'Joe Biden', '...</td>\n",
       "    </tr>\n",
       "    <tr>\n",
       "      <th>1</th>\n",
       "      <td>2021-03-31 14:36:00+00:00</td>\n",
       "      <td>Dow Jones Rallies As Biden Unveils $2 Tril. In...</td>\n",
       "      <td>https://news.google.com/__i/rss/rd/articles/CB...</td>\n",
       "      <td>NaN</td>\n",
       "      <td>[]</td>\n",
       "    </tr>\n",
       "  </tbody>\n",
       "</table>\n",
       "</div>"
      ],
      "text/plain": [
       "                  Timestamp  \\\n",
       "0 2021-03-31 15:32:00+00:00   \n",
       "1 2021-03-31 14:36:00+00:00   \n",
       "\n",
       "                                               Title  \\\n",
       "0  Here’s how Biden’s $2 trillion infrastructure ...   \n",
       "1  Dow Jones Rallies As Biden Unveils $2 Tril. In...   \n",
       "\n",
       "                                                 URL  \\\n",
       "0  https://news.google.com/__i/rss/rd/articles/CB...   \n",
       "1  https://news.google.com/__i/rss/rd/articles/CB...   \n",
       "\n",
       "                                             Content  \\\n",
       "0  Vice President Kamala Harris (2-L) and Special...   \n",
       "1                                                NaN   \n",
       "\n",
       "                                            Entities  \n",
       "0  ['Kamala Harris', 'John Kerry', 'Joe Biden', '...  \n",
       "1                                                 []  "
      ]
     },
     "execution_count": 72,
     "metadata": {},
     "output_type": "execute_result"
    }
   ],
   "source": [
    "df"
   ]
  },
  {
   "cell_type": "code",
   "execution_count": null,
   "metadata": {},
   "outputs": [],
   "source": []
  }
 ],
 "metadata": {
  "kernelspec": {
   "display_name": "Python 3",
   "language": "python",
   "name": "python3"
  },
  "language_info": {
   "codemirror_mode": {
    "name": "ipython",
    "version": 3
   },
   "file_extension": ".py",
   "mimetype": "text/x-python",
   "name": "python",
   "nbconvert_exporter": "python",
   "pygments_lexer": "ipython3",
   "version": "3.8.5"
  }
 },
 "nbformat": 4,
 "nbformat_minor": 4
}
