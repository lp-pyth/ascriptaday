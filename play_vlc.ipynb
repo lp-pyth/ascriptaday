{
 "cells": [
  {
   "cell_type": "markdown",
   "metadata": {},
   "source": [
    "#### Play Audio With Slow Volume Increase"
   ]
  },
  {
   "cell_type": "code",
   "execution_count": 1,
   "metadata": {},
   "outputs": [],
   "source": [
    "import vlc\n",
    "import time\n",
    "#put into same folder (from vlc):\n",
    "#libvlc.dll\n",
    "#libvlccore.dll\n",
    "#plugins"
   ]
  },
  {
   "cell_type": "code",
   "execution_count": 14,
   "metadata": {},
   "outputs": [],
   "source": [
    "p = vlc.MediaPlayer(r\"PATH_TO_YOUR_MP3_FILE\")\n",
    "p.play()\n",
    "for i in range(70):\n",
    "    p.audio_set_volume(i+30)             #be careful to not accidently put anythin above 100 or even 1000! :p\n",
    "    time.sleep(0.3)"
   ]
  },
  {
   "cell_type": "code",
   "execution_count": 12,
   "metadata": {},
   "outputs": [],
   "source": [
    "p.stop()"
   ]
  },
  {
   "cell_type": "markdown",
   "metadata": {},
   "source": [
    "#### Play Video"
   ]
  },
  {
   "cell_type": "code",
   "execution_count": 55,
   "metadata": {},
   "outputs": [
    {
     "data": {
      "text/plain": [
       "0"
      ]
     },
     "execution_count": 55,
     "metadata": {},
     "output_type": "execute_result"
    }
   ],
   "source": [
    "media = vlc.MediaPlayer(r\"PATH_TO_YOUR_MP4_FILE\")\n",
    "media.play()"
   ]
  },
  {
   "cell_type": "code",
   "execution_count": 56,
   "metadata": {},
   "outputs": [],
   "source": [
    "media.stop()"
   ]
  },
  {
   "cell_type": "markdown",
   "metadata": {},
   "source": [
    "#### Video Function"
   ]
  },
  {
   "cell_type": "code",
   "execution_count": null,
   "metadata": {},
   "outputs": [],
   "source": [
    "import time\n",
    "def video(source):\n",
    "    vlc_instance = vlc.Instance()     \n",
    "    player = vlc_instance.media_player_new()    \n",
    "    media = vlc_instance.media_new(source)\n",
    "    player.set_media(media)\n",
    "    player.play()\n",
    "    time.sleep(1)\n",
    "    duration = player.get_length()3\n",
    "    print(\"Duration: \" + str(duration))\n",
    "video(\"your_video.mp4\")"
   ]
  }
 ],
 "metadata": {
  "kernelspec": {
   "display_name": "Python 3",
   "language": "python",
   "name": "python3"
  },
  "language_info": {
   "codemirror_mode": {
    "name": "ipython",
    "version": 3
   },
   "file_extension": ".py",
   "mimetype": "text/x-python",
   "name": "python",
   "nbconvert_exporter": "python",
   "pygments_lexer": "ipython3",
   "version": "3.9.2"
  }
 },
 "nbformat": 4,
 "nbformat_minor": 4
}
