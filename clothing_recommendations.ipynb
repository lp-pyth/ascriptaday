{
 "cells": [
  {
   "cell_type": "code",
   "execution_count": 5,
   "id": "c596f08a",
   "metadata": {},
   "outputs": [
    {
     "name": "stdout",
     "output_type": "stream",
     "text": [
      "Sit in a tub with ice water\n"
     ]
    }
   ],
   "source": [
    "import requests\n",
    "from pprint import pprint\n",
    "import pandas as pd\n",
    "import json\n",
    " \n",
    "API_key = \"Your_Key\"\n",
    "base_url = \"http://api.openweathermap.org/data/2.5/weather?\"\n",
    "city_name = \"Berlin\"\n",
    "url = base_url + \"q=\" + city_name + \"&appid=\" + API_key \n",
    "\n",
    "weather_data = requests.get(url).json()\n",
    "kelvin_feel = (weather_data['main']['feels_like'])\n",
    "celsius_feel = float(\"%.2f\" %(kelvin_feel - 273))\n",
    "\n",
    "if celsius_feel >= 23:\n",
    "    print(\"Sit in a tub with ice water\")\n",
    "elif 20 <= celsius_feel < 23:\n",
    "    print(\"T-Shirt and Shorts\")\n",
    "elif 17 <= celsius_feel < 20:\n",
    "    print(\"Thin Sweater and Jeans\")\n",
    "elif 12 <= celsius_feel < 17:\n",
    "    print(\"Light Jacket\")\n",
    "elif 5 <= celsius_feel < 12:\n",
    "    print(\"Warm Jacket and Hat\")\n",
    "elif - 5 <= celsius_feel < 5:\n",
    "    print(\"Scarf, Gloves, etc.\")\n",
    "elif celsius_feel < -5:\n",
    "    print(\"Move somewhere warm\")"
   ]
  }
 ],
 "metadata": {
  "kernelspec": {
   "display_name": "datamining",
   "language": "python",
   "name": "datamining"
  },
  "language_info": {
   "codemirror_mode": {
    "name": "ipython",
    "version": 3
   },
   "file_extension": ".py",
   "mimetype": "text/x-python",
   "name": "python",
   "nbconvert_exporter": "python",
   "pygments_lexer": "ipython3",
   "version": "3.9.5"
  }
 },
 "nbformat": 4,
 "nbformat_minor": 5
}
