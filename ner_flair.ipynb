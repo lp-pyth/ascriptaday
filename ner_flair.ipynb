{
 "cells": [
  {
   "cell_type": "code",
   "execution_count": null,
   "id": "a32f6ef6",
   "metadata": {},
   "outputs": [],
   "source": [
    "from flair.data import Sentence\n",
    "from flair.models import SequenceTagger\n",
    "from ipywidgets import IntProgress\n",
    "\n",
    "# load tagger model\n",
    "tagger = SequenceTagger.load(\"flair/ner-german\")"
   ]
  },
  {
   "cell_type": "code",
   "execution_count": 44,
   "id": "85d8a691",
   "metadata": {},
   "outputs": [],
   "source": [
    "text= '''The Smurfs (French: Les Schtroumpfs; Dutch: De Smurfen) is a \n",
    "        Belgian comic franchise centered on a fictional colony of small, \n",
    "        blue, humanoid creatures who live in mushroom-shaped houses in \n",
    "        the forest. The Smurfs was first created and introduced as a \n",
    "        series of comic characters by the Belgian comics artist Peyo \n",
    "        (the pen name of Pierre Culliford) in 1958, wherein they were \n",
    "        known as Les Schtroumpfs. There are more than 100 Smurf \n",
    "        characters, and their names are based on adjectives that \n",
    "        emphasise their characteristics, such as \"Jokey Smurf\", who \n",
    "        likes to play practical jokes on his fellow smurfs. \"Smurfette\" \n",
    "        was the first female Smurf to be introduced in the series. \n",
    "        The Smurfs wear Phrygian caps, which came to represent freedom \n",
    "        during the modern era. The word “smurf” is the original Dutch \n",
    "        translation of the French \"schtroumpf\", which, according to Peyo, \n",
    "        is a word he invented during a meal with fellow cartoonist \n",
    "        André Franquin when he could not remember the word salt.'''"
   ]
  },
  {
   "cell_type": "code",
   "execution_count": 45,
   "id": "f55d1e18",
   "metadata": {},
   "outputs": [],
   "source": [
    "# make example sentence\n",
    "sentence = Sentence(text)\n",
    "# predict NER tags\n",
    "tagger.predict(sentence)\n",
    "entities = []\n",
    "# iterate over entities and print\n",
    "for entity in sentence.get_spans('ner'):\n",
    "    entities.append(entity)"
   ]
  },
  {
   "cell_type": "code",
   "execution_count": 46,
   "id": "941228cf",
   "metadata": {},
   "outputs": [
    {
     "data": {
      "text/plain": [
       "[<ORG-span (1,2): \"The Smurfs\">,\n",
       " <ORG-span (4): \"French\">,\n",
       " <ORG-span (6,7): \"Les Schtroumpfs\">,\n",
       " <PER-span (9): \"Dutch\">,\n",
       " <ORG-span (11,12): \"De Smurfen\">,\n",
       " <ORG-span (55,56,57,58): \"Belgian comics artist Peyo\">,\n",
       " <PER-span (64,65): \"Pierre Culliford\">,\n",
       " <MISC-span (75,76): \"Les Schtroumpfs\">,\n",
       " <ORG-span (101,102): \"Jokey Smurf\">,\n",
       " <MISC-span (117): \"Smurfette\">,\n",
       " <MISC-span (131,132,133,134,135): \"The Smurfs wear Phrygian caps\">,\n",
       " <MISC-span (161): \"schtroumpf\">,\n",
       " <MISC-span (168): \"Peyo\">,\n",
       " <PER-span (181,182): \"André Franquin\">]"
      ]
     },
     "execution_count": 46,
     "metadata": {},
     "output_type": "execute_result"
    }
   ],
   "source": [
    "entities"
   ]
  },
  {
   "cell_type": "code",
   "execution_count": null,
   "id": "245b87db",
   "metadata": {},
   "outputs": [],
   "source": []
  },
  {
   "cell_type": "code",
   "execution_count": null,
   "id": "de74c684",
   "metadata": {},
   "outputs": [],
   "source": [
    "from flair.data import Corpus\n",
    "from flair.datasets import CONLL_03_GERMAN\n",
    "from flair.embeddings import WordEmbeddings, StackedEmbeddings, FlairEmbeddings\n",
    "\n",
    "# 1. get the corpus\n",
    "corpus: Corpus = CONLL_03_GERMAN()\n",
    "\n",
    "# 2. what tag do we want to predict?\n",
    "tag_type = 'ner'\n",
    "\n",
    "# 3. make the tag dictionary from the corpus\n",
    "tag_dictionary = corpus.make_tag_dictionary(tag_type=tag_type)\n",
    "\n",
    "# 4. initialize each embedding we use\n",
    "embedding_types = [\n",
    "\n",
    "    # GloVe embeddings\n",
    "    WordEmbeddings('de'),\n",
    "\n",
    "    # contextual string embeddings, forward\n",
    "    FlairEmbeddings('de-forward'),\n",
    "\n",
    "    # contextual string embeddings, backward\n",
    "    FlairEmbeddings('de-backward'),\n",
    "]\n",
    "\n",
    "# embedding stack consists of Flair and GloVe embeddings\n",
    "embeddings = StackedEmbeddings(embeddings=embedding_types)\n",
    "\n",
    "# 5. initialize sequence tagger\n",
    "from flair.models import SequenceTagger\n",
    "\n",
    "tagger = SequenceTagger(hidden_size=256,\n",
    "                        embeddings=embeddings,\n",
    "                        tag_dictionary=tag_dictionary,\n",
    "                        tag_type=tag_type)\n",
    "\n",
    "# 6. initialize trainer\n",
    "from flair.trainers import ModelTrainer\n",
    "\n",
    "trainer = ModelTrainer(tagger, corpus)\n",
    "\n",
    "# 7. run training\n",
    "trainer.train('resources/taggers/ner-german',\n",
    "              train_with_dev=True,\n",
    "              max_epochs=150)"
   ]
  },
  {
   "cell_type": "code",
   "execution_count": null,
   "id": "81deadb3",
   "metadata": {},
   "outputs": [],
   "source": [
    "#@inproceedings{akbik2018coling,\n",
    "#  title={Contextual String Embeddings for Sequence Labeling},\n",
    "#  author={Akbik, Alan and Blythe, Duncan and Vollgraf, Roland},\n",
    "#  booktitle = {{COLING} 2018, 27th International Conference on Computational Linguistics},\n",
    "#  pages     = {1638--1649},\n",
    "#  year      = {2018}\n",
    "#}"
   ]
  }
 ],
 "metadata": {
  "kernelspec": {
   "display_name": "Python 3",
   "language": "python",
   "name": "python3"
  },
  "language_info": {
   "codemirror_mode": {
    "name": "ipython",
    "version": 3
   },
   "file_extension": ".py",
   "mimetype": "text/x-python",
   "name": "python",
   "nbconvert_exporter": "python",
   "pygments_lexer": "ipython3",
   "version": "3.8.5"
  }
 },
 "nbformat": 4,
 "nbformat_minor": 5
}
