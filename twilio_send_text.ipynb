{
 "cells": [
  {
   "cell_type": "code",
   "execution_count": null,
   "id": "5f505b7e",
   "metadata": {},
   "outputs": [],
   "source": [
    "https://www.twilio.com/\n",
    "from twilio.rest import Client\n",
    "\n",
    "\n",
    "account_sid = 'YOUR ACCOUNT SID'\n",
    "auth_token = 'YOUR AUTH TOKEN'\n",
    "fro_number = \"YOUR TWILIO NO\"\n",
    "to_number = \"THE TEL NR YOU WANT TO WRITE TO\"\n",
    "string = \"Hello world\"\n",
    "\n",
    "client = Client(account_sid, auth_token)\n",
    "client.api.account.messages.create(to=to_number, from_=fro_number, body=string) "
   ]
  }
 ],
 "metadata": {
  "kernelspec": {
   "display_name": "Python 3",
   "language": "python",
   "name": "python3"
  },
  "language_info": {
   "codemirror_mode": {
    "name": "ipython",
    "version": 3
   },
   "file_extension": ".py",
   "mimetype": "text/x-python",
   "name": "python",
   "nbconvert_exporter": "python",
   "pygments_lexer": "ipython3",
   "version": "3.8.5"
  }
 },
 "nbformat": 4,
 "nbformat_minor": 5
}
