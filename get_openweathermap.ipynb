{
 "cells": [
  {
   "cell_type": "code",
   "execution_count": 163,
   "metadata": {},
   "outputs": [
    {
     "name": "stdout",
     "output_type": "stream",
     "text": [
      "Enter a city name : Paris\n"
     ]
    }
   ],
   "source": [
    "import requests\n",
    "from pprint import pprint\n",
    "import pandas as pd\n",
    "import json\n",
    " \n",
    "API_key = \"YOUR_API_HERE\"\n",
    "base_url = \"http://api.openweathermap.org/data/2.5/weather?\"\n",
    "#city_id = input(\"Enter a city ID : \")\n",
    "#url = base_url + \"id=\" + city_id + \"&appid=\" + API_key\n",
    "city_name = input(\"Enter a city name : \")\n",
    "url = base_url + \"q=\" + city_name + \"&appid=\" + API_key \n",
    "\n",
    "weather_data = requests.get(url).json()"
   ]
  },
  {
   "cell_type": "code",
   "execution_count": 164,
   "metadata": {
    "scrolled": true
   },
   "outputs": [
    {
     "name": "stdout",
     "output_type": "stream",
     "text": [
      "{'base': 'stations',\n",
      " 'clouds': {'all': 0},\n",
      " 'cod': 200,\n",
      " 'coord': {'lat': 48.8534, 'lon': 2.3488},\n",
      " 'dt': 1616534051,\n",
      " 'id': 2988507,\n",
      " 'main': {'feels_like': 279.08,\n",
      "          'humidity': 70,\n",
      "          'pressure': 1024,\n",
      "          'temp': 281.3,\n",
      "          'temp_max': 283.15,\n",
      "          'temp_min': 279.82},\n",
      " 'name': 'Paris',\n",
      " 'sys': {'country': 'FR',\n",
      "         'id': 6550,\n",
      "         'sunrise': 1616478420,\n",
      "         'sunset': 1616522832,\n",
      "         'type': 1},\n",
      " 'timezone': 3600,\n",
      " 'visibility': 10000,\n",
      " 'weather': [{'description': 'clear sky',\n",
      "              'icon': '01n',\n",
      "              'id': 800,\n",
      "              'main': 'Clear'}],\n",
      " 'wind': {'deg': 0, 'speed': 1.03}}\n"
     ]
    }
   ],
   "source": [
    "pprint(weather_data)"
   ]
  },
  {
   "cell_type": "code",
   "execution_count": 165,
   "metadata": {},
   "outputs": [
    {
     "name": "stdout",
     "output_type": "stream",
     "text": [
      "6.08 Celsius\n"
     ]
    }
   ],
   "source": [
    "kelvin_feel = (weather_data['main']['feels_like'])\n",
    "celsius_feel = \"%.2f\" %(kelvin_feel - 273)\n",
    "print (celsius_feel, 'Celsius')"
   ]
  }
 ],
 "metadata": {
  "kernelspec": {
   "display_name": "Python 3",
   "language": "python",
   "name": "python3"
  },
  "language_info": {
   "codemirror_mode": {
    "name": "ipython",
    "version": 3
   },
   "file_extension": ".py",
   "mimetype": "text/x-python",
   "name": "python",
   "nbconvert_exporter": "python",
   "pygments_lexer": "ipython3",
   "version": "3.8.5"
  }
 },
 "nbformat": 4,
 "nbformat_minor": 4
}
