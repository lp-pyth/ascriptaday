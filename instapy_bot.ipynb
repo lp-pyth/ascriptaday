{
 "cells": [
  {
   "cell_type": "code",
   "execution_count": null,
   "id": "57c84cf9",
   "metadata": {},
   "outputs": [],
   "source": [
    "#https://pypi.org/project/instapy/\n",
    "from instapy import InstaPy\n",
    "from instapy import smart_run\n",
    "\n",
    "# login credentials\n",
    "insta_username = 'YOUR USERNAME HERE'  # <- enter username here\n",
    "insta_password = 'YOUR PASSWORD HERE'  # <- enter password here\n",
    "\n",
    "# start instapy session!\n",
    "session = InstaPy(username=insta_username, password=insta_password, headless_browser=False)\n",
    "\n",
    "with smart_run(session):\n",
    "    # general settings\n",
    "    session.set_relationship_bounds(enabled=True,\n",
    "                                    delimit_by_numbers=True,\n",
    "                                    max_followers=4590,\n",
    "                                    min_followers=45,\n",
    "                                    min_following=77)\n",
    "    #follow followers of this user:\n",
    "    session.follow_user_followers(['trying_python', 'programmer_newb'], amount=10, randomize=False)\n",
    "\n",
    "    #follow the followers this user is following:\n",
    "    #session.follow_user_following(['friend1', 'friend2', 'friend3'], amount=10, randomize=False)"
   ]
  }
 ],
 "metadata": {
  "kernelspec": {
   "display_name": "Python 3",
   "language": "python",
   "name": "python3"
  },
  "language_info": {
   "codemirror_mode": {
    "name": "ipython",
    "version": 3
   },
   "file_extension": ".py",
   "mimetype": "text/x-python",
   "name": "python",
   "nbconvert_exporter": "python",
   "pygments_lexer": "ipython3",
   "version": "3.8.5"
  }
 },
 "nbformat": 4,
 "nbformat_minor": 5
}
