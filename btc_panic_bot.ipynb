{
 "cells": [
  {
   "cell_type": "code",
   "execution_count": 1,
   "id": "b5af45cd",
   "metadata": {},
   "outputs": [],
   "source": [
    "import requests\n",
    "import pandas as pd\n",
    "from apscheduler.schedulers.blocking import BlockingScheduler"
   ]
  },
  {
   "cell_type": "code",
   "execution_count": 2,
   "id": "36abc754",
   "metadata": {},
   "outputs": [],
   "source": [
    "def get_historic_price(symbol, exchange='coinbase', after='2021-05-01'):\n",
    "    url = 'https://api.cryptowat.ch/markets/{exchange}/{symbol}usdt/ohlc'.format(symbol=symbol, exchange=exchange)\n",
    "    resp = requests.get(url, params={'periods': time_interval, 'after': str(int(pd.Timestamp(after).timestamp()))})\n",
    "    resp.raise_for_status()\n",
    "    data = resp.json()\n",
    "    df = pd.DataFrame(data['result'][time_interval], columns=['CloseTime', 'OpenPrice', 'HighPrice', 'LowPrice', \n",
    "                                                              'ClosePrice', 'Volume', 'NA'])\n",
    "    df['CloseTime'] = pd.to_datetime(df['CloseTime'], unit='s')\n",
    "    df.set_index('CloseTime', inplace=True)\n",
    "    return df"
   ]
  },
  {
   "cell_type": "code",
   "execution_count": 3,
   "id": "323f307b",
   "metadata": {},
   "outputs": [],
   "source": [
    "time_interval = '3600'  \n",
    "time_length = 1          \n",
    "def get_price_change():\n",
    "    from_when = (pd.Timestamp.now() - pd.offsets.Day(time_length))\n",
    "    btc = get_historic_price('btc', 'hitbtc', after=from_when)\n",
    "    btc = btc.drop(['NA'], axis=1)\n",
    "    btc_perc = btc.pct_change()*100\n",
    "    df = pd.merge(left=btc, right=btc_perc, left_index=True, right_index=True)\n",
    "    df = df.rename(columns={\"OpenPrice_y\":\"OpenPrice_%\", \"HighPrice_y\":\"HighPrice_%\", \n",
    "                            \"LowPrice_y\":\"LowPrice_%\", \"ClosePrice_y\":\"ClosePrice_%\", \"Volume_y\":\"Volume_%\"})\n",
    "    low_change = df.iloc[-1]['LowPrice_%'] \n",
    "    return low_change"
   ]
  },
  {
   "cell_type": "code",
   "execution_count": null,
   "id": "e9e241fc",
   "metadata": {},
   "outputs": [
    {
     "name": "stdout",
     "output_type": "stream",
     "text": [
      "HOOOOOOODL.\n",
      "HOOOOOOODL.\n",
      "HOOOOOOODL.\n",
      "HOOOOOOODL.\n"
     ]
    }
   ],
   "source": [
    "def btc_panic_bot():\n",
    "    low_change = get_price_change()\n",
    "    if -3 <low_change <= -1:\n",
    "        print('HODL.')\n",
    "    elif -5 <low_change <= -3:\n",
    "        print('HOOOOOOODL.')\n",
    "    elif -7 <low_change <= -5:\n",
    "        print('HOOOOOOOOOOOOOOOOOOOOODL!!!')\n",
    "    elif low_change <= -7:\n",
    "        print('HOOOOOOOOOOOOOOOODL...FUUUUUUUUUUUUUUUUUUUUUUC...')\n",
    "\n",
    "scheduler = BlockingScheduler()\n",
    "scheduler.add_job(btc_panic_bot, 'interval', minutes=1)\n",
    "scheduler.start()"
   ]
  },
  {
   "cell_type": "code",
   "execution_count": null,
   "id": "3a223f46",
   "metadata": {},
   "outputs": [],
   "source": []
  }
 ],
 "metadata": {
  "kernelspec": {
   "display_name": "hitbtc",
   "language": "python",
   "name": "hitbtc"
  },
  "language_info": {
   "codemirror_mode": {
    "name": "ipython",
    "version": 3
   },
   "file_extension": ".py",
   "mimetype": "text/x-python",
   "name": "python",
   "nbconvert_exporter": "python",
   "pygments_lexer": "ipython3",
   "version": "3.9.4"
  }
 },
 "nbformat": 4,
 "nbformat_minor": 5
}
