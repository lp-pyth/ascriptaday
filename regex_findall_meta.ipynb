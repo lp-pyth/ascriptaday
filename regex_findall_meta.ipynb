{
 "cells": [
  {
   "cell_type": "code",
   "execution_count": 142,
   "id": "bdef2941",
   "metadata": {},
   "outputs": [],
   "source": [
    "#Good source: https://www.w3schools.com/python/python_regex.asp\n",
    "import re "
   ]
  },
  {
   "cell_type": "code",
   "execution_count": 143,
   "id": "1f66c464",
   "metadata": {},
   "outputs": [],
   "source": [
    "txt = '''abc djsha\n",
    "1 abc uhuh klllaaa kdlf \\n\n",
    "2 abjlki saap bclllx bc \\n\n",
    "3 leki cllll ahc \\n\n",
    "4 dog soup delicious \\n\n",
    "5 habada abcde klll \\n\n",
    "6 abcdefghijklmnopqrstuvwxyz'''"
   ]
  },
  {
   "cell_type": "code",
   "execution_count": 144,
   "id": "46a13804",
   "metadata": {},
   "outputs": [
    {
     "data": {
      "text/plain": [
       "'abc'"
      ]
     },
     "execution_count": 144,
     "metadata": {},
     "output_type": "execute_result"
    }
   ],
   "source": [
    "re.search(\"abc\", txt).group()"
   ]
  },
  {
   "cell_type": "code",
   "execution_count": 145,
   "id": "7690b26a",
   "metadata": {},
   "outputs": [
    {
     "data": {
      "text/plain": [
       "['abc', 'abc', 'abc', 'abc']"
      ]
     },
     "execution_count": 145,
     "metadata": {},
     "output_type": "execute_result"
    }
   ],
   "source": [
    "re.findall(\"abc\", txt)"
   ]
  },
  {
   "cell_type": "code",
   "execution_count": 146,
   "id": "a291c71d",
   "metadata": {},
   "outputs": [
    {
     "data": {
      "text/plain": [
       "['x', 'x', 'y', 'z']"
      ]
     },
     "execution_count": 146,
     "metadata": {},
     "output_type": "execute_result"
    }
   ],
   "source": [
    "re.findall(\"[x-z]\", txt)"
   ]
  },
  {
   "cell_type": "code",
   "execution_count": 147,
   "id": "5377054f",
   "metadata": {},
   "outputs": [
    {
     "data": {
      "text/plain": [
       "['1', '2', '3', '4', '5', '6']"
      ]
     },
     "execution_count": 147,
     "metadata": {},
     "output_type": "execute_result"
    }
   ],
   "source": [
    "re.findall(\"\\d\", txt)"
   ]
  },
  {
   "cell_type": "code",
   "execution_count": 148,
   "id": "2b0ddfd6",
   "metadata": {},
   "outputs": [
    {
     "data": {
      "text/plain": [
       "['saap', 'soup']"
      ]
     },
     "execution_count": 148,
     "metadata": {},
     "output_type": "execute_result"
    }
   ],
   "source": [
    "re.findall(\"s..p\", txt)"
   ]
  },
  {
   "cell_type": "code",
   "execution_count": 149,
   "id": "eae62bf0",
   "metadata": {},
   "outputs": [
    {
     "data": {
      "text/plain": [
       "['abc']"
      ]
     },
     "execution_count": 149,
     "metadata": {},
     "output_type": "execute_result"
    }
   ],
   "source": [
    "re.findall(\"^abc\", txt)"
   ]
  },
  {
   "cell_type": "code",
   "execution_count": 150,
   "id": "96c6baf4",
   "metadata": {},
   "outputs": [
    {
     "data": {
      "text/plain": [
       "['yz']"
      ]
     },
     "execution_count": 150,
     "metadata": {},
     "output_type": "execute_result"
    }
   ],
   "source": [
    "re.findall(\"yz$\", txt)"
   ]
  },
  {
   "cell_type": "code",
   "execution_count": 151,
   "id": "01f31b3b",
   "metadata": {},
   "outputs": [
    {
     "data": {
      "text/plain": [
       "['abc', 'abc', 'ab', 'ab', 'abc', 'abc']"
      ]
     },
     "execution_count": 151,
     "metadata": {},
     "output_type": "execute_result"
    }
   ],
   "source": [
    "re.findall(\"abc*\", txt)"
   ]
  },
  {
   "cell_type": "code",
   "execution_count": 152,
   "id": "25721d71",
   "metadata": {},
   "outputs": [
    {
     "data": {
      "text/plain": [
       "['abc', 'abc', 'abc', 'abc']"
      ]
     },
     "execution_count": 152,
     "metadata": {},
     "output_type": "execute_result"
    }
   ],
   "source": [
    "re.findall(\"abc+\", txt)"
   ]
  },
  {
   "cell_type": "code",
   "execution_count": 153,
   "id": "742b3d4c",
   "metadata": {},
   "outputs": [
    {
     "data": {
      "text/plain": [
       "['klll', 'klll']"
      ]
     },
     "execution_count": 153,
     "metadata": {},
     "output_type": "execute_result"
    }
   ],
   "source": [
    "re.findall(\"kl{3}\", txt)"
   ]
  },
  {
   "cell_type": "code",
   "execution_count": 154,
   "id": "cae13974",
   "metadata": {},
   "outputs": [
    {
     "data": {
      "text/plain": [
       "['abc', 'abc', 'kl', 'abc', 'kl', 'abc', 'kl']"
      ]
     },
     "execution_count": 154,
     "metadata": {},
     "output_type": "execute_result"
    }
   ],
   "source": [
    "re.findall(\"kl|abc\", txt)"
   ]
  },
  {
   "cell_type": "code",
   "execution_count": null,
   "id": "cdd5ab2c",
   "metadata": {},
   "outputs": [],
   "source": []
  }
 ],
 "metadata": {
  "kernelspec": {
   "display_name": "Python 3",
   "language": "python",
   "name": "python3"
  },
  "language_info": {
   "codemirror_mode": {
    "name": "ipython",
    "version": 3
   },
   "file_extension": ".py",
   "mimetype": "text/x-python",
   "name": "python",
   "nbconvert_exporter": "python",
   "pygments_lexer": "ipython3",
   "version": "3.8.5"
  }
 },
 "nbformat": 4,
 "nbformat_minor": 5
}
