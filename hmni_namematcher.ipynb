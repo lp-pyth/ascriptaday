{
 "cells": [
  {
   "cell_type": "code",
   "execution_count": 63,
   "id": "4fc91529",
   "metadata": {},
   "outputs": [],
   "source": [
    "#HMNI: https://github.com/Christopher-Thornton/hmni\n",
    "#if \"AttributeError: 'MinMaxScaler' object has no attribute 'clip'\"\" \n",
    "#try \"conda install -c conda-forge scikit-learn==0.23.2\""
   ]
  },
  {
   "cell_type": "code",
   "execution_count": 64,
   "id": "527d8884",
   "metadata": {
    "collapsed": true
   },
   "outputs": [
    {
     "name": "stderr",
     "output_type": "stream",
     "text": [
      "C:\\Anaconda3\\envs\\name_matcher\\lib\\site-packages\\sklearn\\base.py:329: UserWarning: Trying to unpickle estimator MaxAbsScaler from version 0.23.1 when using version 0.23.2. This might lead to breaking code or invalid results. Use at your own risk.\n",
      "  warnings.warn(\n",
      "C:\\Anaconda3\\envs\\name_matcher\\lib\\site-packages\\sklearn\\base.py:329: UserWarning: Trying to unpickle estimator MinMaxScaler from version 0.23.1 when using version 0.23.2. This might lead to breaking code or invalid results. Use at your own risk.\n",
      "  warnings.warn(\n",
      "C:\\Anaconda3\\envs\\name_matcher\\lib\\site-packages\\sklearn\\base.py:329: UserWarning: Trying to unpickle estimator DecisionTreeClassifier from version 0.23.1 when using version 0.23.2. This might lead to breaking code or invalid results. Use at your own risk.\n",
      "  warnings.warn(\n",
      "C:\\Anaconda3\\envs\\name_matcher\\lib\\site-packages\\sklearn\\base.py:329: UserWarning: Trying to unpickle estimator RandomForestClassifier from version 0.23.1 when using version 0.23.2. This might lead to breaking code or invalid results. Use at your own risk.\n",
      "  warnings.warn(\n",
      "C:\\Anaconda3\\envs\\name_matcher\\lib\\site-packages\\sklearn\\base.py:329: UserWarning: Trying to unpickle estimator Pipeline from version 0.23.1 when using version 0.23.2. This might lead to breaking code or invalid results. Use at your own risk.\n",
      "  warnings.warn(\n",
      "C:\\Anaconda3\\envs\\name_matcher\\lib\\site-packages\\sklearn\\base.py:329: UserWarning: Trying to unpickle estimator LogisticRegression from version 0.23.1 when using version 0.23.2. This might lead to breaking code or invalid results. Use at your own risk.\n",
      "  warnings.warn(\n"
     ]
    }
   ],
   "source": [
    "import hmni\n",
    "matcher = hmni.Matcher(model='latin')"
   ]
  },
  {
   "cell_type": "code",
   "execution_count": 65,
   "id": "fd8515f6",
   "metadata": {},
   "outputs": [
    {
     "name": "stdout",
     "output_type": "stream",
     "text": [
      "1 0.4521498765463077 0.5826136261876053 0.6838304857241245 1 0.6838304857241245\n"
     ]
    }
   ],
   "source": [
    "#Single Pair Similarity\n",
    "a = matcher.similarity('George H. W. Bush', \"George W. Bush\")\n",
    "b = matcher.similarity('Alan', 'Ellen')\n",
    "c = matcher.similarity('Alan', 'Elon')\n",
    "d = matcher.similarity('Alan', 'Al', prob=True)\n",
    "e = matcher.similarity('Alan', 'Al', prob=False)\n",
    "f = matcher.similarity('Alan Turing', 'Al Turing', surname_first=False)\n",
    "print(a,b,c,d,e, f)"
   ]
  },
  {
   "cell_type": "code",
   "execution_count": 66,
   "id": "62a5f044",
   "metadata": {},
   "outputs": [
    {
     "data": {
      "text/html": [
       "<div>\n",
       "<style scoped>\n",
       "    .dataframe tbody tr th:only-of-type {\n",
       "        vertical-align: middle;\n",
       "    }\n",
       "\n",
       "    .dataframe tbody tr th {\n",
       "        vertical-align: top;\n",
       "    }\n",
       "\n",
       "    .dataframe thead th {\n",
       "        text-align: right;\n",
       "    }\n",
       "</style>\n",
       "<table border=\"1\" class=\"dataframe\">\n",
       "  <thead>\n",
       "    <tr style=\"text-align: right;\">\n",
       "      <th></th>\n",
       "      <th>name_x</th>\n",
       "      <th>name_y</th>\n",
       "    </tr>\n",
       "  </thead>\n",
       "  <tbody>\n",
       "    <tr>\n",
       "      <th>0</th>\n",
       "      <td>Al</td>\n",
       "      <td>Alan</td>\n",
       "    </tr>\n",
       "    <tr>\n",
       "      <th>1</th>\n",
       "      <td>Mark</td>\n",
       "      <td>Mark</td>\n",
       "    </tr>\n",
       "    <tr>\n",
       "      <th>2</th>\n",
       "      <td>James</td>\n",
       "      <td>James</td>\n",
       "    </tr>\n",
       "    <tr>\n",
       "      <th>3</th>\n",
       "      <td>Harold</td>\n",
       "      <td>Harold</td>\n",
       "    </tr>\n",
       "  </tbody>\n",
       "</table>\n",
       "</div>"
      ],
      "text/plain": [
       "   name_x  name_y\n",
       "0      Al    Alan\n",
       "1    Mark    Mark\n",
       "2   James   James\n",
       "3  Harold  Harold"
      ]
     },
     "execution_count": 66,
     "metadata": {},
     "output_type": "execute_result"
    }
   ],
   "source": [
    "#Record Linkage\n",
    "import pandas as pd\n",
    "df1 = pd.DataFrame({'name': ['Al', 'Mark', 'James', 'Harold']})\n",
    "df2 = pd.DataFrame({'name': ['Mark', 'Alan', 'James', 'Harold']})\n",
    "merged = matcher.fuzzymerge(df1, df2, how='left', on='name')\n",
    "merged"
   ]
  },
  {
   "cell_type": "code",
   "execution_count": 67,
   "id": "074157a0",
   "metadata": {},
   "outputs": [
    {
     "data": {
      "text/plain": [
       "['Alan', 'Alan', 'Alan', 'James']"
      ]
     },
     "execution_count": 67,
     "metadata": {},
     "output_type": "execute_result"
    }
   ],
   "source": [
    "#Name Deduplication and Normalization\n",
    "names_list = ['Alan', 'Al', 'Al', 'James']\n",
    "matcher.dedupe(names_list, keep='longest')\n",
    "matcher.dedupe(names_list, keep='frequent')\n",
    "matcher.dedupe(names_list, keep='longest', replace=True)"
   ]
  }
 ],
 "metadata": {
  "kernelspec": {
   "display_name": "Python [conda env:name_matcher]",
   "language": "python",
   "name": "conda-env-name_matcher-py"
  },
  "language_info": {
   "codemirror_mode": {
    "name": "ipython",
    "version": 3
   },
   "file_extension": ".py",
   "mimetype": "text/x-python",
   "name": "python",
   "nbconvert_exporter": "python",
   "pygments_lexer": "ipython3",
   "version": "3.9.2"
  }
 },
 "nbformat": 4,
 "nbformat_minor": 5
}
