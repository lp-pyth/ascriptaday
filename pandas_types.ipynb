{
 "cells": [
  {
   "cell_type": "code",
   "execution_count": 21,
   "id": "457bed1d",
   "metadata": {},
   "outputs": [
    {
     "data": {
      "text/html": [
       "<div>\n",
       "<style scoped>\n",
       "    .dataframe tbody tr th:only-of-type {\n",
       "        vertical-align: middle;\n",
       "    }\n",
       "\n",
       "    .dataframe tbody tr th {\n",
       "        vertical-align: top;\n",
       "    }\n",
       "\n",
       "    .dataframe thead th {\n",
       "        text-align: right;\n",
       "    }\n",
       "</style>\n",
       "<table border=\"1\" class=\"dataframe\">\n",
       "  <thead>\n",
       "    <tr style=\"text-align: right;\">\n",
       "      <th></th>\n",
       "      <th>col1</th>\n",
       "      <th>col2</th>\n",
       "      <th>col3</th>\n",
       "      <th>col4</th>\n",
       "      <th>col5</th>\n",
       "      <th>col6</th>\n",
       "      <th>col7</th>\n",
       "      <th>col8</th>\n",
       "      <th>col9</th>\n",
       "    </tr>\n",
       "  </thead>\n",
       "  <tbody>\n",
       "    <tr>\n",
       "      <th>0</th>\n",
       "      <td>552</td>\n",
       "      <td>484</td>\n",
       "      <td>467</td>\n",
       "      <td>91</td>\n",
       "      <td>338</td>\n",
       "      <td>579</td>\n",
       "      <td>747</td>\n",
       "      <td>495</td>\n",
       "      <td>655</td>\n",
       "    </tr>\n",
       "    <tr>\n",
       "      <th>1</th>\n",
       "      <td>549</td>\n",
       "      <td>757</td>\n",
       "      <td>408</td>\n",
       "      <td>875</td>\n",
       "      <td>184</td>\n",
       "      <td>601</td>\n",
       "      <td>420</td>\n",
       "      <td>345</td>\n",
       "      <td>306</td>\n",
       "    </tr>\n",
       "    <tr>\n",
       "      <th>2</th>\n",
       "      <td>811</td>\n",
       "      <td>804</td>\n",
       "      <td>287</td>\n",
       "      <td>584</td>\n",
       "      <td>260</td>\n",
       "      <td>106</td>\n",
       "      <td>749</td>\n",
       "      <td>109</td>\n",
       "      <td>481</td>\n",
       "    </tr>\n",
       "    <tr>\n",
       "      <th>3</th>\n",
       "      <td>768</td>\n",
       "      <td>246</td>\n",
       "      <td>624</td>\n",
       "      <td>345</td>\n",
       "      <td>790</td>\n",
       "      <td>271</td>\n",
       "      <td>638</td>\n",
       "      <td>760</td>\n",
       "      <td>914</td>\n",
       "    </tr>\n",
       "    <tr>\n",
       "      <th>4</th>\n",
       "      <td>792</td>\n",
       "      <td>929</td>\n",
       "      <td>255</td>\n",
       "      <td>339</td>\n",
       "      <td>335</td>\n",
       "      <td>252</td>\n",
       "      <td>263</td>\n",
       "      <td>196</td>\n",
       "      <td>322</td>\n",
       "    </tr>\n",
       "    <tr>\n",
       "      <th>5</th>\n",
       "      <td>729</td>\n",
       "      <td>808</td>\n",
       "      <td>672</td>\n",
       "      <td>685</td>\n",
       "      <td>205</td>\n",
       "      <td>511</td>\n",
       "      <td>87</td>\n",
       "      <td>941</td>\n",
       "      <td>138</td>\n",
       "    </tr>\n",
       "  </tbody>\n",
       "</table>\n",
       "</div>"
      ],
      "text/plain": [
       "   col1  col2  col3  col4  col5  col6  col7  col8  col9\n",
       "0   552   484   467    91   338   579   747   495   655\n",
       "1   549   757   408   875   184   601   420   345   306\n",
       "2   811   804   287   584   260   106   749   109   481\n",
       "3   768   246   624   345   790   271   638   760   914\n",
       "4   792   929   255   339   335   252   263   196   322\n",
       "5   729   808   672   685   205   511    87   941   138"
      ]
     },
     "execution_count": 21,
     "metadata": {},
     "output_type": "execute_result"
    }
   ],
   "source": [
    "import pandas as pd\n",
    "import numpy as np\n",
    "df = pd.DataFrame(np.random.randint(1, 1000, size=(6, 9)), \n",
    "                  columns=['col1', 'col2', 'col3', 'col4', 'col5', \n",
    "                           'col6', 'col7', 'col8', 'col9']) \n",
    "\n",
    "df"
   ]
  },
  {
   "cell_type": "code",
   "execution_count": 22,
   "id": "1a2afc87",
   "metadata": {},
   "outputs": [
    {
     "name": "stdout",
     "output_type": "stream",
     "text": [
      "<class 'pandas.core.frame.DataFrame'>\n",
      "RangeIndex: 6 entries, 0 to 5\n",
      "Data columns (total 9 columns):\n",
      " #   Column  Non-Null Count  Dtype\n",
      "---  ------  --------------  -----\n",
      " 0   col1    6 non-null      int32\n",
      " 1   col2    6 non-null      int32\n",
      " 2   col3    6 non-null      int32\n",
      " 3   col4    6 non-null      int32\n",
      " 4   col5    6 non-null      int32\n",
      " 5   col6    6 non-null      int32\n",
      " 6   col7    6 non-null      int32\n",
      " 7   col8    6 non-null      int32\n",
      " 8   col9    6 non-null      int32\n",
      "dtypes: int32(9)\n",
      "memory usage: 344.0 bytes\n"
     ]
    }
   ],
   "source": [
    "df.info()"
   ]
  },
  {
   "cell_type": "code",
   "execution_count": 24,
   "id": "24826494",
   "metadata": {},
   "outputs": [
    {
     "name": "stdout",
     "output_type": "stream",
     "text": [
      "<class 'pandas.core.frame.DataFrame'>\n",
      "RangeIndex: 6 entries, 0 to 5\n",
      "Data columns (total 9 columns):\n",
      " #   Column  Non-Null Count  Dtype   \n",
      "---  ------  --------------  -----   \n",
      " 0   col1    6 non-null      string  \n",
      " 1   col2    6 non-null      int64   \n",
      " 2   col3    6 non-null      float64 \n",
      " 3   col4    6 non-null      float32 \n",
      " 4   col5    6 non-null      int64   \n",
      " 5   col6    6 non-null      string  \n",
      " 6   col7    6 non-null      category\n",
      " 7   col8    6 non-null      int32   \n",
      " 8   col9    6 non-null      int32   \n",
      "dtypes: category(1), float32(1), float64(1), int32(2), int64(2), string(2)\n",
      "memory usage: 666.0 bytes\n"
     ]
    }
   ],
   "source": [
    "df.col1 = df.col1.astype('string')\n",
    "df.col2 = df.col2.astype('int64')\n",
    "df.col3 = df.col3.astype('float64')\n",
    "df.col4 = df.col4.astype('float32')\n",
    "df.col5 = df.col5.astype('int64')\n",
    "df.col6 = df.col6.astype('string')\n",
    "df.col7 = df.col7.astype('category')\n",
    "df.info()"
   ]
  },
  {
   "cell_type": "code",
   "execution_count": 30,
   "id": "034b4c21",
   "metadata": {},
   "outputs": [
    {
     "ename": "TypeError",
     "evalue": "can only concatenate str (not \"numpy.int64\") to str",
     "output_type": "error",
     "traceback": [
      "\u001b[1;31m---------------------------------------------------------------------------\u001b[0m",
      "\u001b[1;31mTypeError\u001b[0m                                 Traceback (most recent call last)",
      "\u001b[1;32m<ipython-input-30-d11185990c02>\u001b[0m in \u001b[0;36m<module>\u001b[1;34m\u001b[0m\n\u001b[1;32m----> 1\u001b[1;33m \u001b[0mdf\u001b[0m\u001b[1;33m.\u001b[0m\u001b[0miloc\u001b[0m\u001b[1;33m[\u001b[0m\u001b[1;36m0\u001b[0m\u001b[1;33m,\u001b[0m\u001b[1;36m0\u001b[0m\u001b[1;33m]\u001b[0m \u001b[1;33m+\u001b[0m \u001b[0mdf\u001b[0m\u001b[1;33m.\u001b[0m\u001b[0miloc\u001b[0m\u001b[1;33m[\u001b[0m\u001b[1;36m0\u001b[0m\u001b[1;33m,\u001b[0m\u001b[1;36m1\u001b[0m\u001b[1;33m]\u001b[0m\u001b[1;33m\u001b[0m\u001b[1;33m\u001b[0m\u001b[0m\n\u001b[0m",
      "\u001b[1;31mTypeError\u001b[0m: can only concatenate str (not \"numpy.int64\") to str"
     ]
    }
   ],
   "source": [
    "df.iloc[0,0] + df.iloc[0,1] "
   ]
  },
  {
   "cell_type": "code",
   "execution_count": 34,
   "id": "dfdff06d",
   "metadata": {
    "scrolled": true
   },
   "outputs": [
    {
     "name": "stdout",
     "output_type": "stream",
     "text": [
      "<class 'pandas.core.frame.DataFrame'>\n",
      "RangeIndex: 6 entries, 0 to 5\n",
      "Data columns (total 9 columns):\n",
      " #   Column  Non-Null Count  Dtype  \n",
      "---  ------  --------------  -----  \n",
      " 0   col1    6 non-null      int64  \n",
      " 1   col2    6 non-null      int64  \n",
      " 2   col3    6 non-null      float64\n",
      " 3   col4    6 non-null      float32\n",
      " 4   col5    6 non-null      int64  \n",
      " 5   col6    6 non-null      int64  \n",
      " 6   col7    6 non-null      int64  \n",
      " 7   col8    6 non-null      int32  \n",
      " 8   col9    6 non-null      int32  \n",
      "dtypes: float32(1), float64(1), int32(2), int64(5)\n",
      "memory usage: 488.0 bytes\n"
     ]
    }
   ],
   "source": [
    "df=df.apply(pd.to_numeric)\n",
    "df.info()"
   ]
  },
  {
   "cell_type": "code",
   "execution_count": 35,
   "id": "0b942773",
   "metadata": {},
   "outputs": [
    {
     "data": {
      "text/plain": [
       "1036"
      ]
     },
     "execution_count": 35,
     "metadata": {},
     "output_type": "execute_result"
    }
   ],
   "source": [
    "df.iloc[0,0] + df.iloc[0,1] "
   ]
  },
  {
   "cell_type": "code",
   "execution_count": null,
   "id": "5b68be4a",
   "metadata": {},
   "outputs": [],
   "source": []
  }
 ],
 "metadata": {
  "kernelspec": {
   "display_name": "datamining",
   "language": "python",
   "name": "datamining"
  },
  "language_info": {
   "codemirror_mode": {
    "name": "ipython",
    "version": 3
   },
   "file_extension": ".py",
   "mimetype": "text/x-python",
   "name": "python",
   "nbconvert_exporter": "python",
   "pygments_lexer": "ipython3",
   "version": "3.9.4"
  }
 },
 "nbformat": 4,
 "nbformat_minor": 5
}
