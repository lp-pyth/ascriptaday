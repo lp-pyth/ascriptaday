{
 "cells": [
  {
   "cell_type": "code",
   "execution_count": 27,
   "id": "8977e3b6",
   "metadata": {},
   "outputs": [
    {
     "name": "stdout",
     "output_type": "stream",
     "text": [
      "2\n"
     ]
    },
    {
     "data": {
      "text/plain": [
       "'    REGISTRATION FORM FOR THE HOTEL CHECK-IN   NAME    _________\\n____________________________________________ SURNAME  _________\\n____________________________________________ DATE OF BIRTH _____________________________________________________ PLACE OF BIRTH _____________________________________________________ TYPE OF DOCUMENT_____________________________________________________ N° OF DOCUMENT ___________________________\\n__________________________ PLACE OF ISSUE _____________________________________________________ DATE OF ISSUE _____________________________________________________ CREDIT CARD TYPE\\n: _____________________________________________________ CREDIT CARD NR. \\n ___________________________\\n__________________________ EXPIRATION:  \\n_____________________________________________________ FOUR DIGIT CODE:  ___________________  (for American Express only)  The signature of this form authorizes the Verdura Go\\nlf & Spa Resort to charge the final amount on the \\nabove credit card only in case the final balance is not settled at check out.\\n   REGISTRATION FORM FOR ADDITIONAL NIGHTS Nights before or after your stay during the event Mercedes-Benz & Friends  \\nﬁStella Appassionataﬂ (30.09. Œ 04.10.2012) \\n  \\nARRIVAL DATE_________________   \\nDEPARTURE DATE ____________________        DELUXE ROOM\\n  EUR 290.00 \\n(Measuring 40-46 sq m with a co\\nmfortable king bed and all enjoy \\nsea views from the private spacious balcony or terrace) \\n      JUNIOR SUITE  EUR 390.00 \\n(Junior Suites measure 60 sq m and \\nincorporate a king-sized bed, all \\nfeature uninterrupted sea views and each has \\na private terrace or balcony with seating. \\n          GRAND SUITE  EUR 450.00 \\n(Measuring 72-87 sq m with king\\n beds, enjoy a private terrace \\noverlooking the sea as well as a private entrance and courtyard, the separate sitting room and \\nkitchenette make this suite the perfect seaside apartment.) \\n Kindly note that your room choice will be upon availability. \\n  \\n \\nSIGNATURE:   \\n___________________________________________________ '"
      ]
     },
     "execution_count": 27,
     "metadata": {},
     "output_type": "execute_result"
    }
   ],
   "source": [
    "import PyPDF2\n",
    "opened_pdf = PyPDF2.PdfFileReader('hotel_room.pdf', 'rb')\n",
    "pdf=opened_pdf.getPage(0)\n",
    "pdf_text= pdf.extractText()\n",
    "#pdf_text=pdf_text.splitlines()\n",
    "print(fileReader.numPages)\n",
    "pdf_text"
   ]
  }
 ],
 "metadata": {
  "kernelspec": {
   "display_name": "Python [conda env:pdf]",
   "language": "python",
   "name": "conda-env-pdf-py"
  },
  "language_info": {
   "codemirror_mode": {
    "name": "ipython",
    "version": 3
   },
   "file_extension": ".py",
   "mimetype": "text/x-python",
   "name": "python",
   "nbconvert_exporter": "python",
   "pygments_lexer": "ipython3",
   "version": "3.9.4"
  }
 },
 "nbformat": 4,
 "nbformat_minor": 5
}
