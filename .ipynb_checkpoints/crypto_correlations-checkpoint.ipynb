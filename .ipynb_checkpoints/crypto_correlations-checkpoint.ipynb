{
 "cells": [
  {
   "cell_type": "code",
   "execution_count": 2,
   "id": "858c54f1",
   "metadata": {},
   "outputs": [
    {
     "data": {
      "text/html": [
       "        <script type=\"text/javascript\">\n",
       "        window.PlotlyConfig = {MathJaxConfig: 'local'};\n",
       "        if (window.MathJax) {MathJax.Hub.Config({SVG: {font: \"STIX-Web\"}});}\n",
       "        if (typeof require !== 'undefined') {\n",
       "        require.undef(\"plotly\");\n",
       "        requirejs.config({\n",
       "            paths: {\n",
       "                'plotly': ['https://cdn.plot.ly/plotly-latest.min']\n",
       "            }\n",
       "        });\n",
       "        require(['plotly'], function(Plotly) {\n",
       "            window._Plotly = Plotly;\n",
       "        });\n",
       "        }\n",
       "        </script>\n",
       "        "
      ]
     },
     "metadata": {},
     "output_type": "display_data"
    }
   ],
   "source": [
    "#https://blog.patricktriest.com/analyzing-cryptocurrencies-python/\n",
    "import os\n",
    "import numpy as np\n",
    "import pandas as pd\n",
    "import pickle\n",
    "import quandl\n",
    "from datetime import datetime\n",
    "import plotly.offline as py\n",
    "import plotly.graph_objs as go\n",
    "import plotly.figure_factory as ff\n",
    "import plotly.express as px\n",
    "py.init_notebook_mode(connected=True)"
   ]
  },
  {
   "cell_type": "code",
   "execution_count": 3,
   "id": "f703ec1e",
   "metadata": {},
   "outputs": [],
   "source": [
    "def get_quandl_data(quandl_id):\n",
    "    '''Download and cache Quandl dataseries'''\n",
    "    cache_path = '{}.pkl'.format(quandl_id).replace('/','-')\n",
    "    try:\n",
    "        f = open(cache_path, 'rb')\n",
    "        df = pickle.load(f)   \n",
    "        print('Loaded {} from cache'.format(quandl_id))\n",
    "    except (OSError, IOError) as e:\n",
    "        print('Downloading {} from Quandl'.format(quandl_id))\n",
    "        df = quandl.get(quandl_id, returns=\"pandas\")\n",
    "        df.to_pickle(cache_path)\n",
    "        print('Cached {} at {}'.format(quandl_id, cache_path))\n",
    "    return df"
   ]
  },
  {
   "cell_type": "code",
   "execution_count": null,
   "id": "64dc47b8",
   "metadata": {},
   "outputs": [
    {
     "name": "stdout",
     "output_type": "stream",
     "text": [
      "Downloading BCHARTS/KRAKENUSD from Quandl\n"
     ]
    }
   ],
   "source": [
    "# Pull Kraken BTC price exchange data\n",
    "btc_usd_price_kraken = get_quandl_data('BCHARTS/KRAKENUSD')"
   ]
  },
  {
   "cell_type": "code",
   "execution_count": null,
   "id": "68b377e8",
   "metadata": {},
   "outputs": [],
   "source": [
    "btc_usd_price_kraken.head(1)"
   ]
  },
  {
   "cell_type": "code",
   "execution_count": null,
   "id": "9f8f69e0",
   "metadata": {},
   "outputs": [],
   "source": [
    "# Chart the BTC pricing data\n",
    "btc_trace = go.Scatter(x=btc_usd_price_kraken.index, y=np.log(btc_usd_price_kraken['Weighted Price']))\n",
    "py.iplot([btc_trace])"
   ]
  },
  {
   "cell_type": "code",
   "execution_count": null,
   "id": "1bea89e0",
   "metadata": {
    "scrolled": true
   },
   "outputs": [],
   "source": [
    "# Pull pricing data for 3 more BTC exchanges\n",
    "exchanges = ['BITSTAMP','ITBIT']\n",
    "\n",
    "exchange_data = {}\n",
    "\n",
    "exchange_data['KRAKEN'] = btc_usd_price_kraken\n",
    "\n",
    "for exchange in exchanges:\n",
    "    exchange_code = 'BCHARTS/{}USD'.format(exchange)\n",
    "    btc_exchange_df = get_quandl_data(exchange_code)\n",
    "    exchange_data[exchange] = btc_exchange_df"
   ]
  },
  {
   "cell_type": "code",
   "execution_count": null,
   "id": "feeb3c75",
   "metadata": {},
   "outputs": [],
   "source": [
    "def merge_dfs_on_column(dataframes, labels, col):\n",
    "    '''Merge a single column of each dataframe into a new combined dataframe'''\n",
    "    series_dict = {}\n",
    "    for index in range(len(dataframes)):\n",
    "        series_dict[labels[index]] = dataframes[index][col]\n",
    "        \n",
    "    return pd.DataFrame(series_dict)"
   ]
  },
  {
   "cell_type": "code",
   "execution_count": null,
   "id": "a9e3c51b",
   "metadata": {},
   "outputs": [],
   "source": [
    "# Merge the BTC price dataseries' into a single dataframe\n",
    "btc_usd_datasets = merge_dfs_on_column(list(exchange_data.values()), list(exchange_data.keys()), 'Weighted Price')"
   ]
  },
  {
   "cell_type": "code",
   "execution_count": null,
   "id": "d36ee1e2",
   "metadata": {},
   "outputs": [],
   "source": [
    "def df_scatter(df, title, seperate_y_axis=False, y_axis_label='', scale='linear', initial_hide=False):\n",
    "    '''Generate a scatter plot of the entire dataframe'''\n",
    "    label_arr = list(df)\n",
    "    series_arr = list(map(lambda col: df[col], label_arr))\n",
    "    layout = go.Layout(title=title, legend=dict(orientation=\"h\"), xaxis=dict(type='date'),\n",
    "        yaxis=dict(title=y_axis_label, showticklabels= not seperate_y_axis, type=scale)) \n",
    "    y_axis_config = dict(overlaying='y', showticklabels=False, type=scale )\n",
    "    visibility = True\n",
    "    if initial_hide:\n",
    "        visibility = 'legendonly'\n",
    "    trace_arr = []\n",
    "    for index, series in enumerate(series_arr):\n",
    "        trace = go.Scatter(x=series.index, y=np.log(series), name=label_arr[index], visible=True)\n",
    "        if seperate_y_axis:\n",
    "            trace['yaxis'] = 'y{}'.format(index + 1)\n",
    "            layout['yaxis{}'.format(index + 1)] = y_axis_config    \n",
    "        trace_arr.append(trace)\n",
    "    fig = go.Figure(data=trace_arr, layout=layout)\n",
    "    py.iplot(fig)"
   ]
  },
  {
   "cell_type": "code",
   "execution_count": null,
   "id": "ff16bd4d",
   "metadata": {},
   "outputs": [],
   "source": [
    "# Plot all of the BTC exchange prices\n",
    "df_scatter(btc_usd_datasets, 'Bitcoin Price (USD) By Exchange')"
   ]
  },
  {
   "cell_type": "code",
   "execution_count": null,
   "id": "08b7d69f",
   "metadata": {},
   "outputs": [],
   "source": [
    "# Remove \"0\" values\n",
    "btc_usd_datasets.replace(0, np.nan, inplace=True)"
   ]
  },
  {
   "cell_type": "code",
   "execution_count": null,
   "id": "f8ad3e78",
   "metadata": {},
   "outputs": [],
   "source": [
    "# Calculate the average BTC price as a new column\n",
    "btc_usd_datasets['avg_btc_price_usd'] = btc_usd_datasets.mean(axis=1)"
   ]
  },
  {
   "cell_type": "code",
   "execution_count": null,
   "id": "2c7e4676",
   "metadata": {},
   "outputs": [],
   "source": [
    "# Plot the average BTC price\n",
    "btc_trace = go.Scatter(x=btc_usd_datasets.index, y=np.log(btc_usd_datasets['avg_btc_price_usd']))\n",
    "py.iplot([btc_trace])"
   ]
  },
  {
   "cell_type": "code",
   "execution_count": null,
   "id": "9db0c578",
   "metadata": {},
   "outputs": [],
   "source": [
    "def get_json_data(json_url, cache_path):\n",
    "    '''Download and cache JSON data, return as a dataframe.'''\n",
    "    try:        \n",
    "        f = open(cache_path, 'rb')\n",
    "        df = pickle.load(f)   \n",
    "        print('Loaded {} from cache'.format(json_url))\n",
    "    except (OSError, IOError) as e:\n",
    "        print('Downloading {}'.format(json_url))\n",
    "        df = pd.read_json(json_url)\n",
    "        df.to_pickle(cache_path)\n",
    "        print('Cached {} at {}'.format(json_url, cache_path))\n",
    "    return df"
   ]
  },
  {
   "cell_type": "code",
   "execution_count": null,
   "id": "22cd825e",
   "metadata": {},
   "outputs": [],
   "source": [
    "base_polo_url = 'https://poloniex.com/public?command=returnChartData&currencyPair={}&start={}&end={}&period={}'\n",
    "start_date = datetime.strptime('2015-01-01', '%Y-%m-%d') # get data from the start of 2015\n",
    "end_date = datetime.now() # up until today\n",
    "pediod = 86400 # pull daily data (86,400 seconds per day)\n",
    "\n",
    "def get_crypto_data(poloniex_pair):\n",
    "    '''Retrieve cryptocurrency data from poloniex'''\n",
    "    json_url = base_polo_url.format(poloniex_pair, start_date.timestamp(), end_date.timestamp(), pediod)\n",
    "    data_df = get_json_data(json_url, poloniex_pair)\n",
    "    data_df = data_df.set_index('date')\n",
    "    return data_df"
   ]
  },
  {
   "cell_type": "code",
   "execution_count": null,
   "id": "2235a640",
   "metadata": {},
   "outputs": [],
   "source": [
    "altcoins = ['ETH','LTC','XRP','ETC','STR','DASH','SC','XMR','XEM']\n",
    "\n",
    "altcoin_data = {}\n",
    "for altcoin in altcoins:\n",
    "    coinpair = 'BTC_{}'.format(altcoin)\n",
    "    crypto_price_df = get_crypto_data(coinpair)\n",
    "    altcoin_data[altcoin] = crypto_price_df"
   ]
  },
  {
   "cell_type": "code",
   "execution_count": null,
   "id": "67ef9af4",
   "metadata": {},
   "outputs": [],
   "source": [
    "altcoin_data['ETH'].tail()"
   ]
  },
  {
   "cell_type": "code",
   "execution_count": null,
   "id": "89e6ef58",
   "metadata": {},
   "outputs": [],
   "source": [
    "# Calculate USD Price as a new column in each altcoin dataframe\n",
    "for altcoin in altcoin_data.keys():\n",
    "    altcoin_data[altcoin]['price_usd'] =  altcoin_data[altcoin]['weightedAverage'] * btc_usd_datasets['avg_btc_price_usd']"
   ]
  },
  {
   "cell_type": "code",
   "execution_count": null,
   "id": "2cc87913",
   "metadata": {},
   "outputs": [],
   "source": [
    "# Merge USD price of each altcoin into single dataframe \n",
    "combined_df = merge_dfs_on_column(list(altcoin_data.values()), list(altcoin_data.keys()), 'price_usd')"
   ]
  },
  {
   "cell_type": "code",
   "execution_count": 5,
   "id": "b9ae2973",
   "metadata": {},
   "outputs": [
    {
     "ename": "NameError",
     "evalue": "name 'btc_usd_datasets' is not defined",
     "output_type": "error",
     "traceback": [
      "\u001b[1;31m---------------------------------------------------------------------------\u001b[0m",
      "\u001b[1;31mNameError\u001b[0m                                 Traceback (most recent call last)",
      "\u001b[1;32m<ipython-input-5-a1e63cb5b3ff>\u001b[0m in \u001b[0;36m<module>\u001b[1;34m\u001b[0m\n\u001b[0;32m      1\u001b[0m \u001b[1;31m# Add BTC price to the dataframe\u001b[0m\u001b[1;33m\u001b[0m\u001b[1;33m\u001b[0m\u001b[1;33m\u001b[0m\u001b[0m\n\u001b[1;32m----> 2\u001b[1;33m \u001b[0mcombined_df\u001b[0m\u001b[1;33m[\u001b[0m\u001b[1;34m'BTC'\u001b[0m\u001b[1;33m]\u001b[0m \u001b[1;33m=\u001b[0m \u001b[0mbtc_usd_datasets\u001b[0m\u001b[1;33m[\u001b[0m\u001b[1;34m'avg_btc_price_usd'\u001b[0m\u001b[1;33m]\u001b[0m\u001b[1;33m\u001b[0m\u001b[1;33m\u001b[0m\u001b[0m\n\u001b[0m",
      "\u001b[1;31mNameError\u001b[0m: name 'btc_usd_datasets' is not defined"
     ]
    }
   ],
   "source": [
    "# Add BTC price to the dataframe\n",
    "combined_df['BTC'] = btc_usd_datasets['avg_btc_price_usd']"
   ]
  },
  {
   "cell_type": "code",
   "execution_count": 6,
   "id": "56371198",
   "metadata": {},
   "outputs": [
    {
     "ename": "NameError",
     "evalue": "name 'df_scatter' is not defined",
     "output_type": "error",
     "traceback": [
      "\u001b[1;31m---------------------------------------------------------------------------\u001b[0m",
      "\u001b[1;31mNameError\u001b[0m                                 Traceback (most recent call last)",
      "\u001b[1;32m<ipython-input-6-6f318567a6e7>\u001b[0m in \u001b[0;36m<module>\u001b[1;34m\u001b[0m\n\u001b[0;32m      1\u001b[0m \u001b[1;31m# Chart all of the altocoin prices\u001b[0m\u001b[1;33m\u001b[0m\u001b[1;33m\u001b[0m\u001b[1;33m\u001b[0m\u001b[0m\n\u001b[1;32m----> 2\u001b[1;33m \u001b[0mdf_scatter\u001b[0m\u001b[1;33m(\u001b[0m\u001b[0mcombined_df\u001b[0m\u001b[1;33m,\u001b[0m \u001b[1;34m'Cryptocurrency Prices (USD)'\u001b[0m\u001b[1;33m,\u001b[0m \u001b[0mseperate_y_axis\u001b[0m\u001b[1;33m=\u001b[0m\u001b[1;32mFalse\u001b[0m\u001b[1;33m,\u001b[0m \u001b[0my_axis_label\u001b[0m\u001b[1;33m=\u001b[0m\u001b[1;34m'Coin Value (USD)'\u001b[0m\u001b[1;33m)\u001b[0m \u001b[1;31m# scale='log'\u001b[0m\u001b[1;33m\u001b[0m\u001b[1;33m\u001b[0m\u001b[0m\n\u001b[0m",
      "\u001b[1;31mNameError\u001b[0m: name 'df_scatter' is not defined"
     ]
    }
   ],
   "source": [
    "# Chart all of the altocoin prices\n",
    "df_scatter(combined_df, 'Cryptocurrency Prices (USD)', seperate_y_axis=False, y_axis_label='Coin Value (USD)') # scale='log'"
   ]
  },
  {
   "cell_type": "code",
   "execution_count": 88,
   "id": "749f6aff",
   "metadata": {},
   "outputs": [
    {
     "data": {
      "text/html": [
       "<div>\n",
       "<style scoped>\n",
       "    .dataframe tbody tr th:only-of-type {\n",
       "        vertical-align: middle;\n",
       "    }\n",
       "\n",
       "    .dataframe tbody tr th {\n",
       "        vertical-align: top;\n",
       "    }\n",
       "\n",
       "    .dataframe thead th {\n",
       "        text-align: right;\n",
       "    }\n",
       "</style>\n",
       "<table border=\"1\" class=\"dataframe\">\n",
       "  <thead>\n",
       "    <tr style=\"text-align: right;\">\n",
       "      <th></th>\n",
       "      <th>ETH</th>\n",
       "      <th>LTC</th>\n",
       "      <th>XRP</th>\n",
       "      <th>ETC</th>\n",
       "      <th>STR</th>\n",
       "      <th>DASH</th>\n",
       "      <th>SC</th>\n",
       "      <th>XMR</th>\n",
       "      <th>XEM</th>\n",
       "      <th>BTC</th>\n",
       "    </tr>\n",
       "  </thead>\n",
       "  <tbody>\n",
       "    <tr>\n",
       "      <th>ETH</th>\n",
       "      <td>1.000000</td>\n",
       "      <td>-0.064652</td>\n",
       "      <td>0.085630</td>\n",
       "      <td>-0.181991</td>\n",
       "      <td>0.035093</td>\n",
       "      <td>0.122695</td>\n",
       "      <td>0.169642</td>\n",
       "      <td>0.087216</td>\n",
       "      <td>0.043205</td>\n",
       "      <td>-0.006502</td>\n",
       "    </tr>\n",
       "    <tr>\n",
       "      <th>LTC</th>\n",
       "      <td>-0.064652</td>\n",
       "      <td>1.000000</td>\n",
       "      <td>0.053712</td>\n",
       "      <td>-0.131079</td>\n",
       "      <td>0.113523</td>\n",
       "      <td>-0.012194</td>\n",
       "      <td>0.012253</td>\n",
       "      <td>0.129475</td>\n",
       "      <td>0.160667</td>\n",
       "      <td>0.750174</td>\n",
       "    </tr>\n",
       "    <tr>\n",
       "      <th>XRP</th>\n",
       "      <td>0.085630</td>\n",
       "      <td>0.053712</td>\n",
       "      <td>1.000000</td>\n",
       "      <td>-0.054095</td>\n",
       "      <td>0.320116</td>\n",
       "      <td>0.088657</td>\n",
       "      <td>0.021098</td>\n",
       "      <td>0.027649</td>\n",
       "      <td>0.101326</td>\n",
       "      <td>0.044161</td>\n",
       "    </tr>\n",
       "    <tr>\n",
       "      <th>ETC</th>\n",
       "      <td>-0.181991</td>\n",
       "      <td>-0.131079</td>\n",
       "      <td>-0.054095</td>\n",
       "      <td>1.000000</td>\n",
       "      <td>-0.102654</td>\n",
       "      <td>0.003992</td>\n",
       "      <td>-0.008066</td>\n",
       "      <td>-0.105898</td>\n",
       "      <td>-0.080938</td>\n",
       "      <td>-0.170538</td>\n",
       "    </tr>\n",
       "    <tr>\n",
       "      <th>STR</th>\n",
       "      <td>0.035093</td>\n",
       "      <td>0.113523</td>\n",
       "      <td>0.320116</td>\n",
       "      <td>-0.102654</td>\n",
       "      <td>1.000000</td>\n",
       "      <td>0.058083</td>\n",
       "      <td>0.143252</td>\n",
       "      <td>0.027998</td>\n",
       "      <td>0.225132</td>\n",
       "      <td>0.079075</td>\n",
       "    </tr>\n",
       "    <tr>\n",
       "      <th>DASH</th>\n",
       "      <td>0.122695</td>\n",
       "      <td>-0.012194</td>\n",
       "      <td>0.088657</td>\n",
       "      <td>0.003992</td>\n",
       "      <td>0.058083</td>\n",
       "      <td>1.000000</td>\n",
       "      <td>0.026602</td>\n",
       "      <td>0.121537</td>\n",
       "      <td>0.014571</td>\n",
       "      <td>-0.014040</td>\n",
       "    </tr>\n",
       "    <tr>\n",
       "      <th>SC</th>\n",
       "      <td>0.169642</td>\n",
       "      <td>0.012253</td>\n",
       "      <td>0.021098</td>\n",
       "      <td>-0.008066</td>\n",
       "      <td>0.143252</td>\n",
       "      <td>0.026602</td>\n",
       "      <td>1.000000</td>\n",
       "      <td>0.047910</td>\n",
       "      <td>0.106153</td>\n",
       "      <td>0.035116</td>\n",
       "    </tr>\n",
       "    <tr>\n",
       "      <th>XMR</th>\n",
       "      <td>0.087216</td>\n",
       "      <td>0.129475</td>\n",
       "      <td>0.027649</td>\n",
       "      <td>-0.105898</td>\n",
       "      <td>0.027998</td>\n",
       "      <td>0.121537</td>\n",
       "      <td>0.047910</td>\n",
       "      <td>1.000000</td>\n",
       "      <td>0.016438</td>\n",
       "      <td>0.127520</td>\n",
       "    </tr>\n",
       "    <tr>\n",
       "      <th>XEM</th>\n",
       "      <td>0.043205</td>\n",
       "      <td>0.160667</td>\n",
       "      <td>0.101326</td>\n",
       "      <td>-0.080938</td>\n",
       "      <td>0.225132</td>\n",
       "      <td>0.014571</td>\n",
       "      <td>0.106153</td>\n",
       "      <td>0.016438</td>\n",
       "      <td>1.000000</td>\n",
       "      <td>0.227674</td>\n",
       "    </tr>\n",
       "    <tr>\n",
       "      <th>BTC</th>\n",
       "      <td>-0.006502</td>\n",
       "      <td>0.750174</td>\n",
       "      <td>0.044161</td>\n",
       "      <td>-0.170538</td>\n",
       "      <td>0.079075</td>\n",
       "      <td>-0.014040</td>\n",
       "      <td>0.035116</td>\n",
       "      <td>0.127520</td>\n",
       "      <td>0.227674</td>\n",
       "      <td>1.000000</td>\n",
       "    </tr>\n",
       "  </tbody>\n",
       "</table>\n",
       "</div>"
      ],
      "text/plain": [
       "           ETH       LTC       XRP       ETC       STR      DASH        SC  \\\n",
       "ETH   1.000000 -0.064652  0.085630 -0.181991  0.035093  0.122695  0.169642   \n",
       "LTC  -0.064652  1.000000  0.053712 -0.131079  0.113523 -0.012194  0.012253   \n",
       "XRP   0.085630  0.053712  1.000000 -0.054095  0.320116  0.088657  0.021098   \n",
       "ETC  -0.181991 -0.131079 -0.054095  1.000000 -0.102654  0.003992 -0.008066   \n",
       "STR   0.035093  0.113523  0.320116 -0.102654  1.000000  0.058083  0.143252   \n",
       "DASH  0.122695 -0.012194  0.088657  0.003992  0.058083  1.000000  0.026602   \n",
       "SC    0.169642  0.012253  0.021098 -0.008066  0.143252  0.026602  1.000000   \n",
       "XMR   0.087216  0.129475  0.027649 -0.105898  0.027998  0.121537  0.047910   \n",
       "XEM   0.043205  0.160667  0.101326 -0.080938  0.225132  0.014571  0.106153   \n",
       "BTC  -0.006502  0.750174  0.044161 -0.170538  0.079075 -0.014040  0.035116   \n",
       "\n",
       "           XMR       XEM       BTC  \n",
       "ETH   0.087216  0.043205 -0.006502  \n",
       "LTC   0.129475  0.160667  0.750174  \n",
       "XRP   0.027649  0.101326  0.044161  \n",
       "ETC  -0.105898 -0.080938 -0.170538  \n",
       "STR   0.027998  0.225132  0.079075  \n",
       "DASH  0.121537  0.014571 -0.014040  \n",
       "SC    0.047910  0.106153  0.035116  \n",
       "XMR   1.000000  0.016438  0.127520  \n",
       "XEM   0.016438  1.000000  0.227674  \n",
       "BTC   0.127520  0.227674  1.000000  "
      ]
     },
     "execution_count": 88,
     "metadata": {},
     "output_type": "execute_result"
    }
   ],
   "source": [
    "# Calculate the pearson correlation coefficients for cryptocurrencies in 2016\n",
    "combined_df_2016 = combined_df[combined_df.index.year == 2016]\n",
    "combined_df_2016.pct_change().corr(method='pearson')"
   ]
  },
  {
   "cell_type": "code",
   "execution_count": 101,
   "id": "380caf75",
   "metadata": {},
   "outputs": [],
   "source": [
    "def correlation_heatmap(df, title, absolute_bounds=True):\n",
    "    '''Plot a correlation heatmap for the entire dataframe'''\n",
    "    heatmap = go.Heatmap(\n",
    "        z=df.corr(method='pearson').values,\n",
    "        x=df.columns,\n",
    "        y=df.columns,\n",
    "        colorbar=dict(title='Pearson Coefficient'),\n",
    "    )\n",
    "    \n",
    "    layout = go.Layout(title=title)\n",
    "    \n",
    "    if absolute_bounds:\n",
    "        heatmap['zmax'] = 1.0\n",
    "        heatmap['zmin'] = -1.0\n",
    "        \n",
    "    fig = go.Figure(data=[heatmap], layout=layout)\n",
    "    py.iplot(fig)"
   ]
  },
  {
   "cell_type": "code",
   "execution_count": 102,
   "id": "72f9a6e5",
   "metadata": {},
   "outputs": [
    {
     "data": {
      "application/vnd.plotly.v1+json": {
       "config": {
        "linkText": "Export to plot.ly",
        "plotlyServerURL": "https://plot.ly",
        "showLink": false
       },
       "data": [
        {
         "colorbar": {
          "title": {
           "text": "Pearson Coefficient"
          }
         },
         "type": "heatmap",
         "x": [
          "ETH",
          "LTC",
          "XRP",
          "ETC",
          "STR",
          "DASH",
          "SC",
          "XMR",
          "XEM",
          "BTC"
         ],
         "y": [
          "ETH",
          "LTC",
          "XRP",
          "ETC",
          "STR",
          "DASH",
          "SC",
          "XMR",
          "XEM",
          "BTC"
         ],
         "z": [
          [
           1,
           -0.06465218973099343,
           0.08562989924170024,
           -0.18199144593698316,
           0.03509345725369254,
           0.12269514558941512,
           0.16964206118267056,
           0.08721563505263215,
           0.04320496261222395,
           -0.006502147713525529
          ],
          [
           -0.06465218973099343,
           1,
           0.053711700504775806,
           -0.13107858347747325,
           0.1135232755749294,
           -0.012193831341402978,
           0.012253161443144046,
           0.12947480150376375,
           0.16066658160246194,
           0.7501741922358187
          ],
          [
           0.08562989924170024,
           0.053711700504775806,
           1,
           -0.054094971208141725,
           0.3201159159040391,
           0.08865653149107139,
           0.02109762478394008,
           0.027649262753178278,
           0.10132596678193617,
           0.04416146608286971
          ],
          [
           -0.18199144593698316,
           -0.13107858347747325,
           -0.054094971208141725,
           1,
           -0.10265415203270406,
           0.003991520557545119,
           -0.008066486122967391,
           -0.10589794169024835,
           -0.08093765482194909,
           -0.1705377720329954
          ],
          [
           0.03509345725369254,
           0.1135232755749294,
           0.3201159159040391,
           -0.10265415203270406,
           1,
           0.05808284827106962,
           0.1432515359246197,
           0.02799768131850523,
           0.2251322921792358,
           0.07907527896823963
          ],
          [
           0.12269514558941512,
           -0.012193831341402978,
           0.08865653149107139,
           0.003991520557545119,
           0.05808284827106962,
           1,
           0.026602042198892367,
           0.12153747874406338,
           0.014571125037378157,
           -0.01403984517623101
          ],
          [
           0.16964206118267056,
           0.012253161443144046,
           0.02109762478394008,
           -0.008066486122967391,
           0.1432515359246197,
           0.026602042198892367,
           1,
           0.04791016062345219,
           0.1061527549691508,
           0.0351161529499847
          ],
          [
           0.08721563505263215,
           0.12947480150376375,
           0.027649262753178278,
           -0.10589794169024835,
           0.02799768131850523,
           0.12153747874406338,
           0.04791016062345219,
           1,
           0.016438126854004687,
           0.12751950082620203
          ],
          [
           0.04320496261222395,
           0.16066658160246194,
           0.10132596678193617,
           -0.08093765482194909,
           0.2251322921792358,
           0.014571125037378157,
           0.1061527549691508,
           0.016438126854004687,
           1,
           0.22767400181529282
          ],
          [
           -0.006502147713525529,
           0.7501741922358187,
           0.04416146608286971,
           -0.1705377720329954,
           0.07907527896823963,
           -0.01403984517623101,
           0.0351161529499847,
           0.12751950082620203,
           0.22767400181529282,
           1
          ]
         ],
         "zmax": 1,
         "zmin": -1
        }
       ],
       "layout": {
        "template": {
         "data": {
          "bar": [
           {
            "error_x": {
             "color": "#2a3f5f"
            },
            "error_y": {
             "color": "#2a3f5f"
            },
            "marker": {
             "line": {
              "color": "#E5ECF6",
              "width": 0.5
             }
            },
            "type": "bar"
           }
          ],
          "barpolar": [
           {
            "marker": {
             "line": {
              "color": "#E5ECF6",
              "width": 0.5
             }
            },
            "type": "barpolar"
           }
          ],
          "carpet": [
           {
            "aaxis": {
             "endlinecolor": "#2a3f5f",
             "gridcolor": "white",
             "linecolor": "white",
             "minorgridcolor": "white",
             "startlinecolor": "#2a3f5f"
            },
            "baxis": {
             "endlinecolor": "#2a3f5f",
             "gridcolor": "white",
             "linecolor": "white",
             "minorgridcolor": "white",
             "startlinecolor": "#2a3f5f"
            },
            "type": "carpet"
           }
          ],
          "choropleth": [
           {
            "colorbar": {
             "outlinewidth": 0,
             "ticks": ""
            },
            "type": "choropleth"
           }
          ],
          "contour": [
           {
            "colorbar": {
             "outlinewidth": 0,
             "ticks": ""
            },
            "colorscale": [
             [
              0,
              "#0d0887"
             ],
             [
              0.1111111111111111,
              "#46039f"
             ],
             [
              0.2222222222222222,
              "#7201a8"
             ],
             [
              0.3333333333333333,
              "#9c179e"
             ],
             [
              0.4444444444444444,
              "#bd3786"
             ],
             [
              0.5555555555555556,
              "#d8576b"
             ],
             [
              0.6666666666666666,
              "#ed7953"
             ],
             [
              0.7777777777777778,
              "#fb9f3a"
             ],
             [
              0.8888888888888888,
              "#fdca26"
             ],
             [
              1,
              "#f0f921"
             ]
            ],
            "type": "contour"
           }
          ],
          "contourcarpet": [
           {
            "colorbar": {
             "outlinewidth": 0,
             "ticks": ""
            },
            "type": "contourcarpet"
           }
          ],
          "heatmap": [
           {
            "colorbar": {
             "outlinewidth": 0,
             "ticks": ""
            },
            "colorscale": [
             [
              0,
              "#0d0887"
             ],
             [
              0.1111111111111111,
              "#46039f"
             ],
             [
              0.2222222222222222,
              "#7201a8"
             ],
             [
              0.3333333333333333,
              "#9c179e"
             ],
             [
              0.4444444444444444,
              "#bd3786"
             ],
             [
              0.5555555555555556,
              "#d8576b"
             ],
             [
              0.6666666666666666,
              "#ed7953"
             ],
             [
              0.7777777777777778,
              "#fb9f3a"
             ],
             [
              0.8888888888888888,
              "#fdca26"
             ],
             [
              1,
              "#f0f921"
             ]
            ],
            "type": "heatmap"
           }
          ],
          "heatmapgl": [
           {
            "colorbar": {
             "outlinewidth": 0,
             "ticks": ""
            },
            "colorscale": [
             [
              0,
              "#0d0887"
             ],
             [
              0.1111111111111111,
              "#46039f"
             ],
             [
              0.2222222222222222,
              "#7201a8"
             ],
             [
              0.3333333333333333,
              "#9c179e"
             ],
             [
              0.4444444444444444,
              "#bd3786"
             ],
             [
              0.5555555555555556,
              "#d8576b"
             ],
             [
              0.6666666666666666,
              "#ed7953"
             ],
             [
              0.7777777777777778,
              "#fb9f3a"
             ],
             [
              0.8888888888888888,
              "#fdca26"
             ],
             [
              1,
              "#f0f921"
             ]
            ],
            "type": "heatmapgl"
           }
          ],
          "histogram": [
           {
            "marker": {
             "colorbar": {
              "outlinewidth": 0,
              "ticks": ""
             }
            },
            "type": "histogram"
           }
          ],
          "histogram2d": [
           {
            "colorbar": {
             "outlinewidth": 0,
             "ticks": ""
            },
            "colorscale": [
             [
              0,
              "#0d0887"
             ],
             [
              0.1111111111111111,
              "#46039f"
             ],
             [
              0.2222222222222222,
              "#7201a8"
             ],
             [
              0.3333333333333333,
              "#9c179e"
             ],
             [
              0.4444444444444444,
              "#bd3786"
             ],
             [
              0.5555555555555556,
              "#d8576b"
             ],
             [
              0.6666666666666666,
              "#ed7953"
             ],
             [
              0.7777777777777778,
              "#fb9f3a"
             ],
             [
              0.8888888888888888,
              "#fdca26"
             ],
             [
              1,
              "#f0f921"
             ]
            ],
            "type": "histogram2d"
           }
          ],
          "histogram2dcontour": [
           {
            "colorbar": {
             "outlinewidth": 0,
             "ticks": ""
            },
            "colorscale": [
             [
              0,
              "#0d0887"
             ],
             [
              0.1111111111111111,
              "#46039f"
             ],
             [
              0.2222222222222222,
              "#7201a8"
             ],
             [
              0.3333333333333333,
              "#9c179e"
             ],
             [
              0.4444444444444444,
              "#bd3786"
             ],
             [
              0.5555555555555556,
              "#d8576b"
             ],
             [
              0.6666666666666666,
              "#ed7953"
             ],
             [
              0.7777777777777778,
              "#fb9f3a"
             ],
             [
              0.8888888888888888,
              "#fdca26"
             ],
             [
              1,
              "#f0f921"
             ]
            ],
            "type": "histogram2dcontour"
           }
          ],
          "mesh3d": [
           {
            "colorbar": {
             "outlinewidth": 0,
             "ticks": ""
            },
            "type": "mesh3d"
           }
          ],
          "parcoords": [
           {
            "line": {
             "colorbar": {
              "outlinewidth": 0,
              "ticks": ""
             }
            },
            "type": "parcoords"
           }
          ],
          "pie": [
           {
            "automargin": true,
            "type": "pie"
           }
          ],
          "scatter": [
           {
            "marker": {
             "colorbar": {
              "outlinewidth": 0,
              "ticks": ""
             }
            },
            "type": "scatter"
           }
          ],
          "scatter3d": [
           {
            "line": {
             "colorbar": {
              "outlinewidth": 0,
              "ticks": ""
             }
            },
            "marker": {
             "colorbar": {
              "outlinewidth": 0,
              "ticks": ""
             }
            },
            "type": "scatter3d"
           }
          ],
          "scattercarpet": [
           {
            "marker": {
             "colorbar": {
              "outlinewidth": 0,
              "ticks": ""
             }
            },
            "type": "scattercarpet"
           }
          ],
          "scattergeo": [
           {
            "marker": {
             "colorbar": {
              "outlinewidth": 0,
              "ticks": ""
             }
            },
            "type": "scattergeo"
           }
          ],
          "scattergl": [
           {
            "marker": {
             "colorbar": {
              "outlinewidth": 0,
              "ticks": ""
             }
            },
            "type": "scattergl"
           }
          ],
          "scattermapbox": [
           {
            "marker": {
             "colorbar": {
              "outlinewidth": 0,
              "ticks": ""
             }
            },
            "type": "scattermapbox"
           }
          ],
          "scatterpolar": [
           {
            "marker": {
             "colorbar": {
              "outlinewidth": 0,
              "ticks": ""
             }
            },
            "type": "scatterpolar"
           }
          ],
          "scatterpolargl": [
           {
            "marker": {
             "colorbar": {
              "outlinewidth": 0,
              "ticks": ""
             }
            },
            "type": "scatterpolargl"
           }
          ],
          "scatterternary": [
           {
            "marker": {
             "colorbar": {
              "outlinewidth": 0,
              "ticks": ""
             }
            },
            "type": "scatterternary"
           }
          ],
          "surface": [
           {
            "colorbar": {
             "outlinewidth": 0,
             "ticks": ""
            },
            "colorscale": [
             [
              0,
              "#0d0887"
             ],
             [
              0.1111111111111111,
              "#46039f"
             ],
             [
              0.2222222222222222,
              "#7201a8"
             ],
             [
              0.3333333333333333,
              "#9c179e"
             ],
             [
              0.4444444444444444,
              "#bd3786"
             ],
             [
              0.5555555555555556,
              "#d8576b"
             ],
             [
              0.6666666666666666,
              "#ed7953"
             ],
             [
              0.7777777777777778,
              "#fb9f3a"
             ],
             [
              0.8888888888888888,
              "#fdca26"
             ],
             [
              1,
              "#f0f921"
             ]
            ],
            "type": "surface"
           }
          ],
          "table": [
           {
            "cells": {
             "fill": {
              "color": "#EBF0F8"
             },
             "line": {
              "color": "white"
             }
            },
            "header": {
             "fill": {
              "color": "#C8D4E3"
             },
             "line": {
              "color": "white"
             }
            },
            "type": "table"
           }
          ]
         },
         "layout": {
          "annotationdefaults": {
           "arrowcolor": "#2a3f5f",
           "arrowhead": 0,
           "arrowwidth": 1
          },
          "autotypenumbers": "strict",
          "coloraxis": {
           "colorbar": {
            "outlinewidth": 0,
            "ticks": ""
           }
          },
          "colorscale": {
           "diverging": [
            [
             0,
             "#8e0152"
            ],
            [
             0.1,
             "#c51b7d"
            ],
            [
             0.2,
             "#de77ae"
            ],
            [
             0.3,
             "#f1b6da"
            ],
            [
             0.4,
             "#fde0ef"
            ],
            [
             0.5,
             "#f7f7f7"
            ],
            [
             0.6,
             "#e6f5d0"
            ],
            [
             0.7,
             "#b8e186"
            ],
            [
             0.8,
             "#7fbc41"
            ],
            [
             0.9,
             "#4d9221"
            ],
            [
             1,
             "#276419"
            ]
           ],
           "sequential": [
            [
             0,
             "#0d0887"
            ],
            [
             0.1111111111111111,
             "#46039f"
            ],
            [
             0.2222222222222222,
             "#7201a8"
            ],
            [
             0.3333333333333333,
             "#9c179e"
            ],
            [
             0.4444444444444444,
             "#bd3786"
            ],
            [
             0.5555555555555556,
             "#d8576b"
            ],
            [
             0.6666666666666666,
             "#ed7953"
            ],
            [
             0.7777777777777778,
             "#fb9f3a"
            ],
            [
             0.8888888888888888,
             "#fdca26"
            ],
            [
             1,
             "#f0f921"
            ]
           ],
           "sequentialminus": [
            [
             0,
             "#0d0887"
            ],
            [
             0.1111111111111111,
             "#46039f"
            ],
            [
             0.2222222222222222,
             "#7201a8"
            ],
            [
             0.3333333333333333,
             "#9c179e"
            ],
            [
             0.4444444444444444,
             "#bd3786"
            ],
            [
             0.5555555555555556,
             "#d8576b"
            ],
            [
             0.6666666666666666,
             "#ed7953"
            ],
            [
             0.7777777777777778,
             "#fb9f3a"
            ],
            [
             0.8888888888888888,
             "#fdca26"
            ],
            [
             1,
             "#f0f921"
            ]
           ]
          },
          "colorway": [
           "#636efa",
           "#EF553B",
           "#00cc96",
           "#ab63fa",
           "#FFA15A",
           "#19d3f3",
           "#FF6692",
           "#B6E880",
           "#FF97FF",
           "#FECB52"
          ],
          "font": {
           "color": "#2a3f5f"
          },
          "geo": {
           "bgcolor": "white",
           "lakecolor": "white",
           "landcolor": "#E5ECF6",
           "showlakes": true,
           "showland": true,
           "subunitcolor": "white"
          },
          "hoverlabel": {
           "align": "left"
          },
          "hovermode": "closest",
          "mapbox": {
           "style": "light"
          },
          "paper_bgcolor": "white",
          "plot_bgcolor": "#E5ECF6",
          "polar": {
           "angularaxis": {
            "gridcolor": "white",
            "linecolor": "white",
            "ticks": ""
           },
           "bgcolor": "#E5ECF6",
           "radialaxis": {
            "gridcolor": "white",
            "linecolor": "white",
            "ticks": ""
           }
          },
          "scene": {
           "xaxis": {
            "backgroundcolor": "#E5ECF6",
            "gridcolor": "white",
            "gridwidth": 2,
            "linecolor": "white",
            "showbackground": true,
            "ticks": "",
            "zerolinecolor": "white"
           },
           "yaxis": {
            "backgroundcolor": "#E5ECF6",
            "gridcolor": "white",
            "gridwidth": 2,
            "linecolor": "white",
            "showbackground": true,
            "ticks": "",
            "zerolinecolor": "white"
           },
           "zaxis": {
            "backgroundcolor": "#E5ECF6",
            "gridcolor": "white",
            "gridwidth": 2,
            "linecolor": "white",
            "showbackground": true,
            "ticks": "",
            "zerolinecolor": "white"
           }
          },
          "shapedefaults": {
           "line": {
            "color": "#2a3f5f"
           }
          },
          "ternary": {
           "aaxis": {
            "gridcolor": "white",
            "linecolor": "white",
            "ticks": ""
           },
           "baxis": {
            "gridcolor": "white",
            "linecolor": "white",
            "ticks": ""
           },
           "bgcolor": "#E5ECF6",
           "caxis": {
            "gridcolor": "white",
            "linecolor": "white",
            "ticks": ""
           }
          },
          "title": {
           "x": 0.05
          },
          "xaxis": {
           "automargin": true,
           "gridcolor": "white",
           "linecolor": "white",
           "ticks": "",
           "title": {
            "standoff": 15
           },
           "zerolinecolor": "white",
           "zerolinewidth": 2
          },
          "yaxis": {
           "automargin": true,
           "gridcolor": "white",
           "linecolor": "white",
           "ticks": "",
           "title": {
            "standoff": 15
           },
           "zerolinecolor": "white",
           "zerolinewidth": 2
          }
         }
        },
        "title": {
         "text": "Cryptocurrency Correlations in 2016"
        }
       }
      },
      "text/html": [
       "<div>                            <div id=\"3b4f6321-cb9d-43b4-aa66-b9b48f7e68c3\" class=\"plotly-graph-div\" style=\"height:525px; width:100%;\"></div>            <script type=\"text/javascript\">                require([\"plotly\"], function(Plotly) {                    window.PLOTLYENV=window.PLOTLYENV || {};                                    if (document.getElementById(\"3b4f6321-cb9d-43b4-aa66-b9b48f7e68c3\")) {                    Plotly.newPlot(                        \"3b4f6321-cb9d-43b4-aa66-b9b48f7e68c3\",                        [{\"colorbar\": {\"title\": {\"text\": \"Pearson Coefficient\"}}, \"type\": \"heatmap\", \"x\": [\"ETH\", \"LTC\", \"XRP\", \"ETC\", \"STR\", \"DASH\", \"SC\", \"XMR\", \"XEM\", \"BTC\"], \"y\": [\"ETH\", \"LTC\", \"XRP\", \"ETC\", \"STR\", \"DASH\", \"SC\", \"XMR\", \"XEM\", \"BTC\"], \"z\": [[1.0, -0.06465218973099343, 0.08562989924170024, -0.18199144593698316, 0.03509345725369254, 0.12269514558941512, 0.16964206118267056, 0.08721563505263215, 0.04320496261222395, -0.006502147713525529], [-0.06465218973099343, 1.0, 0.053711700504775806, -0.13107858347747325, 0.1135232755749294, -0.012193831341402978, 0.012253161443144046, 0.12947480150376375, 0.16066658160246194, 0.7501741922358187], [0.08562989924170024, 0.053711700504775806, 1.0, -0.054094971208141725, 0.3201159159040391, 0.08865653149107139, 0.02109762478394008, 0.027649262753178278, 0.10132596678193617, 0.04416146608286971], [-0.18199144593698316, -0.13107858347747325, -0.054094971208141725, 1.0, -0.10265415203270406, 0.003991520557545119, -0.008066486122967391, -0.10589794169024835, -0.08093765482194909, -0.1705377720329954], [0.03509345725369254, 0.1135232755749294, 0.3201159159040391, -0.10265415203270406, 1.0, 0.05808284827106962, 0.1432515359246197, 0.02799768131850523, 0.2251322921792358, 0.07907527896823963], [0.12269514558941512, -0.012193831341402978, 0.08865653149107139, 0.003991520557545119, 0.05808284827106962, 1.0, 0.026602042198892367, 0.12153747874406338, 0.014571125037378157, -0.01403984517623101], [0.16964206118267056, 0.012253161443144046, 0.02109762478394008, -0.008066486122967391, 0.1432515359246197, 0.026602042198892367, 1.0, 0.04791016062345219, 0.1061527549691508, 0.0351161529499847], [0.08721563505263215, 0.12947480150376375, 0.027649262753178278, -0.10589794169024835, 0.02799768131850523, 0.12153747874406338, 0.04791016062345219, 1.0, 0.016438126854004687, 0.12751950082620203], [0.04320496261222395, 0.16066658160246194, 0.10132596678193617, -0.08093765482194909, 0.2251322921792358, 0.014571125037378157, 0.1061527549691508, 0.016438126854004687, 1.0, 0.22767400181529282], [-0.006502147713525529, 0.7501741922358187, 0.04416146608286971, -0.1705377720329954, 0.07907527896823963, -0.01403984517623101, 0.0351161529499847, 0.12751950082620203, 0.22767400181529282, 1.0]], \"zmax\": 1.0, \"zmin\": -1.0}],                        {\"template\": {\"data\": {\"bar\": [{\"error_x\": {\"color\": \"#2a3f5f\"}, \"error_y\": {\"color\": \"#2a3f5f\"}, \"marker\": {\"line\": {\"color\": \"#E5ECF6\", \"width\": 0.5}}, \"type\": \"bar\"}], \"barpolar\": [{\"marker\": {\"line\": {\"color\": \"#E5ECF6\", \"width\": 0.5}}, \"type\": \"barpolar\"}], \"carpet\": [{\"aaxis\": {\"endlinecolor\": \"#2a3f5f\", \"gridcolor\": \"white\", \"linecolor\": \"white\", \"minorgridcolor\": \"white\", \"startlinecolor\": \"#2a3f5f\"}, \"baxis\": {\"endlinecolor\": \"#2a3f5f\", \"gridcolor\": \"white\", \"linecolor\": \"white\", \"minorgridcolor\": \"white\", \"startlinecolor\": \"#2a3f5f\"}, \"type\": \"carpet\"}], \"choropleth\": [{\"colorbar\": {\"outlinewidth\": 0, \"ticks\": \"\"}, \"type\": \"choropleth\"}], \"contour\": [{\"colorbar\": {\"outlinewidth\": 0, \"ticks\": \"\"}, \"colorscale\": [[0.0, \"#0d0887\"], [0.1111111111111111, \"#46039f\"], [0.2222222222222222, \"#7201a8\"], [0.3333333333333333, \"#9c179e\"], [0.4444444444444444, \"#bd3786\"], [0.5555555555555556, \"#d8576b\"], [0.6666666666666666, \"#ed7953\"], [0.7777777777777778, \"#fb9f3a\"], [0.8888888888888888, \"#fdca26\"], [1.0, \"#f0f921\"]], \"type\": \"contour\"}], \"contourcarpet\": [{\"colorbar\": {\"outlinewidth\": 0, \"ticks\": \"\"}, \"type\": \"contourcarpet\"}], \"heatmap\": [{\"colorbar\": {\"outlinewidth\": 0, \"ticks\": \"\"}, \"colorscale\": [[0.0, \"#0d0887\"], [0.1111111111111111, \"#46039f\"], [0.2222222222222222, \"#7201a8\"], [0.3333333333333333, \"#9c179e\"], [0.4444444444444444, \"#bd3786\"], [0.5555555555555556, \"#d8576b\"], [0.6666666666666666, \"#ed7953\"], [0.7777777777777778, \"#fb9f3a\"], [0.8888888888888888, \"#fdca26\"], [1.0, \"#f0f921\"]], \"type\": \"heatmap\"}], \"heatmapgl\": [{\"colorbar\": {\"outlinewidth\": 0, \"ticks\": \"\"}, \"colorscale\": [[0.0, \"#0d0887\"], [0.1111111111111111, \"#46039f\"], [0.2222222222222222, \"#7201a8\"], [0.3333333333333333, \"#9c179e\"], [0.4444444444444444, \"#bd3786\"], [0.5555555555555556, \"#d8576b\"], [0.6666666666666666, \"#ed7953\"], [0.7777777777777778, \"#fb9f3a\"], [0.8888888888888888, \"#fdca26\"], [1.0, \"#f0f921\"]], \"type\": \"heatmapgl\"}], \"histogram\": [{\"marker\": {\"colorbar\": {\"outlinewidth\": 0, \"ticks\": \"\"}}, \"type\": \"histogram\"}], \"histogram2d\": [{\"colorbar\": {\"outlinewidth\": 0, \"ticks\": \"\"}, \"colorscale\": [[0.0, \"#0d0887\"], [0.1111111111111111, \"#46039f\"], [0.2222222222222222, \"#7201a8\"], [0.3333333333333333, \"#9c179e\"], [0.4444444444444444, \"#bd3786\"], [0.5555555555555556, \"#d8576b\"], [0.6666666666666666, \"#ed7953\"], [0.7777777777777778, \"#fb9f3a\"], [0.8888888888888888, \"#fdca26\"], [1.0, \"#f0f921\"]], \"type\": \"histogram2d\"}], \"histogram2dcontour\": [{\"colorbar\": {\"outlinewidth\": 0, \"ticks\": \"\"}, \"colorscale\": [[0.0, \"#0d0887\"], [0.1111111111111111, \"#46039f\"], [0.2222222222222222, \"#7201a8\"], [0.3333333333333333, \"#9c179e\"], [0.4444444444444444, \"#bd3786\"], [0.5555555555555556, \"#d8576b\"], [0.6666666666666666, \"#ed7953\"], [0.7777777777777778, \"#fb9f3a\"], [0.8888888888888888, \"#fdca26\"], [1.0, \"#f0f921\"]], \"type\": \"histogram2dcontour\"}], \"mesh3d\": [{\"colorbar\": {\"outlinewidth\": 0, \"ticks\": \"\"}, \"type\": \"mesh3d\"}], \"parcoords\": [{\"line\": {\"colorbar\": {\"outlinewidth\": 0, \"ticks\": \"\"}}, \"type\": \"parcoords\"}], \"pie\": [{\"automargin\": true, \"type\": \"pie\"}], \"scatter\": [{\"marker\": {\"colorbar\": {\"outlinewidth\": 0, \"ticks\": \"\"}}, \"type\": \"scatter\"}], \"scatter3d\": [{\"line\": {\"colorbar\": {\"outlinewidth\": 0, \"ticks\": \"\"}}, \"marker\": {\"colorbar\": {\"outlinewidth\": 0, \"ticks\": \"\"}}, \"type\": \"scatter3d\"}], \"scattercarpet\": [{\"marker\": {\"colorbar\": {\"outlinewidth\": 0, \"ticks\": \"\"}}, \"type\": \"scattercarpet\"}], \"scattergeo\": [{\"marker\": {\"colorbar\": {\"outlinewidth\": 0, \"ticks\": \"\"}}, \"type\": \"scattergeo\"}], \"scattergl\": [{\"marker\": {\"colorbar\": {\"outlinewidth\": 0, \"ticks\": \"\"}}, \"type\": \"scattergl\"}], \"scattermapbox\": [{\"marker\": {\"colorbar\": {\"outlinewidth\": 0, \"ticks\": \"\"}}, \"type\": \"scattermapbox\"}], \"scatterpolar\": [{\"marker\": {\"colorbar\": {\"outlinewidth\": 0, \"ticks\": \"\"}}, \"type\": \"scatterpolar\"}], \"scatterpolargl\": [{\"marker\": {\"colorbar\": {\"outlinewidth\": 0, \"ticks\": \"\"}}, \"type\": \"scatterpolargl\"}], \"scatterternary\": [{\"marker\": {\"colorbar\": {\"outlinewidth\": 0, \"ticks\": \"\"}}, \"type\": \"scatterternary\"}], \"surface\": [{\"colorbar\": {\"outlinewidth\": 0, \"ticks\": \"\"}, \"colorscale\": [[0.0, \"#0d0887\"], [0.1111111111111111, \"#46039f\"], [0.2222222222222222, \"#7201a8\"], [0.3333333333333333, \"#9c179e\"], [0.4444444444444444, \"#bd3786\"], [0.5555555555555556, \"#d8576b\"], [0.6666666666666666, \"#ed7953\"], [0.7777777777777778, \"#fb9f3a\"], [0.8888888888888888, \"#fdca26\"], [1.0, \"#f0f921\"]], \"type\": \"surface\"}], \"table\": [{\"cells\": {\"fill\": {\"color\": \"#EBF0F8\"}, \"line\": {\"color\": \"white\"}}, \"header\": {\"fill\": {\"color\": \"#C8D4E3\"}, \"line\": {\"color\": \"white\"}}, \"type\": \"table\"}]}, \"layout\": {\"annotationdefaults\": {\"arrowcolor\": \"#2a3f5f\", \"arrowhead\": 0, \"arrowwidth\": 1}, \"autotypenumbers\": \"strict\", \"coloraxis\": {\"colorbar\": {\"outlinewidth\": 0, \"ticks\": \"\"}}, \"colorscale\": {\"diverging\": [[0, \"#8e0152\"], [0.1, \"#c51b7d\"], [0.2, \"#de77ae\"], [0.3, \"#f1b6da\"], [0.4, \"#fde0ef\"], [0.5, \"#f7f7f7\"], [0.6, \"#e6f5d0\"], [0.7, \"#b8e186\"], [0.8, \"#7fbc41\"], [0.9, \"#4d9221\"], [1, \"#276419\"]], \"sequential\": [[0.0, \"#0d0887\"], [0.1111111111111111, \"#46039f\"], [0.2222222222222222, \"#7201a8\"], [0.3333333333333333, \"#9c179e\"], [0.4444444444444444, \"#bd3786\"], [0.5555555555555556, \"#d8576b\"], [0.6666666666666666, \"#ed7953\"], [0.7777777777777778, \"#fb9f3a\"], [0.8888888888888888, \"#fdca26\"], [1.0, \"#f0f921\"]], \"sequentialminus\": [[0.0, \"#0d0887\"], [0.1111111111111111, \"#46039f\"], [0.2222222222222222, \"#7201a8\"], [0.3333333333333333, \"#9c179e\"], [0.4444444444444444, \"#bd3786\"], [0.5555555555555556, \"#d8576b\"], [0.6666666666666666, \"#ed7953\"], [0.7777777777777778, \"#fb9f3a\"], [0.8888888888888888, \"#fdca26\"], [1.0, \"#f0f921\"]]}, \"colorway\": [\"#636efa\", \"#EF553B\", \"#00cc96\", \"#ab63fa\", \"#FFA15A\", \"#19d3f3\", \"#FF6692\", \"#B6E880\", \"#FF97FF\", \"#FECB52\"], \"font\": {\"color\": \"#2a3f5f\"}, \"geo\": {\"bgcolor\": \"white\", \"lakecolor\": \"white\", \"landcolor\": \"#E5ECF6\", \"showlakes\": true, \"showland\": true, \"subunitcolor\": \"white\"}, \"hoverlabel\": {\"align\": \"left\"}, \"hovermode\": \"closest\", \"mapbox\": {\"style\": \"light\"}, \"paper_bgcolor\": \"white\", \"plot_bgcolor\": \"#E5ECF6\", \"polar\": {\"angularaxis\": {\"gridcolor\": \"white\", \"linecolor\": \"white\", \"ticks\": \"\"}, \"bgcolor\": \"#E5ECF6\", \"radialaxis\": {\"gridcolor\": \"white\", \"linecolor\": \"white\", \"ticks\": \"\"}}, \"scene\": {\"xaxis\": {\"backgroundcolor\": \"#E5ECF6\", \"gridcolor\": \"white\", \"gridwidth\": 2, \"linecolor\": \"white\", \"showbackground\": true, \"ticks\": \"\", \"zerolinecolor\": \"white\"}, \"yaxis\": {\"backgroundcolor\": \"#E5ECF6\", \"gridcolor\": \"white\", \"gridwidth\": 2, \"linecolor\": \"white\", \"showbackground\": true, \"ticks\": \"\", \"zerolinecolor\": \"white\"}, \"zaxis\": {\"backgroundcolor\": \"#E5ECF6\", \"gridcolor\": \"white\", \"gridwidth\": 2, \"linecolor\": \"white\", \"showbackground\": true, \"ticks\": \"\", \"zerolinecolor\": \"white\"}}, \"shapedefaults\": {\"line\": {\"color\": \"#2a3f5f\"}}, \"ternary\": {\"aaxis\": {\"gridcolor\": \"white\", \"linecolor\": \"white\", \"ticks\": \"\"}, \"baxis\": {\"gridcolor\": \"white\", \"linecolor\": \"white\", \"ticks\": \"\"}, \"bgcolor\": \"#E5ECF6\", \"caxis\": {\"gridcolor\": \"white\", \"linecolor\": \"white\", \"ticks\": \"\"}}, \"title\": {\"x\": 0.05}, \"xaxis\": {\"automargin\": true, \"gridcolor\": \"white\", \"linecolor\": \"white\", \"ticks\": \"\", \"title\": {\"standoff\": 15}, \"zerolinecolor\": \"white\", \"zerolinewidth\": 2}, \"yaxis\": {\"automargin\": true, \"gridcolor\": \"white\", \"linecolor\": \"white\", \"ticks\": \"\", \"title\": {\"standoff\": 15}, \"zerolinecolor\": \"white\", \"zerolinewidth\": 2}}}, \"title\": {\"text\": \"Cryptocurrency Correlations in 2016\"}},                        {\"responsive\": true}                    ).then(function(){\n",
       "                            \n",
       "var gd = document.getElementById('3b4f6321-cb9d-43b4-aa66-b9b48f7e68c3');\n",
       "var x = new MutationObserver(function (mutations, observer) {{\n",
       "        var display = window.getComputedStyle(gd).display;\n",
       "        if (!display || display === 'none') {{\n",
       "            console.log([gd, 'removed!']);\n",
       "            Plotly.purge(gd);\n",
       "            observer.disconnect();\n",
       "        }}\n",
       "}});\n",
       "\n",
       "// Listen for the removal of the full notebook cells\n",
       "var notebookContainer = gd.closest('#notebook-container');\n",
       "if (notebookContainer) {{\n",
       "    x.observe(notebookContainer, {childList: true});\n",
       "}}\n",
       "\n",
       "// Listen for the clearing of the current output cell\n",
       "var outputEl = gd.closest('.output');\n",
       "if (outputEl) {{\n",
       "    x.observe(outputEl, {childList: true});\n",
       "}}\n",
       "\n",
       "                        })                };                });            </script>        </div>"
      ]
     },
     "metadata": {},
     "output_type": "display_data"
    }
   ],
   "source": [
    "correlation_heatmap(combined_df_2016.pct_change(), \"Cryptocurrency Correlations in 2016\")"
   ]
  },
  {
   "cell_type": "code",
   "execution_count": null,
   "id": "cde5af78",
   "metadata": {},
   "outputs": [],
   "source": []
  }
 ],
 "metadata": {
  "kernelspec": {
   "display_name": "hitbtc",
   "language": "python",
   "name": "hitbtc"
  },
  "language_info": {
   "codemirror_mode": {
    "name": "ipython",
    "version": 3
   },
   "file_extension": ".py",
   "mimetype": "text/x-python",
   "name": "python",
   "nbconvert_exporter": "python",
   "pygments_lexer": "ipython3",
   "version": "3.9.4"
  }
 },
 "nbformat": 4,
 "nbformat_minor": 5
}
