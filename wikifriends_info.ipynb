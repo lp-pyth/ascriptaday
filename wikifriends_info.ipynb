{
 "cells": [
  {
   "cell_type": "code",
   "execution_count": 173,
   "metadata": {},
   "outputs": [],
   "source": [
    "import requests\n",
    "import wikipedia as wiki\n",
    "import spacy\n",
    "nlp = spacy.load(\"en_core_web_sm\") \n",
    "from bs4 import BeautifulSoup as soup\n",
    "import pandas as pd\n",
    "from IPython.display import Image\n",
    "from IPython.core.display import HTML \n",
    "from datetime import date"
   ]
  },
  {
   "cell_type": "code",
   "execution_count": 174,
   "metadata": {},
   "outputs": [],
   "source": [
    "def get_wikiname(name):\n",
    "    wikiname = wiki.search(name)[:1]\n",
    "    return wikiname"
   ]
  },
  {
   "cell_type": "code",
   "execution_count": 175,
   "metadata": {},
   "outputs": [],
   "source": [
    "def get_wikiurl(wikiname):\n",
    "    url = wiki.page(wikiname).url\n",
    "    return url"
   ]
  },
  {
   "cell_type": "code",
   "execution_count": 176,
   "metadata": {},
   "outputs": [],
   "source": [
    "def get_wikipicture(wikiname):\n",
    "    image = wiki.page(wikiname).images[0]\n",
    "    return image"
   ]
  },
  {
   "cell_type": "code",
   "execution_count": 177,
   "metadata": {},
   "outputs": [],
   "source": [
    "def get_friends(wikiname):\n",
    "    content = wiki.page(wikiname).content\n",
    "    doc = nlp(content)\n",
    "    ents_list = []\n",
    "    for ent in doc.ents:\n",
    "        if ent.label_==\"PERSON\" and ent.text not in ents_list and 3 > len(ent.text.split()) > 1:\n",
    "            ents_list.append(ent.text)\n",
    "    return ents_list"
   ]
  },
  {
   "cell_type": "code",
   "execution_count": 178,
   "metadata": {},
   "outputs": [],
   "source": [
    "name=\"obama\"\n",
    "wikiname = get_wikiname(name)\n",
    "level_1 = get_friends(wikiname)"
   ]
  },
  {
   "cell_type": "code",
   "execution_count": 179,
   "metadata": {
    "collapsed": true
   },
   "outputs": [
    {
     "name": "stderr",
     "output_type": "stream",
     "text": [
      "C:\\Anaconda3\\envs\\wiki\\lib\\site-packages\\wikipedia\\wikipedia.py:389: GuessedAtParserWarning: No parser was explicitly specified, so I'm using the best available HTML parser for this system (\"html.parser\"). This usually isn't a problem, but if you run this code on another system, or in a different virtual environment, it may use a different parser and behave differently.\n",
      "\n",
      "The code that caused this warning is on line 389 of the file C:\\Anaconda3\\envs\\wiki\\lib\\site-packages\\wikipedia\\wikipedia.py. To get rid of this warning, pass the additional argument 'features=\"html.parser\"' to the BeautifulSoup constructor.\n",
      "\n",
      "  lis = BeautifulSoup(html).find_all('li')\n"
     ]
    }
   ],
   "source": [
    "rows = []\n",
    "for name in level_1:\n",
    "    name = name.replace(\" \", \"_\")\n",
    "    try:\n",
    "        link_data = f'http://dbpedia.org/data/{name}.json'\n",
    "        data = requests.get(link_data).json()\n",
    "        link_person = f'http://dbpedia.org/resource/{name}'\n",
    "        person = data[link_person]\n",
    "    except:\n",
    "        pass\n",
    "    try:\n",
    "        birthplace = person['http://dbpedia.org/property/birthPlace'][0]['value']\n",
    "    except:\n",
    "        birthplace = 'NaN'\n",
    "    try:\n",
    "        bday = person['http://dbpedia.org/ontology/birthDate'][0]['value']\n",
    "    except:\n",
    "        bday = 'NaN'\n",
    "    try:\n",
    "        url = get_wikiurl(name)\n",
    "    except:\n",
    "        url = 'NaN'\n",
    "    #picture = get_wikipicture(name)\n",
    "    #Image(picture, width = 100, height = 50)             \n",
    "    rows.append([name.replace(\"_\", \" \"), birthplace, bday, url])  \n",
    "df = pd.DataFrame(rows, columns=[\"Name\", \"Birthplace\", \"Birthday\", \"Url\"])"
   ]
  },
  {
   "cell_type": "code",
   "execution_count": 180,
   "metadata": {},
   "outputs": [],
   "source": [
    "def calculate_age(dtob):\n",
    "    today = date.today()\n",
    "    return today.year - dtob.year - ((today.month, today.day) < (dtob.month, dtob.day))\n",
    "age_list = []\n",
    "for i in range(len(df)):\n",
    "    try:\n",
    "        year = int(df.iloc[i]['Birthday'][0:4])\n",
    "        month = int(df.iloc[i]['Birthday'][5:7])\n",
    "        day = int(df.iloc[i]['Birthday'][8:10])\n",
    "        age_list.append(calculate_age(date(year,month,day)))\n",
    "    except:\n",
    "        age_list.append(\"NaN\")\n",
    "        continue\n",
    "df['Age'] = age_list"
   ]
  },
  {
   "cell_type": "code",
   "execution_count": 182,
   "metadata": {},
   "outputs": [
    {
     "data": {
      "text/html": [
       "<div>\n",
       "<style scoped>\n",
       "    .dataframe tbody tr th:only-of-type {\n",
       "        vertical-align: middle;\n",
       "    }\n",
       "\n",
       "    .dataframe tbody tr th {\n",
       "        vertical-align: top;\n",
       "    }\n",
       "\n",
       "    .dataframe thead th {\n",
       "        text-align: right;\n",
       "    }\n",
       "</style>\n",
       "<table border=\"1\" class=\"dataframe\">\n",
       "  <thead>\n",
       "    <tr style=\"text-align: right;\">\n",
       "      <th></th>\n",
       "      <th>Name</th>\n",
       "      <th>Birthplace</th>\n",
       "      <th>Birthday</th>\n",
       "      <th>Url</th>\n",
       "      <th>Age</th>\n",
       "    </tr>\n",
       "  </thead>\n",
       "  <tbody>\n",
       "    <tr>\n",
       "      <th>0</th>\n",
       "      <td>Hillary Clinton</td>\n",
       "      <td>Chicago, Illinois, U.S.</td>\n",
       "      <td>1947-10-26</td>\n",
       "      <td>https://en.wikipedia.org/wiki/Hillary_Clinton</td>\n",
       "      <td>73</td>\n",
       "    </tr>\n",
       "    <tr>\n",
       "      <th>1</th>\n",
       "      <td>John McCain</td>\n",
       "      <td>Coco Solo, Panama Canal Zone, U.S.</td>\n",
       "      <td>1936-08-29</td>\n",
       "      <td>NaN</td>\n",
       "      <td>84</td>\n",
       "    </tr>\n",
       "    <tr>\n",
       "      <th>2</th>\n",
       "      <td>Joe Biden</td>\n",
       "      <td>Scranton, Pennsylvania, U.S.</td>\n",
       "      <td>1942-11-20</td>\n",
       "      <td>NaN</td>\n",
       "      <td>78</td>\n",
       "    </tr>\n",
       "    <tr>\n",
       "      <th>3</th>\n",
       "      <td>Muammar Gaddafi</td>\n",
       "      <td>http://dbpedia.org/resource/Qasr_Abu_Hadi</td>\n",
       "      <td>NaN</td>\n",
       "      <td>https://en.wikipedia.org/wiki/Muammar_Gaddafi</td>\n",
       "      <td>NaN</td>\n",
       "    </tr>\n",
       "    <tr>\n",
       "      <th>4</th>\n",
       "      <td>Mitt Romney</td>\n",
       "      <td>Detroit, Michigan, U.S.</td>\n",
       "      <td>1947-03-12</td>\n",
       "      <td>https://en.wikipedia.org/wiki/Mitt_Romney</td>\n",
       "      <td>74</td>\n",
       "    </tr>\n",
       "    <tr>\n",
       "      <th>5</th>\n",
       "      <td>Sonia Sotomayor</td>\n",
       "      <td>New York City, U.S.</td>\n",
       "      <td>1954-06-25</td>\n",
       "      <td>https://en.wikipedia.org/wiki/Sonia_Sotomayor</td>\n",
       "      <td>66</td>\n",
       "    </tr>\n",
       "    <tr>\n",
       "      <th>6</th>\n",
       "      <td>Elena Kagan</td>\n",
       "      <td>New York City, U.S.</td>\n",
       "      <td>1960-04-28</td>\n",
       "      <td>NaN</td>\n",
       "      <td>60</td>\n",
       "    </tr>\n",
       "    <tr>\n",
       "      <th>7</th>\n",
       "      <td>Merrick Garland</td>\n",
       "      <td>Chicago, Illinois, U.S.</td>\n",
       "      <td>1952-11-13</td>\n",
       "      <td>NaN</td>\n",
       "      <td>68</td>\n",
       "    </tr>\n",
       "    <tr>\n",
       "      <th>8</th>\n",
       "      <td>Mitch McConnell</td>\n",
       "      <td>Sheffield, Alabama, U.S.</td>\n",
       "      <td>1942-02-20</td>\n",
       "      <td>https://en.wikipedia.org/wiki/Mitch_McConnell</td>\n",
       "      <td>79</td>\n",
       "    </tr>\n",
       "    <tr>\n",
       "      <th>9</th>\n",
       "      <td>Ann Dunham</td>\n",
       "      <td>Wichita, Kansas, U.S.</td>\n",
       "      <td>1942-11-29</td>\n",
       "      <td>NaN</td>\n",
       "      <td>78</td>\n",
       "    </tr>\n",
       "  </tbody>\n",
       "</table>\n",
       "</div>"
      ],
      "text/plain": [
       "              Name                                 Birthplace    Birthday  \\\n",
       "0  Hillary Clinton                    Chicago, Illinois, U.S.  1947-10-26   \n",
       "1      John McCain         Coco Solo, Panama Canal Zone, U.S.  1936-08-29   \n",
       "2        Joe Biden               Scranton, Pennsylvania, U.S.  1942-11-20   \n",
       "3  Muammar Gaddafi  http://dbpedia.org/resource/Qasr_Abu_Hadi         NaN   \n",
       "4      Mitt Romney                    Detroit, Michigan, U.S.  1947-03-12   \n",
       "5  Sonia Sotomayor                        New York City, U.S.  1954-06-25   \n",
       "6      Elena Kagan                        New York City, U.S.  1960-04-28   \n",
       "7  Merrick Garland                    Chicago, Illinois, U.S.  1952-11-13   \n",
       "8  Mitch McConnell                   Sheffield, Alabama, U.S.  1942-02-20   \n",
       "9       Ann Dunham                      Wichita, Kansas, U.S.  1942-11-29   \n",
       "\n",
       "                                             Url  Age  \n",
       "0  https://en.wikipedia.org/wiki/Hillary_Clinton   73  \n",
       "1                                            NaN   84  \n",
       "2                                            NaN   78  \n",
       "3  https://en.wikipedia.org/wiki/Muammar_Gaddafi  NaN  \n",
       "4      https://en.wikipedia.org/wiki/Mitt_Romney   74  \n",
       "5  https://en.wikipedia.org/wiki/Sonia_Sotomayor   66  \n",
       "6                                            NaN   60  \n",
       "7                                            NaN   68  \n",
       "8  https://en.wikipedia.org/wiki/Mitch_McConnell   79  \n",
       "9                                            NaN   78  "
      ]
     },
     "execution_count": 182,
     "metadata": {},
     "output_type": "execute_result"
    }
   ],
   "source": [
    "df.head(10)"
   ]
  },
  {
   "cell_type": "code",
   "execution_count": null,
   "metadata": {},
   "outputs": [],
   "source": []
  }
 ],
 "metadata": {
  "kernelspec": {
   "display_name": "Python [conda env:wiki]",
   "language": "python",
   "name": "conda-env-wiki-py"
  },
  "language_info": {
   "codemirror_mode": {
    "name": "ipython",
    "version": 3
   },
   "file_extension": ".py",
   "mimetype": "text/x-python",
   "name": "python",
   "nbconvert_exporter": "python",
   "pygments_lexer": "ipython3",
   "version": "3.9.2"
  }
 },
 "nbformat": 4,
 "nbformat_minor": 4
}
