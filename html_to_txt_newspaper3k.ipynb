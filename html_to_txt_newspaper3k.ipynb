{
 "cells": [
  {
   "cell_type": "markdown",
   "metadata": {},
   "source": [
    "#### import libraries"
   ]
  },
  {
   "cell_type": "code",
   "execution_count": 15,
   "metadata": {
    "ExecuteTime": {
     "end_time": "2021-03-15T19:55:29.832256Z",
     "start_time": "2021-03-15T19:55:29.806852Z"
    }
   },
   "outputs": [],
   "source": [
    "import pandas as pd\n",
    "import numpy as np\n",
    "from newspaper import Article             #get newspaper 3k: \"conda install -c conda-forge newspaper3k\" (for anaconda)\n",
    "import os\n",
    "from os import path\n",
    "\n",
    "df = pd.read_csv(r'PATH_TO_YOUR_CSV.csv') #read csv with url adresses"
   ]
  },
  {
   "cell_type": "code",
   "execution_count": 14,
   "metadata": {
    "ExecuteTime": {
     "end_time": "2021-03-15T19:55:18.601831Z",
     "start_time": "2021-03-15T19:55:18.582003Z"
    }
   },
   "outputs": [
    {
     "data": {
      "text/html": [
       "<div>\n",
       "<style scoped>\n",
       "    .dataframe tbody tr th:only-of-type {\n",
       "        vertical-align: middle;\n",
       "    }\n",
       "\n",
       "    .dataframe tbody tr th {\n",
       "        vertical-align: top;\n",
       "    }\n",
       "\n",
       "    .dataframe thead th {\n",
       "        text-align: right;\n",
       "    }\n",
       "</style>\n",
       "<table border=\"1\" class=\"dataframe\">\n",
       "  <thead>\n",
       "    <tr style=\"text-align: right;\">\n",
       "      <th></th>\n",
       "      <th>Unnamed: 0</th>\n",
       "      <th>urls</th>\n",
       "    </tr>\n",
       "  </thead>\n",
       "  <tbody>\n",
       "    <tr>\n",
       "      <th>0</th>\n",
       "      <td>0</td>\n",
       "      <td>https://www.nytimes.com/2021/03/15/us/voting-r...</td>\n",
       "    </tr>\n",
       "    <tr>\n",
       "      <th>1</th>\n",
       "      <td>1</td>\n",
       "      <td>https://www.nytimes.com/2021/03/15/world/ameri...</td>\n",
       "    </tr>\n",
       "  </tbody>\n",
       "</table>\n",
       "</div>"
      ],
      "text/plain": [
       "   Unnamed: 0                                               urls\n",
       "0           0  https://www.nytimes.com/2021/03/15/us/voting-r...\n",
       "1           1  https://www.nytimes.com/2021/03/15/world/ameri..."
      ]
     },
     "execution_count": 14,
     "metadata": {},
     "output_type": "execute_result"
    }
   ],
   "source": [
    "df.head(2)"
   ]
  },
  {
   "cell_type": "markdown",
   "metadata": {},
   "source": [
    "#### Get and parse text"
   ]
  },
  {
   "cell_type": "code",
   "execution_count": 17,
   "metadata": {
    "ExecuteTime": {
     "end_time": "2021-03-15T19:56:02.293667Z",
     "start_time": "2021-03-15T19:56:02.277710Z"
    }
   },
   "outputs": [],
   "source": [
    "def txtfromhtml(index):\n",
    "    article = Article(df['urls'].iloc[index])\n",
    "    article.download()\n",
    "    article.parse()\n",
    "    return(article.title + 2*('\\n') + article.text)"
   ]
  },
  {
   "cell_type": "markdown",
   "metadata": {},
   "source": [
    "#### Write articles to .txt files"
   ]
  },
  {
   "cell_type": "code",
   "execution_count": 18,
   "metadata": {
    "ExecuteTime": {
     "end_time": "2021-03-15T19:56:04.111141Z",
     "start_time": "2021-03-15T19:56:02.747187Z"
    }
   },
   "outputs": [
    {
     "name": "stdout",
     "output_type": "stream",
     "text": [
      "Finished.\n"
     ]
    }
   ],
   "source": [
    "path = r'PATH_TO_YOUR_TXT_FOLDER'\n",
    "\n",
    "for i in range(len(df['urls'])):\n",
    "    f = str(i) + '.txt'\n",
    "    pathnfile = os.path.join(path, f)  \n",
    "    txt_file = open(pathnfile, 'w')\n",
    "    content = txtfromhtml(i)\n",
    "    txt_file.write(content)\n",
    "    txt_file.close()\n",
    "print(\"Finished.\")"
   ]
  }
 ],
 "metadata": {
  "kernelspec": {
   "display_name": "Python 3",
   "language": "python",
   "name": "python3"
  },
  "language_info": {
   "codemirror_mode": {
    "name": "ipython",
    "version": 3
   },
   "file_extension": ".py",
   "mimetype": "text/x-python",
   "name": "python",
   "nbconvert_exporter": "python",
   "pygments_lexer": "ipython3",
   "version": "3.8.5"
  }
 },
 "nbformat": 4,
 "nbformat_minor": 4
}
