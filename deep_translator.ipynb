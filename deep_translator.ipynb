{
 "cells": [
  {
   "cell_type": "code",
   "execution_count": 6,
   "metadata": {},
   "outputs": [
    {
     "data": {
      "text/plain": [
       "['afrikaans', 'albanian', 'amharic', 'arabic']"
      ]
     },
     "execution_count": 6,
     "metadata": {},
     "output_type": "execute_result"
    }
   ],
   "source": [
    "#https://pypi.org/project/deep-translator/\n",
    "from deep_translator import (GoogleTranslator,\n",
    "                             PonsTranslator,\n",
    "                             LingueeTranslator,\n",
    "                             single_detection,\n",
    "                             batch_detection)\n",
    "langs_list = GoogleTranslator.get_supported_languages()\n",
    "langs_list[:4]"
   ]
  },
  {
   "cell_type": "code",
   "execution_count": 7,
   "metadata": {},
   "outputs": [],
   "source": [
    "original = \"\"\"Penguins (order Sphenisciformes /sfɪˈnɪsɪfɔːrmiːz/, family Spheniscidae /sfɪˈnɪsɪdiː/) are a group of aquatic flightless birds. They live almost exclusively in the Southern Hemisphere, with only one species, the Galápagos penguin, found north of the Equator. Highly adapted for life in the water, penguins have countershaded dark and white plumage and flippers for swimming. Most penguins feed on krill, fish, squid and other forms of sea life which they catch while swimming underwater. They spend roughly half of their lives on land and the other half in the sea.\n",
    "Although almost all penguin species are native to the Southern Hemisphere, they are not found only in cold climates, such as Antarctica. In fact, only a few species of penguin live so far south. Several species are found in the temperate zone, but one species, the Galápagos penguin, lives near the Equator.\n",
    "The largest living species is the emperor penguin (Aptenodytes forsteri):[4] on average, adults are about 1.1 m (3 ft 7 in) tall and weigh 35 kg (77 lb). The smallest penguin species is the little blue penguin (Eudyptula minor), also known as the fairy penguin, which stands around 33 cm (13 in) tall and weighs 1 kg (2.2 lb).[5] Among extant penguins, larger penguins inhabit colder regions, while smaller penguins are generally found in temperate or even tropical climates. Some prehistoric species attained enormous sizes, becoming as tall or as heavy as an adult human. These were not restricted to Antarctic regions; on the contrary, subantarctic regions harboured high diversity, and at least one giant penguin occurred in a region around 2,000 km south of the Equator 35 mya, in a climate decidedly warmer than today.\"\"\""
   ]
  },
  {
   "cell_type": "code",
   "execution_count": 8,
   "metadata": {
    "scrolled": false
   },
   "outputs": [
    {
     "data": {
      "text/plain": [
       "'Pinguine (Ordnung Sphenisciformes / sfɪˈnɪsɪfɔːrmiːz /, Familie Spheniscidae / sfɪˈnɪsɪdiː /) sind eine Gruppe flugunfähiger Wasservögel. Sie leben fast ausschließlich auf der südlichen Hemisphäre. Nur eine Art, der Galapagos-Pinguin, kommt nördlich des Äquators vor. Pinguine sind sehr gut für das Leben im Wasser geeignet und haben dunkles und weißes Gefieder und Flossen zum Schwimmen gegengeschattet. Die meisten Pinguine ernähren sich von Krill, Fisch, Tintenfisch und anderen Arten von Meeresle'"
      ]
     },
     "execution_count": 8,
     "metadata": {},
     "output_type": "execute_result"
    }
   ],
   "source": [
    "translation = GoogleTranslator(source='auto', target='de').translate(original) \n",
    "translation[:500]"
   ]
  },
  {
   "cell_type": "code",
   "execution_count": 9,
   "metadata": {},
   "outputs": [
    {
     "name": "stdout",
     "output_type": "stream",
     "text": [
      "Please wait.. This may take a couple of seconds because deep_translator sleeps for two seconds after each request in order to not spam the google server.\n",
      "sentence number  1  has been translated successfully\n",
      "sentence number  2  has been translated successfully\n",
      "sentence number  3  has been translated successfully\n",
      "sentence number  4  has been translated successfully\n"
     ]
    },
    {
     "data": {
      "text/plain": [
       "['Pinguin', 'Elefant', 'Schildkröte', 'SCHMETTERLING']"
      ]
     },
     "execution_count": 9,
     "metadata": {},
     "output_type": "execute_result"
    }
   ],
   "source": [
    "#Translate Several Different Texts\n",
    "texts = ['penguin', 'elephant', 'turtle', 'BUTTERFLY']\n",
    "translated = GoogleTranslator('en', 'de').translate_batch(texts)\n",
    "translated"
   ]
  },
  {
   "cell_type": "code",
   "execution_count": 11,
   "metadata": {},
   "outputs": [
    {
     "data": {
      "text/plain": [
       "['Gute', 'Gut', 'gut', 'schön', 'brav', 'lieb', 'gültig', 'triftig']"
      ]
     },
     "execution_count": 11,
     "metadata": {},
     "output_type": "execute_result"
    }
   ],
   "source": [
    "#Get Synonyms\n",
    "word = 'good'\n",
    "translated_word = LingueeTranslator(source='english', target='german').translate(word, return_all=True)\n",
    "translated_word"
   ]
  },
  {
   "cell_type": "code",
   "execution_count": 12,
   "metadata": {},
   "outputs": [
    {
     "data": {
      "text/plain": [
       "['gut ',\n",
       " 'es geht nichts über ein gutes Buch ',\n",
       " 'sie spricht gut Spanisch ',\n",
       " 'Hunde haben einen guten Geruchssinn ',\n",
       " 'er hat in diesen Dingen ein gutes Gespür ',\n",
       " 'deine Gründe sind durchaus einleuchtend aber ',\n",
       " 'gut gemacht ',\n",
       " 'jetzt brauche ich was Ordentliches zu essen ',\n",
       " 'das Kind besaß die Geistesgegenwart ',\n",
       " 'er hat nur ein gesundes Bein ']"
      ]
     },
     "execution_count": 12,
     "metadata": {},
     "output_type": "execute_result"
    }
   ],
   "source": [
    "#Get Context Examples\n",
    "translated_word = PonsTranslator(source='english', target='german').translate(word, return_all=True)\n",
    "translated_word[:10]"
   ]
  },
  {
   "cell_type": "code",
   "execution_count": null,
   "metadata": {},
   "outputs": [],
   "source": [
    "#Translate from File\n",
    "translated = GoogleTranslator(source='auto', target='german').translate_file('path/to/file')"
   ]
  }
 ],
 "metadata": {
  "kernelspec": {
   "display_name": "Python [conda env:deep_translator]",
   "language": "python",
   "name": "conda-env-deep_translator-py"
  },
  "language_info": {
   "codemirror_mode": {
    "name": "ipython",
    "version": 3
   },
   "file_extension": ".py",
   "mimetype": "text/x-python",
   "name": "python",
   "nbconvert_exporter": "python",
   "pygments_lexer": "ipython3",
   "version": "3.9.2"
  }
 },
 "nbformat": 4,
 "nbformat_minor": 4
}
