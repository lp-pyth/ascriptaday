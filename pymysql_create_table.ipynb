{
 "cells": [
  {
   "cell_type": "code",
   "execution_count": null,
   "id": "a56710fa",
   "metadata": {},
   "outputs": [],
   "source": [
    "import pandas as pd\n",
    "import numpy as np\n",
    "import pymysql\n",
    "\n",
    "host='HOST ADDRESS'\n",
    "port=int(PORT NUMBER)\n",
    "user='USER'\n",
    "password='PASSWORD'\n",
    "database='DATABASE NAME'\n",
    "\n",
    "#Connect to AWS RDS\n",
    "try:\n",
    "    connection = pymysql.connect(host=host,\n",
    "                                 port=port,\n",
    "                                 user=user,\n",
    "                                 password=password,\n",
    "                                 database=database)\n",
    "except pymysql.MySQLError as e:\n",
    "    logger.error(\"ERROR: Unexpected error: Could not connect to MySQL instance.\")\n",
    "    logger.error(e)\n",
    "    sys.exit()"
   ]
  },
  {
   "cell_type": "code",
   "execution_count": null,
   "id": "7c259a1d",
   "metadata": {},
   "outputs": [],
   "source": [
    "#write database to mysql\n",
    "conn = pymysql.connect(\n",
    "    host='HOST ADDRESS',\n",
    "    port=int(PORT NUMBER),\n",
    "    user='USER',\n",
    "    password='PASSWORD',\n",
    "    database='DATABASE NAME',\n",
    "    charset='utf8mb4')\n",
    "cursor=conn.cursor()\n",
    "create_table=\"\"\"\n",
    "create table my_new_table (\n",
    "Id int,\n",
    "Name varchar(20)\n",
    ")\n",
    "\"\"\"\n",
    "cursor.execute(create_table)\n",
    "insert_statement=\"\"\"\n",
    "Insert into my_new_table\n",
    "(Id,Name)\n",
    "values\n",
    "(1,'Some information')\n",
    "\"\"\"\n",
    "cursor.execute(insert_statement)\n",
    "conn.commit()\n",
    "conn.close() "
   ]
  }
 ],
 "metadata": {
  "kernelspec": {
   "display_name": "datastuff",
   "language": "python",
   "name": "datastuff"
  },
  "language_info": {
   "codemirror_mode": {
    "name": "ipython",
    "version": 3
   },
   "file_extension": ".py",
   "mimetype": "text/x-python",
   "name": "python",
   "nbconvert_exporter": "python",
   "pygments_lexer": "ipython3",
   "version": "3.6.9"
  }
 },
 "nbformat": 4,
 "nbformat_minor": 5
}
