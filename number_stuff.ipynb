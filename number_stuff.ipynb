{
 "cells": [
  {
   "cell_type": "code",
   "execution_count": 4,
   "id": "76536b14",
   "metadata": {},
   "outputs": [
    {
     "name": "stdout",
     "output_type": "stream",
     "text": [
      "Turn around: 321\n"
     ]
    }
   ],
   "source": [
    "#turn number around\n",
    "my_number = 123\n",
    "reverse = 0\n",
    "while (my_number > 0):\n",
    "    dig = my_number%10\n",
    "    reverse = reverse*10+dig\n",
    "    my_number = my_number//10\n",
    "print(\"Turn around:\",reverse)"
   ]
  },
  {
   "cell_type": "code",
   "execution_count": 6,
   "id": "68e8486f",
   "metadata": {},
   "outputs": [
    {
     "name": "stdout",
     "output_type": "stream",
     "text": [
      "1\n",
      "3\n",
      "5\n",
      "7\n",
      "9\n"
     ]
    }
   ],
   "source": [
    "#odd numbers\n",
    "lower_number = 1\n",
    "upper_number = 10\n",
    "for i in range (lower_number,upper_number+1):\n",
    "    if (i%2!=0):\n",
    "        print(i)"
   ]
  },
  {
   "cell_type": "code",
   "execution_count": null,
   "id": "c3b4ac39",
   "metadata": {},
   "outputs": [],
   "source": []
  }
 ],
 "metadata": {
  "kernelspec": {
   "display_name": "datamining",
   "language": "python",
   "name": "datamining"
  },
  "language_info": {
   "codemirror_mode": {
    "name": "ipython",
    "version": 3
   },
   "file_extension": ".py",
   "mimetype": "text/x-python",
   "name": "python",
   "nbconvert_exporter": "python",
   "pygments_lexer": "ipython3",
   "version": "3.9.5"
  }
 },
 "nbformat": 4,
 "nbformat_minor": 5
}
