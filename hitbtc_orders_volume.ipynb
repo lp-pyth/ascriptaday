{
 "cells": [
  {
   "cell_type": "code",
   "execution_count": null,
   "id": "c43a2259",
   "metadata": {},
   "outputs": [],
   "source": [
    "from hitbtcapi.client import Client\n",
    "import pandas as pd\n",
    "import datetime\n",
    "import requests"
   ]
  },
  {
   "cell_type": "code",
   "execution_count": null,
   "id": "29cf472f",
   "metadata": {},
   "outputs": [],
   "source": [
    "api_key = \"YOUR PASSWORD HERE\"\n",
    "api_secret = \"YOUR API SECRET HERE\"\n",
    "client = Client(api_key,api_secret)"
   ]
  },
  {
   "cell_type": "code",
   "execution_count": null,
   "id": "75c325b0",
   "metadata": {},
   "outputs": [],
   "source": [
    "data_currencies = client.get_currencies()\n",
    "df_currencies = pd.DataFrame(data_currencies).sort_values('id')\n",
    "df_currencies.head(2)"
   ]
  },
  {
   "cell_type": "code",
   "execution_count": null,
   "id": "91543d1f",
   "metadata": {},
   "outputs": [],
   "source": [
    "orderbook = client.get_orderbook('ETHUSD', limit = '940')\n",
    "df_orderbook = pd.DataFrame(orderbook)\n",
    "df_orderbook.head(3)"
   ]
  },
  {
   "cell_type": "code",
   "execution_count": null,
   "id": "f05b348f",
   "metadata": {},
   "outputs": [],
   "source": [
    "candles = client.get_candles('ETHUSD', period='H1', limit='1000')\n",
    "df_candles = pd.DataFrame(candles)\n",
    "df_candles.head(3)"
   ]
  }
 ],
 "metadata": {
  "kernelspec": {
   "display_name": "Python 3",
   "language": "python",
   "name": "python3"
  },
  "language_info": {
   "codemirror_mode": {
    "name": "ipython",
    "version": 3
   },
   "file_extension": ".py",
   "mimetype": "text/x-python",
   "name": "python",
   "nbconvert_exporter": "python",
   "pygments_lexer": "ipython3",
   "version": "3.8.5"
  }
 },
 "nbformat": 4,
 "nbformat_minor": 5
}
