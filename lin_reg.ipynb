{
 "cells": [
  {
   "cell_type": "code",
   "execution_count": 320,
   "id": "6236cc5a",
   "metadata": {},
   "outputs": [],
   "source": [
    "import matplotlib.pyplot as plt\n",
    "import numpy as np\n",
    "import pandas as pd\n",
    "import seaborn as sns\n",
    "import sklearn.linear_model\n",
    "import sklearn.neighbors\n",
    "import sklearn.datasets\n",
    "import matplotlib.pyplot as plt"
   ]
  },
  {
   "cell_type": "code",
   "execution_count": 321,
   "id": "40912807",
   "metadata": {},
   "outputs": [],
   "source": [
    "oecd_bli = pd.read_csv(\"oecd_bli_2015.csv\", thousands=',')\n",
    "income_inequality = pd.read_csv(\"income_inequality.csv\")"
   ]
  },
  {
   "cell_type": "code",
   "execution_count": 322,
   "id": "b5e6b843",
   "metadata": {},
   "outputs": [],
   "source": [
    "oecd_bli = oecd_bli[oecd_bli[\"INEQUALITY\"]==\"TOT\"]\n",
    "oecd_bli = oecd_bli.pivot(index=\"LOCATION\", columns=\"Indicator\", values=\"Value\")\n",
    "income_inequality.rename(columns={\"Value\": \"Gini Value\"}, inplace=True)\n",
    "income_inequality.set_index(\"LOCATION\", inplace=True)\n",
    "full_country_stats = pd.merge(left=oecd_bli, right=income_inequality, \n",
    "                              left_index=True, right_index=True)\n",
    "full_country_stats.sort_values(by=\"Gini Value\", inplace=True)\n",
    "country_stats = full_country_stats\n",
    "country_stats = country_stats.drop(['USA','EST','CHL'])\n",
    "#country_stats.head()"
   ]
  },
  {
   "cell_type": "code",
   "execution_count": 306,
   "id": "a2cf27a9",
   "metadata": {},
   "outputs": [],
   "source": [
    "X = np.c_[country_stats[\"Gini Value\"]]\n",
    "y = np.c_[country_stats[\"Homicide rate\"]]"
   ]
  },
  {
   "cell_type": "code",
   "execution_count": 323,
   "id": "6ea8c5b5",
   "metadata": {},
   "outputs": [
    {
     "data": {
      "image/png": "[encoded data removed]",
      "text/plain": [
       "<Figure size 432x288 with 1 Axes>"
      ]
     },
     "metadata": {
      "needs_background": "light"
     },
     "output_type": "display_data"
    }
   ],
   "source": [
    "country_stats.plot(kind='scatter', x=\"Gini Value\", \n",
    "                   y='Homicide rate').set_facecolor(\"#C9E2FA\")\n",
    "plt.show()"
   ]
  },
  {
   "cell_type": "code",
   "execution_count": 308,
   "id": "d9b464ca",
   "metadata": {},
   "outputs": [
    {
     "data": {
      "text/plain": [
       "LinearRegression()"
      ]
     },
     "execution_count": 308,
     "metadata": {},
     "output_type": "execute_result"
    }
   ],
   "source": [
    "model = sklearn.linear_model.LinearRegression()\n",
    "model.fit(X, y)"
   ]
  },
  {
   "cell_type": "code",
   "execution_count": 329,
   "id": "9a9bab54",
   "metadata": {
    "scrolled": true
   },
   "outputs": [
    {
     "name": "stderr",
     "output_type": "stream",
     "text": [
      "<ipython-input-329-9306ad1d9171>:3: MatplotlibDeprecationWarning: Adding an axes using the same arguments as a previous axes currently reuses the earlier instance.  In a future version, a new instance will always be created and returned.  Meanwhile, this warning can be suppressed, and the future behavior ensured, by passing a unique label to each axes instance.\n",
      "  plt.axes().set_facecolor(\"#C9E2FA\")\n"
     ]
    },
    {
     "data": {
      "image/png": "[encoded data removed]",
      "text/plain": [
       "<Figure size 432x288 with 1 Axes>"
      ]
     },
     "metadata": {
      "needs_background": "light"
     },
     "output_type": "display_data"
    }
   ],
   "source": [
    "plt.scatter(X, y)\n",
    "plt.plot(X, model.predict(X))\n",
    "plt.axes().set_facecolor(\"#C9E2FA\")\n",
    "plt.show()"
   ]
  },
  {
   "cell_type": "code",
   "execution_count": 324,
   "id": "5a97386d",
   "metadata": {},
   "outputs": [
    {
     "name": "stdout",
     "output_type": "stream",
     "text": [
      "Predicted homicide rate for Italy (ITA): [[0.95356595]]\n",
      "Real data:\n"
     ]
    },
    {
     "data": {
      "text/html": [
       "<div>\n",
       "<style scoped>\n",
       "    .dataframe tbody tr th:only-of-type {\n",
       "        vertical-align: middle;\n",
       "    }\n",
       "\n",
       "    .dataframe tbody tr th {\n",
       "        vertical-align: top;\n",
       "    }\n",
       "\n",
       "    .dataframe thead th {\n",
       "        text-align: right;\n",
       "    }\n",
       "</style>\n",
       "<table border=\"1\" class=\"dataframe\">\n",
       "  <thead>\n",
       "    <tr style=\"text-align: right;\">\n",
       "      <th></th>\n",
       "      <th>ITA</th>\n",
       "    </tr>\n",
       "  </thead>\n",
       "  <tbody>\n",
       "    <tr>\n",
       "      <th>Gini Value</th>\n",
       "      <td>0.333</td>\n",
       "    </tr>\n",
       "    <tr>\n",
       "      <th>Homicide rate</th>\n",
       "      <td>0.7</td>\n",
       "    </tr>\n",
       "  </tbody>\n",
       "</table>\n",
       "</div>"
      ],
      "text/plain": [
       "                 ITA\n",
       "Gini Value     0.333\n",
       "Homicide rate    0.7"
      ]
     },
     "execution_count": 324,
     "metadata": {},
     "output_type": "execute_result"
    }
   ],
   "source": [
    "X_new = [[0.333]] # Italy's Gini Value\n",
    "print(\"Predicted homicide rate for Italy (ITA):\", model.predict(X_new))\n",
    "print(\"Real data:\")\n",
    "country_stats.loc['ITA'][['Gini Value', 'Homicide rate']].to_frame()"
   ]
  },
  {
   "cell_type": "code",
   "execution_count": null,
   "id": "0b9485b1",
   "metadata": {},
   "outputs": [],
   "source": []
  }
 ],
 "metadata": {
  "kernelspec": {
   "display_name": "Python 3",
   "language": "python",
   "name": "python3"
  },
  "language_info": {
   "codemirror_mode": {
    "name": "ipython",
    "version": 3
   },
   "file_extension": ".py",
   "mimetype": "text/x-python",
   "name": "python",
   "nbconvert_exporter": "python",
   "pygments_lexer": "ipython3",
   "version": "3.8.5"
  }
 },
 "nbformat": 4,
 "nbformat_minor": 5
}
