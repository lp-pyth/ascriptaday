{
 "cells": [
  {
   "cell_type": "code",
   "execution_count": 67,
   "id": "0435b8e3",
   "metadata": {},
   "outputs": [],
   "source": [
    "import pandas as pd\n",
    "import numpy as np\n",
    "import os\n",
    "import regex as re"
   ]
  },
  {
   "cell_type": "code",
   "execution_count": 68,
   "id": "b8eef79c",
   "metadata": {},
   "outputs": [],
   "source": [
    "article = [(\"The Dow-Jones Industrial Average turns 125 by John Steele Gordon On May 26, 1896, \"\n",
    "           \"the Wall Street Journal began to publish the world’s first stock market average. It consisted \" \n",
    "           \"of 12 stocks, and Charles Barron added their closing prices up and divided by 12 with paper and \" \n",
    "           \"pencil. That first day, the DJIA closed at 40.94. The country was still coming out of the deep \"\n",
    "           \"depression of the mid-1890s, and many on Wall Street feared that William Jennings Bryan might win \"\n",
    "           \"the presidency that year and ditch the gold standard. By September, the average was down to 28, \"\n",
    "           \"a drop of 31 percent. But as William McKinley’s prospects improved, the average recovered. It \"\n",
    "           \"would cross 100 for the first time in 1906. Before the average, people had no easy way to determine \"\n",
    "           \"how the market as a whole had acted that day. Wall Streeters were adept at “reading the tape,” \"\n",
    "           \"but most people had to rely on what journalists told them. Now, they had an objective standard. \"\n",
    "           \"The number of stocks in the average increased to 20 during World War I and then to 30 near the end \"\n",
    "           \"of the twenties. And companies were added and dropped as the American economy evolved from an industrial \"\n",
    "           \"one to a consumer-driven and then a digital one. But these changes could have strange effects. In 1937, \"\n",
    "           \"the Dow dropped IBM and added AT&T. Over the next forty years, before IBM went back into the index in 1977, \"\n",
    "           \"AT&T’s stock price increased 300 percent, while IBM went up 22,000 percent. In other words, had they not made \"\n",
    "           \"that switch, the Dow-Jones would have recovered its 1929 high and broke through 1,000 many years before it did \"\n",
    "           \"The Dow has been the means by which people could measure the five great bull markets we have had since 1896. \"\n",
    "           \"(The biggest ran from August 1921 to September 1929, when the average increased 496.5 percent.) And of course, \"\n",
    "           \"the not infrequent bear markets. Having hit 381.17 in 1929, the Dow sank to 41.27 in the middle of 1932, barely \"\n",
    "           \"above where it had first closed 36 years earlier. But over the long term, the Dow has grown an average of 7.96 \"\n",
    "           \"percent per year. Had your great grandfather passively invested $1,000 in the Dow stocks in 1896, the investment \"\n",
    "           \"would have doubled, on average, every nine years until it reached $4,104,000 this year. To put that another way, \"\n",
    "           \"no one has made money in the long-term betting against the American economy. https://outline.com/kUpdTu \" \n",
    "           \"Commentary Magazine, 2021-05-26\"\n",
    "          )]"
   ]
  },
  {
   "cell_type": "code",
   "execution_count": 69,
   "id": "28bfa874",
   "metadata": {},
   "outputs": [
    {
     "data": {
      "text/html": [
       "<div>\n",
       "<style scoped>\n",
       "    .dataframe tbody tr th:only-of-type {\n",
       "        vertical-align: middle;\n",
       "    }\n",
       "\n",
       "    .dataframe tbody tr th {\n",
       "        vertical-align: top;\n",
       "    }\n",
       "\n",
       "    .dataframe thead th {\n",
       "        text-align: right;\n",
       "    }\n",
       "</style>\n",
       "<table border=\"1\" class=\"dataframe\">\n",
       "  <thead>\n",
       "    <tr style=\"text-align: right;\">\n",
       "      <th></th>\n",
       "      <th>Text</th>\n",
       "    </tr>\n",
       "  </thead>\n",
       "  <tbody>\n",
       "    <tr>\n",
       "      <th>0</th>\n",
       "      <td>The Dow-Jones Industrial Average turns 125 by ...</td>\n",
       "    </tr>\n",
       "  </tbody>\n",
       "</table>\n",
       "</div>"
      ],
      "text/plain": [
       "                                                Text\n",
       "0  The Dow-Jones Industrial Average turns 125 by ..."
      ]
     },
     "execution_count": 69,
     "metadata": {},
     "output_type": "execute_result"
    }
   ],
   "source": [
    "df = pd.DataFrame(article) \n",
    "df.columns =['Text']\n",
    "df"
   ]
  },
  {
   "cell_type": "code",
   "execution_count": 70,
   "id": "37ea4c6c",
   "metadata": {},
   "outputs": [
    {
     "data": {
      "text/html": [
       "<div>\n",
       "<style scoped>\n",
       "    .dataframe tbody tr th:only-of-type {\n",
       "        vertical-align: middle;\n",
       "    }\n",
       "\n",
       "    .dataframe tbody tr th {\n",
       "        vertical-align: top;\n",
       "    }\n",
       "\n",
       "    .dataframe thead th {\n",
       "        text-align: right;\n",
       "    }\n",
       "</style>\n",
       "<table border=\"1\" class=\"dataframe\">\n",
       "  <thead>\n",
       "    <tr style=\"text-align: right;\">\n",
       "      <th></th>\n",
       "      <th>Text</th>\n",
       "      <th>Date</th>\n",
       "      <th>Year</th>\n",
       "      <th>Month</th>\n",
       "      <th>Day</th>\n",
       "    </tr>\n",
       "  </thead>\n",
       "  <tbody>\n",
       "    <tr>\n",
       "      <th>0</th>\n",
       "      <td>The Dow-Jones Industrial Average turns 125 by ...</td>\n",
       "      <td>2021-05-26</td>\n",
       "      <td>2021</td>\n",
       "      <td>05</td>\n",
       "      <td>26</td>\n",
       "    </tr>\n",
       "  </tbody>\n",
       "</table>\n",
       "</div>"
      ],
      "text/plain": [
       "                                                Text        Date  Year Month  \\\n",
       "0  The Dow-Jones Industrial Average turns 125 by ...  2021-05-26  2021    05   \n",
       "\n",
       "  Day  \n",
       "0  26  "
      ]
     },
     "execution_count": 70,
     "metadata": {},
     "output_type": "execute_result"
    }
   ],
   "source": [
    "search_term = 'Commentary Magazine'\n",
    "r = re.compile(\"\\d{4}-\\d{2}-\\d{2}\")\n",
    "\n",
    "before_keyword, keyword, after_keyword = df.loc[0, \"Text\"].partition(search_term)\n",
    "lines = after_keyword\n",
    "for line in lines.splitlines():\n",
    "    m = r.search(line)\n",
    "    if m:\n",
    "        df.loc[i, \"Date\"] = m.group()\n",
    "        df.loc[i, \"Year\"] = m.group()[0:4]\n",
    "        df.loc[i, \"Month\"] = m.group()[5:7]\n",
    "        df.loc[i, \"Day\"] = m.group()[8:10]\n",
    "df"
   ]
  },
  {
   "cell_type": "code",
   "execution_count": 71,
   "id": "4fac8150",
   "metadata": {
    "scrolled": true
   },
   "outputs": [
    {
     "data": {
      "text/html": [
       "<div>\n",
       "<style scoped>\n",
       "    .dataframe tbody tr th:only-of-type {\n",
       "        vertical-align: middle;\n",
       "    }\n",
       "\n",
       "    .dataframe tbody tr th {\n",
       "        vertical-align: top;\n",
       "    }\n",
       "\n",
       "    .dataframe thead th {\n",
       "        text-align: right;\n",
       "    }\n",
       "</style>\n",
       "<table border=\"1\" class=\"dataframe\">\n",
       "  <thead>\n",
       "    <tr style=\"text-align: right;\">\n",
       "      <th></th>\n",
       "      <th>Text</th>\n",
       "      <th>Date</th>\n",
       "      <th>Year</th>\n",
       "      <th>Month</th>\n",
       "      <th>Day</th>\n",
       "      <th>Author</th>\n",
       "    </tr>\n",
       "  </thead>\n",
       "  <tbody>\n",
       "    <tr>\n",
       "      <th>0</th>\n",
       "      <td>The Dow-Jones Industrial Average turns 125 by ...</td>\n",
       "      <td>2021-05-26</td>\n",
       "      <td>2021</td>\n",
       "      <td>05</td>\n",
       "      <td>26</td>\n",
       "      <td>John Steele Gordon</td>\n",
       "    </tr>\n",
       "  </tbody>\n",
       "</table>\n",
       "</div>"
      ],
      "text/plain": [
       "                                                Text        Date  Year Month  \\\n",
       "0  The Dow-Jones Industrial Average turns 125 by ...  2021-05-26  2021    05   \n",
       "\n",
       "  Day              Author  \n",
       "0  26  John Steele Gordon  "
      ]
     },
     "execution_count": 71,
     "metadata": {},
     "output_type": "execute_result"
    }
   ],
   "source": [
    "start_term = 'by '\n",
    "end_term = ' On'\n",
    "before_keyword, keyword, after_keyword = df.loc[0, \"Text\"].partition(start_term) \n",
    "before_keyword, keyword, after_keyword = after_keyword.partition(end_term)\n",
    "if len(before_keyword.strip()) <= 40:\n",
    "    df.loc[0, \"Author\"] = before_keyword.strip()\n",
    "df"
   ]
  },
  {
   "cell_type": "code",
   "execution_count": 72,
   "id": "f364cf38",
   "metadata": {},
   "outputs": [
    {
     "data": {
      "text/html": [
       "<div>\n",
       "<style scoped>\n",
       "    .dataframe tbody tr th:only-of-type {\n",
       "        vertical-align: middle;\n",
       "    }\n",
       "\n",
       "    .dataframe tbody tr th {\n",
       "        vertical-align: top;\n",
       "    }\n",
       "\n",
       "    .dataframe thead th {\n",
       "        text-align: right;\n",
       "    }\n",
       "</style>\n",
       "<table border=\"1\" class=\"dataframe\">\n",
       "  <thead>\n",
       "    <tr style=\"text-align: right;\">\n",
       "      <th></th>\n",
       "      <th>Text</th>\n",
       "      <th>Date</th>\n",
       "      <th>Year</th>\n",
       "      <th>Month</th>\n",
       "      <th>Day</th>\n",
       "      <th>Author</th>\n",
       "      <th>Title</th>\n",
       "    </tr>\n",
       "  </thead>\n",
       "  <tbody>\n",
       "    <tr>\n",
       "      <th>0</th>\n",
       "      <td>The Dow-Jones Industrial Average turns 125 by ...</td>\n",
       "      <td>2021-05-26</td>\n",
       "      <td>2021</td>\n",
       "      <td>05</td>\n",
       "      <td>26</td>\n",
       "      <td>John Steele Gordon</td>\n",
       "      <td>The Dow-Jones Industrial Average turns 125</td>\n",
       "    </tr>\n",
       "  </tbody>\n",
       "</table>\n",
       "</div>"
      ],
      "text/plain": [
       "                                                Text        Date  Year Month  \\\n",
       "0  The Dow-Jones Industrial Average turns 125 by ...  2021-05-26  2021    05   \n",
       "\n",
       "  Day              Author                                       Title  \n",
       "0  26  John Steele Gordon  The Dow-Jones Industrial Average turns 125  "
      ]
     },
     "execution_count": 72,
     "metadata": {},
     "output_type": "execute_result"
    }
   ],
   "source": [
    "end_term = ' by '\n",
    "before_keyword, keyword, after_keyword = df.loc[0, \"Text\"][:100].partition(end_term) \n",
    "if len(before_keyword.strip()) <= 100:\n",
    "    df.loc[0, \"Title\"] = before_keyword.strip()\n",
    "df"
   ]
  }
 ],
 "metadata": {
  "kernelspec": {
   "display_name": "kubilari",
   "language": "python",
   "name": "kubilari"
  },
  "language_info": {
   "codemirror_mode": {
    "name": "ipython",
    "version": 3
   },
   "file_extension": ".py",
   "mimetype": "text/x-python",
   "name": "python",
   "nbconvert_exporter": "python",
   "pygments_lexer": "ipython3",
   "version": "3.9.4"
  }
 },
 "nbformat": 4,
 "nbformat_minor": 5
}
