{
 "cells": [
  {
   "cell_type": "code",
   "execution_count": 1,
   "id": "5b8c9162",
   "metadata": {},
   "outputs": [],
   "source": [
    "import pandas as pd"
   ]
  },
  {
   "cell_type": "code",
   "execution_count": 7,
   "id": "460cd3d3",
   "metadata": {},
   "outputs": [
    {
     "data": {
      "text/plain": [
       "1"
      ]
     },
     "execution_count": 7,
     "metadata": {},
     "output_type": "execute_result"
    }
   ],
   "source": [
    "html_url = \"https://coinmarketcap.com/exchanges/binance/\"\n",
    "tables = pd.read_html(html_url)\n",
    "len(tables)"
   ]
  },
  {
   "cell_type": "code",
   "execution_count": 8,
   "id": "d2a73881",
   "metadata": {},
   "outputs": [
    {
     "data": {
      "text/html": [
       "<div>\n",
       "<style scoped>\n",
       "    .dataframe tbody tr th:only-of-type {\n",
       "        vertical-align: middle;\n",
       "    }\n",
       "\n",
       "    .dataframe tbody tr th {\n",
       "        vertical-align: top;\n",
       "    }\n",
       "\n",
       "    .dataframe thead th {\n",
       "        text-align: right;\n",
       "    }\n",
       "</style>\n",
       "<table border=\"1\" class=\"dataframe\">\n",
       "  <thead>\n",
       "    <tr style=\"text-align: right;\">\n",
       "      <th></th>\n",
       "      <th>Currency</th>\n",
       "      <th>Pair</th>\n",
       "      <th>Price</th>\n",
       "      <th>+2% Depth</th>\n",
       "      <th>-2% Depth</th>\n",
       "      <th>Volume</th>\n",
       "      <th>Volume %</th>\n",
       "      <th>Liquidity</th>\n",
       "      <th>Updated</th>\n",
       "    </tr>\n",
       "  </thead>\n",
       "  <tbody>\n",
       "    <tr>\n",
       "      <th>0</th>\n",
       "      <td>Bitcoin</td>\n",
       "      <td>BTC/USDT</td>\n",
       "      <td>$32,928.06</td>\n",
       "      <td>$17,353,263.65</td>\n",
       "      <td>$11,686,506.02</td>\n",
       "      <td>$2,839,162,616</td>\n",
       "      <td>4.32%</td>\n",
       "      <td>872</td>\n",
       "      <td>Recently</td>\n",
       "    </tr>\n",
       "    <tr>\n",
       "      <th>1</th>\n",
       "      <td>Ethereum</td>\n",
       "      <td>ETH/USDT</td>\n",
       "      <td>$1,824.82</td>\n",
       "      <td>$6,645,907.82</td>\n",
       "      <td>$8,529,238.45</td>\n",
       "      <td>$1,051,597,691</td>\n",
       "      <td>1.60%</td>\n",
       "      <td>847</td>\n",
       "      <td>Recently</td>\n",
       "    </tr>\n",
       "    <tr>\n",
       "      <th>2</th>\n",
       "      <td>Bitcoin</td>\n",
       "      <td>BTC/BUSD</td>\n",
       "      <td>$32,899.11</td>\n",
       "      <td>$4,467,227.68</td>\n",
       "      <td>$4,559,539.13</td>\n",
       "      <td>$771,326,134</td>\n",
       "      <td>1.17%</td>\n",
       "      <td>760</td>\n",
       "      <td>Recently</td>\n",
       "    </tr>\n",
       "    <tr>\n",
       "      <th>3</th>\n",
       "      <td>Binance USD</td>\n",
       "      <td>BUSD/USDT</td>\n",
       "      <td>$1.00</td>\n",
       "      <td>$48,431,183.25</td>\n",
       "      <td>$57,655,990.80</td>\n",
       "      <td>$615,318,209</td>\n",
       "      <td>0.94%</td>\n",
       "      <td>822</td>\n",
       "      <td>Recently</td>\n",
       "    </tr>\n",
       "    <tr>\n",
       "      <th>4</th>\n",
       "      <td>Dogecoin</td>\n",
       "      <td>DOGE/USDT</td>\n",
       "      <td>$0.2439</td>\n",
       "      <td>$1,876,756.42</td>\n",
       "      <td>$3,110,605.58</td>\n",
       "      <td>$414,071,986</td>\n",
       "      <td>0.63%</td>\n",
       "      <td>771</td>\n",
       "      <td>Recently</td>\n",
       "    </tr>\n",
       "  </tbody>\n",
       "</table>\n",
       "</div>"
      ],
      "text/plain": [
       "      Currency       Pair       Price       +2% Depth       -2% Depth  \\\n",
       "0      Bitcoin   BTC/USDT  $32,928.06  $17,353,263.65  $11,686,506.02   \n",
       "1     Ethereum   ETH/USDT   $1,824.82   $6,645,907.82   $8,529,238.45   \n",
       "2      Bitcoin   BTC/BUSD  $32,899.11   $4,467,227.68   $4,559,539.13   \n",
       "3  Binance USD  BUSD/USDT       $1.00  $48,431,183.25  $57,655,990.80   \n",
       "4     Dogecoin  DOGE/USDT     $0.2439   $1,876,756.42   $3,110,605.58   \n",
       "\n",
       "           Volume Volume %  Liquidity   Updated  \n",
       "0  $2,839,162,616    4.32%        872  Recently  \n",
       "1  $1,051,597,691    1.60%        847  Recently  \n",
       "2    $771,326,134    1.17%        760  Recently  \n",
       "3    $615,318,209    0.94%        822  Recently  \n",
       "4    $414,071,986    0.63%        771  Recently  "
      ]
     },
     "execution_count": 8,
     "metadata": {},
     "output_type": "execute_result"
    }
   ],
   "source": [
    "df = tables[0]\n",
    "df.drop(df.columns[[0]], axis=1, inplace=True)\n",
    "df.head()"
   ]
  },
  {
   "cell_type": "code",
   "execution_count": 13,
   "id": "5a453e13",
   "metadata": {},
   "outputs": [
    {
     "data": {
      "text/plain": [
       "100"
      ]
     },
     "execution_count": 13,
     "metadata": {},
     "output_type": "execute_result"
    }
   ],
   "source": [
    "len(df)"
   ]
  }
 ],
 "metadata": {
  "kernelspec": {
   "display_name": "datamining",
   "language": "python",
   "name": "datamining"
  },
  "language_info": {
   "codemirror_mode": {
    "name": "ipython",
    "version": 3
   },
   "file_extension": ".py",
   "mimetype": "text/x-python",
   "name": "python",
   "nbconvert_exporter": "python",
   "pygments_lexer": "ipython3",
   "version": "3.9.5"
  }
 },
 "nbformat": 4,
 "nbformat_minor": 5
}
