{
 "cells": [
  {
   "cell_type": "code",
   "execution_count": 265,
   "metadata": {},
   "outputs": [],
   "source": [
    "#https://towardsdatascience.com/report-is-too-long-to-read-use-nlp-to-create-a-summary-6f5f7801d355\n",
    "import nltk\n",
    "#nltk.download('stopwords')\n",
    "#nltk.download('punkt')\n",
    "import re\n",
    "import heapq\n",
    "import numpy as np\n",
    "import pandas as pd\n",
    "from matplotlib import pyplot as plt\n",
    "%matplotlib inline"
   ]
  },
  {
   "cell_type": "code",
   "execution_count": 266,
   "metadata": {},
   "outputs": [],
   "source": [
    "with open('test.txt', 'r', encoding='utf8') as f:\n",
    "    file_data = f.read()\n",
    "text = file_data\n",
    "text = re.sub(r'\\[[0-9]*\\]',' ',text)\n",
    "text = re.sub(r'\\s+',' ',text)"
   ]
  },
  {
   "cell_type": "code",
   "execution_count": 268,
   "metadata": {},
   "outputs": [],
   "source": [
    "clean_text = text.lower()\n",
    "regex_patterns = [r'\\W',r'\\d',r'\\s+']\n",
    "for regex in regex_patterns:\n",
    "    clean_text = re.sub(regex,' ',clean_text)"
   ]
  },
  {
   "cell_type": "code",
   "execution_count": 269,
   "metadata": {},
   "outputs": [],
   "source": [
    "sentences = nltk.sent_tokenize(text)\n",
    "stop_words = nltk.corpus.stopwords.words('english')"
   ]
  },
  {
   "cell_type": "code",
   "execution_count": 271,
   "metadata": {},
   "outputs": [],
   "source": [
    "word_count = {}\n",
    "for word in nltk.word_tokenize(clean_text):\n",
    "    if word not in stop_words:\n",
    "        if word not in word_count.keys():\n",
    "            word_count[word] = 1\n",
    "        else:\n",
    "            word_count[word] += 1"
   ]
  },
  {
   "cell_type": "code",
   "execution_count": 297,
   "metadata": {},
   "outputs": [
    {
     "data": {
      "text/plain": [
       "<AxesSubplot:>"
      ]
     },
     "execution_count": 297,
     "metadata": {},
     "output_type": "execute_result"
    },
    {
     "data": {
      "image/png": "[encoded data removed]",
      "text/plain": [
       "<Figure size 1080x288 with 1 Axes>"
      ]
     },
     "metadata": {
      "needs_background": "light"
     },
     "output_type": "display_data"
    }
   ],
   "source": [
    "word_count_table = pd.DataFrame.from_dict(word_count, orient = 'index').rename(columns={0: 'score'})\n",
    "word_count_table.sort_values(by='score').tail(20).plot(kind='barh', figsize=(15,4))"
   ]
  },
  {
   "cell_type": "code",
   "execution_count": 289,
   "metadata": {},
   "outputs": [],
   "source": [
    "sentence_score = {}to form sentence score\n",
    "for sentence in sentences:\n",
    "    for word in nltk.word_tokenize(sentence.lower()):\n",
    "        if word in word_count.keys():\n",
    "            if len(sentence.split(' ')) < 30:\n",
    "                if sentence not in sentence_score.keys():\n",
    "                    sentence_score[sentence] = word_count[word]\n",
    "                else:\n",
    "                    sentence_score[sentence] += word_count[word]"
   ]
  },
  {
   "cell_type": "code",
   "execution_count": 290,
   "metadata": {},
   "outputs": [
    {
     "data": {
      "text/html": [
       "<div>\n",
       "<style scoped>\n",
       "    .dataframe tbody tr th:only-of-type {\n",
       "        vertical-align: middle;\n",
       "    }\n",
       "\n",
       "    .dataframe tbody tr th {\n",
       "        vertical-align: top;\n",
       "    }\n",
       "\n",
       "    .dataframe thead th {\n",
       "        text-align: right;\n",
       "    }\n",
       "</style>\n",
       "<table border=\"1\" class=\"dataframe\">\n",
       "  <thead>\n",
       "    <tr style=\"text-align: right;\">\n",
       "      <th></th>\n",
       "      <th>score</th>\n",
       "    </tr>\n",
       "  </thead>\n",
       "  <tbody>\n",
       "    <tr>\n",
       "      <th>\"Words of condemnation or concern are frankly ringing hollow to the people of Myanmar while the military junta commits mass murder against them,\" he said in a statement.</th>\n",
       "      <td>92</td>\n",
       "    </tr>\n",
       "    <tr>\n",
       "      <th>These were the latest child casualties on the bloodiest day in Myanmar since the military takeover,\" said UNICEF Executive Director Henrietta Fore in a statement.</th>\n",
       "      <td>80</td>\n",
       "    </tr>\n",
       "    <tr>\n",
       "      <th>The United Nations Children's Fund (UNICEF) said 35 children have been killed by junta forces since the coup.</th>\n",
       "      <td>74</td>\n",
       "    </tr>\n",
       "    <tr>\n",
       "      <th>The Karen National Union (KNU), the armed ethnic group that controls the southeastern region in Myanmar, told CNN that more airstrikes were conducted by the junta Sunday.</th>\n",
       "      <td>73</td>\n",
       "    </tr>\n",
       "    <tr>\n",
       "      <th>United States President Joe Biden joined a chorus of international condemnation Sunday, saying the situation in Myanmar was \"terrible,\" and described the actions of the military as \"absolutely outrageous.\"</th>\n",
       "      <td>72</td>\n",
       "    </tr>\n",
       "  </tbody>\n",
       "</table>\n",
       "</div>"
      ],
      "text/plain": [
       "                                                    score\n",
       "\"Words of condemnation or concern are frankly r...     92\n",
       "These were the latest child casualties on the b...     80\n",
       "The United Nations Children's Fund (UNICEF) sai...     74\n",
       "The Karen National Union (KNU), the armed ethni...     73\n",
       "United States President Joe Biden joined a chor...     72"
      ]
     },
     "execution_count": 290,
     "metadata": {},
     "output_type": "execute_result"
    }
   ],
   "source": [
    "df_sentence_score = pd.DataFrame.from_dict(sentence_score, orient = 'index').rename(columns={0: 'score'})\n",
    "df_sentence_score.sort_values(by='score', ascending = False).head()"
   ]
  },
  {
   "cell_type": "code",
   "execution_count": 291,
   "metadata": {},
   "outputs": [],
   "source": [
    "best_sentences = heapq.nlargest(3, sentence_score, key=sentence_score.get)"
   ]
  },
  {
   "cell_type": "code",
   "execution_count": 292,
   "metadata": {},
   "outputs": [
    {
     "name": "stdout",
     "output_type": "stream",
     "text": [
      "SUMMARY\n",
      "------------------------\n",
      "The United Nations Children's Fund (UNICEF) said 35 children have been killed by junta forces since the coup.\n",
      "These were the latest child casualties on the bloodiest day in Myanmar since the military takeover,\" said UNICEF Executive Director Henrietta Fore in a statement.\n",
      "\"Words of condemnation or concern are frankly ringing hollow to the people of Myanmar while the military junta commits mass murder against them,\" he said in a statement.\n"
     ]
    }
   ],
   "source": [
    "print('SUMMARY')\n",
    "print('------------------------')\n",
    "for sentence in sentences:\n",
    "    if sentence in best_sentences:\n",
    "        print (sentence)"
   ]
  }
 ],
 "metadata": {
  "kernelspec": {
   "display_name": "Python 3",
   "language": "python",
   "name": "python3"
  },
  "language_info": {
   "codemirror_mode": {
    "name": "ipython",
    "version": 3
   },
   "file_extension": ".py",
   "mimetype": "text/x-python",
   "name": "python",
   "nbconvert_exporter": "python",
   "pygments_lexer": "ipython3",
   "version": "3.8.5"
  }
 },
 "nbformat": 4,
 "nbformat_minor": 4
}
