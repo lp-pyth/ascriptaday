{
 "cells": [
  {
   "cell_type": "code",
   "execution_count": null,
   "id": "53f61bb1",
   "metadata": {},
   "outputs": [
    {
     "name": "stdout",
     "output_type": "stream",
     "text": [
      "Ask the magic 8 ball a question: (press enter to quit) Is Python better than Java?\n",
      "It is certain\n"
     ]
    }
   ],
   "source": [
    "# https://www.pythonforbeginners.com/code/magic-8-ball-written-in-python\n",
    "import sys\n",
    "import random\n",
    "ans = True\n",
    "while ans:\n",
    "    question = input(\"Ask the magic 8 ball a question: (press enter to quit) \")\n",
    "    answers = random.randint(1,8)\n",
    "    if question == \"\":\n",
    "        sys.exit()\n",
    "    elif answers == 1:\n",
    "        print (\"It is certain\")\n",
    "    elif answers == 2:\n",
    "        print (\"Outlook good\")\n",
    "    elif answers == 3:\n",
    "        print (\"You may rely on it\")\n",
    "    elif answers == 4:\n",
    "        print (\"Ask again later\")\n",
    "    elif answers == 5:\n",
    "        print (\"Concentrate and ask again\")\n",
    "    elif answers == 6:\n",
    "        print (\"Reply hazy, try again\")\n",
    "    elif answers == 7:\n",
    "        print (\"My reply is no\")\n",
    "    elif answers == 8:\n",
    "        print (\"My sources say no\")"
   ]
  },
  {
   "cell_type": "code",
   "execution_count": null,
   "id": "f4be81ab",
   "metadata": {},
   "outputs": [],
   "source": []
  }
 ],
 "metadata": {
  "kernelspec": {
   "display_name": "datamining",
   "language": "python",
   "name": "datamining"
  },
  "language_info": {
   "codemirror_mode": {
    "name": "ipython",
    "version": 3
   },
   "file_extension": ".py",
   "mimetype": "text/x-python",
   "name": "python",
   "nbconvert_exporter": "python",
   "pygments_lexer": "ipython3",
   "version": "3.9.5"
  }
 },
 "nbformat": 4,
 "nbformat_minor": 5
}
