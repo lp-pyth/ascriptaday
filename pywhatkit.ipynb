{
 "cells": [
  {
   "cell_type": "code",
   "execution_count": null,
   "id": "ac827b8f",
   "metadata": {},
   "outputs": [],
   "source": [
    "import pywhatkit as kit\n",
    "import random\n",
    "import pyautogui as pg"
   ]
  },
  {
   "cell_type": "code",
   "execution_count": null,
   "id": "cc807498",
   "metadata": {},
   "outputs": [],
   "source": [
    "whatsapp_nr = 'WHATSAPP NUMBER HERE'\n",
    "messages = ['You are so special and I am thinking about you, my darling.',\n",
    "           'I miiiiss you. Kisses!',     \n",
    "           'Hope you have an amazing day. :D', \n",
    "           'Hey, just wanted to check in and make sure that you are doing great, cutiepie.']"
   ]
  },
  {
   "cell_type": "code",
   "execution_count": null,
   "id": "df6075b5",
   "metadata": {},
   "outputs": [],
   "source": [
    "kit.sendwhatmsg(whatsapp_nr, random.choice(messages), 8, 0) #hour and minute at the end\n",
    "pg.press(\"enter\")"
   ]
  },
  {
   "cell_type": "code",
   "execution_count": null,
   "id": "80328e1f",
   "metadata": {},
   "outputs": [],
   "source": [
    "kit.showHistory()"
   ]
  },
  {
   "cell_type": "code",
   "execution_count": null,
   "id": "8e21f09d",
   "metadata": {},
   "outputs": [],
   "source": [
    "kit.search(\"Rap Snitch Knishes\")"
   ]
  },
  {
   "cell_type": "code",
   "execution_count": null,
   "id": "274408c4",
   "metadata": {},
   "outputs": [],
   "source": [
    "kit.info(\"Daniel Dumile\")"
   ]
  },
  {
   "cell_type": "code",
   "execution_count": null,
   "id": "e40f3cb2",
   "metadata": {},
   "outputs": [],
   "source": [
    "kit.image_to_ascii_art(\"person.jpg\", \"person.txt\")"
   ]
  },
  {
   "cell_type": "code",
   "execution_count": null,
   "id": "bcfa8d33",
   "metadata": {},
   "outputs": [],
   "source": []
  }
 ],
 "metadata": {
  "kernelspec": {
   "display_name": "Python [conda env:whatsapp]",
   "language": "python",
   "name": "conda-env-whatsapp-py"
  },
  "language_info": {
   "codemirror_mode": {
    "name": "ipython",
    "version": 3
   },
   "file_extension": ".py",
   "mimetype": "text/x-python",
   "name": "python",
   "nbconvert_exporter": "python",
   "pygments_lexer": "ipython3",
   "version": "3.9.4"
  }
 },
 "nbformat": 4,
 "nbformat_minor": 5
}
