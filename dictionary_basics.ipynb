{
 "cells": [
  {
   "cell_type": "code",
   "execution_count": 86,
   "id": "94cc70e3",
   "metadata": {},
   "outputs": [],
   "source": [
    "my_dict = {'Name': 'Peter', 'Age': 32, 'Occupation': 'Pilot'}"
   ]
  },
  {
   "cell_type": "code",
   "execution_count": 87,
   "id": "3109633a",
   "metadata": {},
   "outputs": [
    {
     "data": {
      "text/plain": [
       "'Peter'"
      ]
     },
     "execution_count": 87,
     "metadata": {},
     "output_type": "execute_result"
    }
   ],
   "source": [
    "my_dict['Name']"
   ]
  },
  {
   "cell_type": "code",
   "execution_count": 88,
   "id": "bea231ce",
   "metadata": {},
   "outputs": [
    {
     "data": {
      "text/plain": [
       "33"
      ]
     },
     "execution_count": 88,
     "metadata": {},
     "output_type": "execute_result"
    }
   ],
   "source": [
    "my_dict['Age'] = 33\n",
    "my_dict['Age'] "
   ]
  },
  {
   "cell_type": "code",
   "execution_count": 89,
   "id": "666f3741",
   "metadata": {},
   "outputs": [
    {
     "data": {
      "text/plain": [
       "'Darwin High School'"
      ]
     },
     "execution_count": 89,
     "metadata": {},
     "output_type": "execute_result"
    }
   ],
   "source": [
    "my_dict['School'] = 'Darwin High School'\n",
    "my_dict['School']"
   ]
  },
  {
   "cell_type": "code",
   "execution_count": 90,
   "id": "709158f6",
   "metadata": {
    "scrolled": true
   },
   "outputs": [
    {
     "data": {
      "text/plain": [
       "{'Name': 'Peter', 'Age': 33, 'School': 'Darwin High School'}"
      ]
     },
     "execution_count": 90,
     "metadata": {},
     "output_type": "execute_result"
    }
   ],
   "source": [
    "del my_dict['Occupation']\n",
    "my_dict"
   ]
  },
  {
   "cell_type": "code",
   "execution_count": 91,
   "id": "fb1cf193",
   "metadata": {},
   "outputs": [
    {
     "data": {
      "text/plain": [
       "dict_values(['Peter', 33, 'Darwin High School'])"
      ]
     },
     "execution_count": 91,
     "metadata": {},
     "output_type": "execute_result"
    }
   ],
   "source": [
    "my_dict.values()"
   ]
  },
  {
   "cell_type": "code",
   "execution_count": 92,
   "id": "dfee7e25",
   "metadata": {},
   "outputs": [
    {
     "data": {
      "text/plain": [
       "dict_items([('Name', 'Peter'), ('Age', 33), ('School', 'Darwin High School')])"
      ]
     },
     "execution_count": 92,
     "metadata": {},
     "output_type": "execute_result"
    }
   ],
   "source": [
    "my_dict.items()"
   ]
  },
  {
   "cell_type": "code",
   "execution_count": 93,
   "id": "1f2dbcd8",
   "metadata": {},
   "outputs": [
    {
     "data": {
      "text/plain": [
       "{}"
      ]
     },
     "execution_count": 93,
     "metadata": {},
     "output_type": "execute_result"
    }
   ],
   "source": [
    "my_dict.clear();     # remove all entries in dict\n",
    "my_dict"
   ]
  },
  {
   "cell_type": "code",
   "execution_count": 94,
   "id": "0d20604b",
   "metadata": {},
   "outputs": [],
   "source": [
    "del my_dict"
   ]
  },
  {
   "cell_type": "code",
   "execution_count": 95,
   "id": "2a54107e",
   "metadata": {
    "scrolled": true
   },
   "outputs": [
    {
     "data": {
      "text/plain": [
       "{'peter': 5, 'jackson': 7, 'pilot': 5}"
      ]
     },
     "execution_count": 95,
     "metadata": {},
     "output_type": "execute_result"
    }
   ],
   "source": [
    "my_dict = ['peter', 'jackson', 'pilot']\n",
    "{e: len(e) for e in my_dict}"
   ]
  },
  {
   "cell_type": "code",
   "execution_count": 96,
   "id": "5c914516",
   "metadata": {},
   "outputs": [
    {
     "data": {
      "text/plain": [
       "{'peter': 'Peter', 'jackson': 'Jackson', 'pilot': 'Pilot'}"
      ]
     },
     "execution_count": 96,
     "metadata": {},
     "output_type": "execute_result"
    }
   ],
   "source": [
    "{f:f.capitalize() for f in my_dict}"
   ]
  },
  {
   "cell_type": "code",
   "execution_count": 97,
   "id": "de25a751",
   "metadata": {},
   "outputs": [
    {
     "data": {
      "text/plain": [
       "{'peter': 0, 'jackson': 1, 'pilot': 2}"
      ]
     },
     "execution_count": 97,
     "metadata": {},
     "output_type": "execute_result"
    }
   ],
   "source": [
    "my_dict = ['peter', 'jackson', 'pilot']\n",
    "{f:i for i,f in enumerate(my_dict)}"
   ]
  },
  {
   "cell_type": "code",
   "execution_count": 98,
   "id": "0899af43",
   "metadata": {},
   "outputs": [
    {
     "data": {
      "text/plain": [
       "{'peter': 0, 'jackson': 1, 'pilot': 2}"
      ]
     },
     "execution_count": 98,
     "metadata": {},
     "output_type": "execute_result"
    }
   ],
   "source": [
    "my_dict = ['peter', 'jackson', 'pilot']\n",
    "f_dict = {f:i for i,f in enumerate(my_dict)}\n",
    "f_dict"
   ]
  },
  {
   "cell_type": "code",
   "execution_count": 99,
   "id": "810fe336",
   "metadata": {},
   "outputs": [
    {
     "data": {
      "text/plain": [
       "{0: 'peter', 1: 'jackson', 2: 'pilot'}"
      ]
     },
     "execution_count": 99,
     "metadata": {},
     "output_type": "execute_result"
    }
   ],
   "source": [
    "{v:k for k,v in f_dict.items()}"
   ]
  }
 ],
 "metadata": {
  "kernelspec": {
   "display_name": "Python 3",
   "language": "python",
   "name": "python3"
  },
  "language_info": {
   "codemirror_mode": {
    "name": "ipython",
    "version": 3
   },
   "file_extension": ".py",
   "mimetype": "text/x-python",
   "name": "python",
   "nbconvert_exporter": "python",
   "pygments_lexer": "ipython3",
   "version": "3.8.5"
  }
 },
 "nbformat": 4,
 "nbformat_minor": 5
}
