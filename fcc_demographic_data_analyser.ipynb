{
 "cells": [
  {
   "cell_type": "code",
   "execution_count": 1,
   "id": "b3be78fa",
   "metadata": {},
   "outputs": [],
   "source": [
    "import pandas as pd\n",
    "import numpy as np\n",
    "import matplotlib.pyplot as plt\n",
    "%matplotlib inline"
   ]
  },
  {
   "cell_type": "code",
   "execution_count": 2,
   "id": "4a661d1e",
   "metadata": {},
   "outputs": [],
   "source": [
    "df = pd.read_csv(\"adult.data.csv\")"
   ]
  },
  {
   "cell_type": "code",
   "execution_count": 123,
   "id": "855cb12b",
   "metadata": {
    "scrolled": true
   },
   "outputs": [
    {
     "data": {
      "text/html": [
       "<div>\n",
       "<style scoped>\n",
       "    .dataframe tbody tr th:only-of-type {\n",
       "        vertical-align: middle;\n",
       "    }\n",
       "\n",
       "    .dataframe tbody tr th {\n",
       "        vertical-align: top;\n",
       "    }\n",
       "\n",
       "    .dataframe thead th {\n",
       "        text-align: right;\n",
       "    }\n",
       "</style>\n",
       "<table border=\"1\" class=\"dataframe\">\n",
       "  <thead>\n",
       "    <tr style=\"text-align: right;\">\n",
       "      <th></th>\n",
       "      <th>age</th>\n",
       "      <th>workclass</th>\n",
       "      <th>fnlwgt</th>\n",
       "      <th>education</th>\n",
       "      <th>education-num</th>\n",
       "      <th>marital-status</th>\n",
       "      <th>occupation</th>\n",
       "      <th>relationship</th>\n",
       "      <th>race</th>\n",
       "      <th>sex</th>\n",
       "      <th>capital-gain</th>\n",
       "      <th>capital-loss</th>\n",
       "      <th>hours-per-week</th>\n",
       "      <th>native-country</th>\n",
       "      <th>salary</th>\n",
       "    </tr>\n",
       "  </thead>\n",
       "  <tbody>\n",
       "    <tr>\n",
       "      <th>0</th>\n",
       "      <td>39</td>\n",
       "      <td>State-gov</td>\n",
       "      <td>77516</td>\n",
       "      <td>Bachelors</td>\n",
       "      <td>13</td>\n",
       "      <td>Never-married</td>\n",
       "      <td>Adm-clerical</td>\n",
       "      <td>Not-in-family</td>\n",
       "      <td>White</td>\n",
       "      <td>Male</td>\n",
       "      <td>2174</td>\n",
       "      <td>0</td>\n",
       "      <td>40</td>\n",
       "      <td>United-States</td>\n",
       "      <td>&lt;=50K</td>\n",
       "    </tr>\n",
       "  </tbody>\n",
       "</table>\n",
       "</div>"
      ],
      "text/plain": [
       "   age  workclass  fnlwgt  education  education-num marital-status  \\\n",
       "0   39  State-gov   77516  Bachelors             13  Never-married   \n",
       "\n",
       "     occupation   relationship   race   sex  capital-gain  capital-loss  \\\n",
       "0  Adm-clerical  Not-in-family  White  Male          2174             0   \n",
       "\n",
       "   hours-per-week native-country salary  \n",
       "0              40  United-States  <=50K  "
      ]
     },
     "execution_count": 123,
     "metadata": {},
     "output_type": "execute_result"
    }
   ],
   "source": [
    "df.head(1)"
   ]
  },
  {
   "cell_type": "code",
   "execution_count": 46,
   "id": "2ab2e4c7",
   "metadata": {},
   "outputs": [
    {
     "data": {
      "text/plain": [
       "<=50K    24720\n",
       ">50K      7841\n",
       "Name: salary, dtype: int64"
      ]
     },
     "execution_count": 46,
     "metadata": {},
     "output_type": "execute_result"
    }
   ],
   "source": [
    "df.salary.value_counts()"
   ]
  },
  {
   "cell_type": "code",
   "execution_count": 5,
   "id": "87bfb5b3",
   "metadata": {},
   "outputs": [
    {
     "data": {
      "text/plain": [
       "White                 27816\n",
       "Black                  3124\n",
       "Asian-Pac-Islander     1039\n",
       "Amer-Indian-Eskimo      311\n",
       "Other                   271\n",
       "Name: race, dtype: int64"
      ]
     },
     "execution_count": 5,
     "metadata": {},
     "output_type": "execute_result"
    }
   ],
   "source": [
    "#How many people of each race are represented in this dataset? \n",
    "df[\"race\"].value_counts()"
   ]
  },
  {
   "cell_type": "code",
   "execution_count": 7,
   "id": "a5bf4bdc",
   "metadata": {},
   "outputs": [
    {
     "data": {
      "text/plain": [
       "39.4"
      ]
     },
     "execution_count": 7,
     "metadata": {},
     "output_type": "execute_result"
    }
   ],
   "source": [
    "#What is the average age of men?\n",
    "df[df[\"sex\"]=='Male'][\"age\"].mean().round(1)"
   ]
  },
  {
   "cell_type": "code",
   "execution_count": 33,
   "id": "e62df831",
   "metadata": {},
   "outputs": [
    {
     "data": {
      "text/plain": [
       "16.4"
      ]
     },
     "execution_count": 33,
     "metadata": {},
     "output_type": "execute_result"
    }
   ],
   "source": [
    "#What is the percentage of people who have a Bachelor's degree?\n",
    "df[\"education\"].value_counts(normalize=True).mul(100).round(1)[2]"
   ]
  },
  {
   "cell_type": "code",
   "execution_count": 24,
   "id": "1a013da0",
   "metadata": {},
   "outputs": [
    {
     "data": {
      "text/plain": [
       "'16.4%'"
      ]
     },
     "execution_count": 24,
     "metadata": {},
     "output_type": "execute_result"
    }
   ],
   "source": [
    "edu_percentages = df[\"education\"].value_counts(normalize=True).mul(100).round(1).astype(str) + '%'\n",
    "edu_percentages[2]"
   ]
  },
  {
   "cell_type": "code",
   "execution_count": 78,
   "id": "0c70fe01",
   "metadata": {},
   "outputs": [
    {
     "data": {
      "text/plain": [
       "46.5"
      ]
     },
     "execution_count": 78,
     "metadata": {},
     "output_type": "execute_result"
    }
   ],
   "source": [
    "#What percentage of people with advanced education (Bachelors, Masters, or Doctorate) make more than 50K?\n",
    "higher_edu = [\"Bachelors\",\"Masters\",\"Doctorate\"]\n",
    "round(len(df[ (df[\"education\"].isin(higher_edu)) & (df[\"salary\"] ==\">50K\") ]) / len(df[df[\"education\"].isin(higher_edu)]) * 100, 1)"
   ]
  },
  {
   "cell_type": "code",
   "execution_count": 80,
   "id": "9ee57b51",
   "metadata": {},
   "outputs": [
    {
     "data": {
      "text/plain": [
       "17.4"
      ]
     },
     "execution_count": 80,
     "metadata": {},
     "output_type": "execute_result"
    }
   ],
   "source": [
    "#What percentage of people without advanced education make more than 50K?\n",
    "round(len(df[ (~df[\"education\"].isin(higher_edu)) & (df[\"salary\"] ==\">50K\") ]) / len(df[~df[\"education\"].isin(higher_edu)]) * 100, 1)"
   ]
  },
  {
   "cell_type": "code",
   "execution_count": 61,
   "id": "6c953dbb",
   "metadata": {},
   "outputs": [
    {
     "data": {
      "text/plain": [
       "1"
      ]
     },
     "execution_count": 61,
     "metadata": {},
     "output_type": "execute_result"
    }
   ],
   "source": [
    "#What is the minimum number of hours a person works per week?\n",
    "df[\"hours-per-week\"].min()"
   ]
  },
  {
   "cell_type": "code",
   "execution_count": 74,
   "id": "7d86e583",
   "metadata": {},
   "outputs": [
    {
     "data": {
      "text/plain": [
       "32561"
      ]
     },
     "execution_count": 74,
     "metadata": {},
     "output_type": "execute_result"
    }
   ],
   "source": [
    "#What percentage of the people who work the minimum number of hours per week have a salary of more than 50K?\n",
    "len(df[\"hours-per-week\"]==df[\"hours-per-week\"].min())  "
   ]
  },
  {
   "cell_type": "code",
   "execution_count": 73,
   "id": "85b71c2e",
   "metadata": {},
   "outputs": [
    {
     "data": {
      "text/plain": [
       "10.0"
      ]
     },
     "execution_count": 73,
     "metadata": {},
     "output_type": "execute_result"
    }
   ],
   "source": [
    "round(len(df[(df[\"hours-per-week\"]==df[\"hours-per-week\"].min()) & (df[\"salary\"] ==\">50K\")])/len(df[df[\"hours-per-week\"]==df[\"hours-per-week\"].min()])\n",
    "*100,1)"
   ]
  },
  {
   "cell_type": "code",
   "execution_count": 122,
   "id": "08d3d952",
   "metadata": {},
   "outputs": [],
   "source": [
    "#What country has the highest percentage of people that earn >50K and what is that percentage?\n",
    "highest_earning_countries = df[df[\"salary\"]==\">50K\"]\n",
    "highest_earning_countries = highest_earning_countries[\"native-country\"].value_counts().sort_index(ascending=True).to_frame()\n",
    "\n",
    "highest_earning_countries[\"country-counts\"] = df[\"native-country\"].value_counts().sort_index(ascending=True)\n",
    "highest_earning_countries[\"percentages\"] = round (100 * (highest_earning_countries[\"native-country\"] / highest_earning_countries[\"country-counts\"]), 1)\n",
    "\n",
    "highest_earning_country = highest_earning_countries[\"percentages\"].idxmax()\n",
    "highest_earning_country_percentage = highest_earning_countries[\"percentages\"].max()\n",
    "highest_earning_country"
   ]
  },
  {
   "cell_type": "code",
   "execution_count": 104,
   "id": "671d5575",
   "metadata": {
    "scrolled": true
   },
   "outputs": [
    {
     "data": {
      "text/plain": [
       "'Prof-specialty'"
      ]
     },
     "execution_count": 104,
     "metadata": {},
     "output_type": "execute_result"
    }
   ],
   "source": [
    "#Identify the most popular occupation for those who earn >50K in India.\n",
    "df.loc[(df[\"native-country\"]==\"India\") & (df[\"salary\"] == \">50K\"), \"occupation\"].value_counts().index[0]"
   ]
  },
  {
   "cell_type": "code",
   "execution_count": null,
   "id": "ee790cd5",
   "metadata": {},
   "outputs": [],
   "source": []
  }
 ],
 "metadata": {
  "kernelspec": {
   "display_name": "datamining",
   "language": "python",
   "name": "datamining"
  },
  "language_info": {
   "codemirror_mode": {
    "name": "ipython",
    "version": 3
   },
   "file_extension": ".py",
   "mimetype": "text/x-python",
   "name": "python",
   "nbconvert_exporter": "python",
   "pygments_lexer": "ipython3",
   "version": "3.9.5"
  }
 },
 "nbformat": 4,
 "nbformat_minor": 5
}
