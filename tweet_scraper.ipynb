{
 "cells": [
  {
   "cell_type": "code",
   "execution_count": 85,
   "id": "d6316b82",
   "metadata": {},
   "outputs": [],
   "source": [
    "#https://www.simonlindgren.com/notes/2017/11/7/scrape-tweets-without-using-the-api\n",
    "import scrapy\n",
    "import pandas as pd\n",
    "import glob\n",
    "import json"
   ]
  },
  {
   "cell_type": "code",
   "execution_count": 86,
   "id": "d5ebb417",
   "metadata": {},
   "outputs": [
    {
     "data": {
      "text/plain": [
       "37"
      ]
     },
     "execution_count": 86,
     "metadata": {},
     "output_type": "execute_result"
    }
   ],
   "source": [
    "files = glob.glob('Data/tweet/*')\n",
    "#files = glob.glob('user/*')\n",
    "len(files)"
   ]
  },
  {
   "cell_type": "code",
   "execution_count": 87,
   "id": "d4d51b2e",
   "metadata": {},
   "outputs": [],
   "source": [
    "dictlist = []\n",
    "\n",
    "for file in files:\n",
    "    json_string = open(file, 'r', encoding='utf-8').read()\n",
    "    json_dict = json.loads(json_string)\n",
    "    dictlist.append(json_dict)"
   ]
  },
  {
   "cell_type": "code",
   "execution_count": 88,
   "id": "8c67645a",
   "metadata": {},
   "outputs": [],
   "source": [
    "df = pd.DataFrame(dictlist)\n",
    "\n",
    "df = df.replace({'\\n': ' '}, regex=True) # remove linebreaks in the dataframe\n",
    "df = df.replace({'\\t': ' '}, regex=True) # remove tabs in the dataframe\n",
    "df = df.replace({'\\r': ' '}, regex=True) # remove carriage return in the dataframe"
   ]
  },
  {
   "cell_type": "code",
   "execution_count": 89,
   "id": "6f2b0e40",
   "metadata": {
    "collapsed": true
   },
   "outputs": [
    {
     "data": {
      "text/plain": [
       "{'created_at': 'Thu May 06 19:43:27 +0000 2021',\n",
       " 'id': 1390391782404333568,\n",
       " 'id_str': '1390391782404333568',\n",
       " 'full_text': '@elonmusk @johnkrausphotos @SpaceX https://t.co/cJG8kFIUIn',\n",
       " 'truncated': False,\n",
       " 'display_text_range': [34, 34],\n",
       " 'entities': {'hashtags': [],\n",
       "  'symbols': [],\n",
       "  'user_mentions': [{'screen_name': 'elonmusk',\n",
       "    'name': 'Elon Musk',\n",
       "    'id': 44196397,\n",
       "    'id_str': '44196397',\n",
       "    'indices': [0, 9]},\n",
       "   {'screen_name': 'johnkrausphotos',\n",
       "    'name': 'John Kraus',\n",
       "    'id': 3072160164,\n",
       "    'id_str': '3072160164',\n",
       "    'indices': [10, 26]},\n",
       "   {'screen_name': 'SpaceX',\n",
       "    'name': 'SpaceX',\n",
       "    'id': 34743251,\n",
       "    'id_str': '34743251',\n",
       "    'indices': [27, 34]}],\n",
       "  'urls': [],\n",
       "  'media': [{'id': 1390391778247811074,\n",
       "    'id_str': '1390391778247811074',\n",
       "    'indices': [35, 58],\n",
       "    'media_url': 'http://pbs.twimg.com/media/E0up9KkVoAIdfhY.jpg',\n",
       "    'media_url_https': 'https://pbs.twimg.com/media/E0up9KkVoAIdfhY.jpg',\n",
       "    'url': 'https://t.co/cJG8kFIUIn',\n",
       "    'display_url': 'pic.twitter.com/cJG8kFIUIn',\n",
       "    'expanded_url': 'https://twitter.com/RobertVogan9/status/1390391782404333568/photo/1',\n",
       "    'type': 'photo',\n",
       "    'original_info': {'width': 492,\n",
       "     'height': 804,\n",
       "     'focus_rects': [{'x': 0, 'y': 123, 'h': 276, 'w': 492},\n",
       "      {'x': 0, 'y': 15, 'h': 492, 'w': 492},\n",
       "      {'x': 0, 'y': 0, 'h': 561, 'w': 492},\n",
       "      {'x': 19, 'y': 0, 'h': 804, 'w': 402},\n",
       "      {'x': 0, 'y': 0, 'h': 804, 'w': 492}]},\n",
       "    'sizes': {'thumb': {'w': 150, 'h': 150, 'resize': 'crop'},\n",
       "     'small': {'w': 416, 'h': 680, 'resize': 'fit'},\n",
       "     'medium': {'w': 492, 'h': 804, 'resize': 'fit'},\n",
       "     'large': {'w': 492, 'h': 804, 'resize': 'fit'}}}]},\n",
       " 'extended_entities': {'media': [{'id': 1390391778247811074,\n",
       "    'id_str': '1390391778247811074',\n",
       "    'indices': [35, 58],\n",
       "    'media_url': 'http://pbs.twimg.com/media/E0up9KkVoAIdfhY.jpg',\n",
       "    'media_url_https': 'https://pbs.twimg.com/media/E0up9KkVoAIdfhY.jpg',\n",
       "    'url': 'https://t.co/cJG8kFIUIn',\n",
       "    'display_url': 'pic.twitter.com/cJG8kFIUIn',\n",
       "    'expanded_url': 'https://twitter.com/RobertVogan9/status/1390391782404333568/photo/1',\n",
       "    'type': 'photo',\n",
       "    'original_info': {'width': 492,\n",
       "     'height': 804,\n",
       "     'focus_rects': [{'x': 0, 'y': 123, 'h': 276, 'w': 492},\n",
       "      {'x': 0, 'y': 15, 'h': 492, 'w': 492},\n",
       "      {'x': 0, 'y': 0, 'h': 561, 'w': 492},\n",
       "      {'x': 19, 'y': 0, 'h': 804, 'w': 402},\n",
       "      {'x': 0, 'y': 0, 'h': 804, 'w': 492}]},\n",
       "    'sizes': {'thumb': {'w': 150, 'h': 150, 'resize': 'crop'},\n",
       "     'small': {'w': 416, 'h': 680, 'resize': 'fit'},\n",
       "     'medium': {'w': 492, 'h': 804, 'resize': 'fit'},\n",
       "     'large': {'w': 492, 'h': 804, 'resize': 'fit'}},\n",
       "    'media_key': '3_1390391778247811074',\n",
       "    'ext_media_color': {'palette': [{'rgb': {'red': 109,\n",
       "        'green': 69,\n",
       "        'blue': 29},\n",
       "       'percentage': 34.99},\n",
       "      {'rgb': {'red': 33, 'green': 27, 'blue': 17}, 'percentage': 27.58},\n",
       "      {'rgb': {'red': 179, 'green': 100, 'blue': 37}, 'percentage': 17.39},\n",
       "      {'rgb': {'red': 231, 'green': 221, 'blue': 170}, 'percentage': 3.84},\n",
       "      {'rgb': {'red': 184, 'green': 142, 'blue': 68}, 'percentage': 3.62}]},\n",
       "    'ext_alt_text': None,\n",
       "    'ext_media_availability': {'status': 'available'},\n",
       "    'ext': {'mediaStats': {'r': 'Missing', 'ttl': -1}}}]},\n",
       " 'source': '<a href=\"http://twitter.com/download/iphone\" rel=\"nofollow\">Twitter for iPhone</a>',\n",
       " 'in_reply_to_status_id': 1390369492954456070,\n",
       " 'in_reply_to_status_id_str': '1390369492954456070',\n",
       " 'in_reply_to_user_id': 44196397,\n",
       " 'in_reply_to_user_id_str': '44196397',\n",
       " 'in_reply_to_screen_name': 'elonmusk',\n",
       " 'user_id': 1357917838099423236,\n",
       " 'user_id_str': '1357917838099423236',\n",
       " 'geo': None,\n",
       " 'coordinates': None,\n",
       " 'place': None,\n",
       " 'contributors': None,\n",
       " 'is_quote_status': False,\n",
       " 'retweet_count': 0,\n",
       " 'favorite_count': 2,\n",
       " 'reply_count': 0,\n",
       " 'quote_count': 0,\n",
       " 'conversation_id': 1390359784516460551,\n",
       " 'conversation_id_str': '1390359784516460551',\n",
       " 'favorited': False,\n",
       " 'retweeted': False,\n",
       " 'possibly_sensitive': False,\n",
       " 'possibly_sensitive_editable': True,\n",
       " 'lang': 'und',\n",
       " 'supplemental_language': None}"
      ]
     },
     "execution_count": 89,
     "metadata": {},
     "output_type": "execute_result"
    }
   ],
   "source": [
    "df.raw_data.loc[1]"
   ]
  },
  {
   "cell_type": "code",
   "execution_count": 90,
   "id": "c452c74c",
   "metadata": {},
   "outputs": [
    {
     "name": "stdout",
     "output_type": "stream",
     "text": [
      "tweet 0\n",
      "Thu May 06 19:43:27 +0000 2021\n",
      "@elonmusk Yes, let's go and ruin them too. 😅😅😅\n",
      "tweet 1\n",
      "Thu May 06 19:43:27 +0000 2021\n",
      "@elonmusk @johnkrausphotos @SpaceX https://t.co/cJG8kFIUIn\n",
      "tweet 2\n",
      "Thu May 06 19:43:27 +0000 2021\n",
      "@TrapIntern @Real_LunchMoney @elonmusk The one where Kuato pops out of George’s tummy to play? Halloween office party... You wanna be Kuato and I’ll be George?\n",
      "tweet 3\n",
      "Thu May 06 19:43:27 +0000 2021\n",
      "@elonmusk I LOVE  ARTDECO 🌋\n",
      " ELON MUSK NEW COIN🚀🚀\n",
      "tweet 4\n",
      "Thu May 06 19:43:28 +0000 2021\n",
      "@TambayAlbay @whale_alert @dogecoin @elonmusk Kardeşim 0.49 kuruştan aldığımda da böyle diyorlardı\n",
      "Bak şimdi beş tl \n",
      "Hala konusuyorsunuz\n",
      "Burada garanti birşey yok\n",
      "Alt yapısi olsa ne olmasa ne\n",
      "Ben beni uzek miktar yaptırmadım\n",
      "Beş bin TL attim 0.49 dan ve keyfim gayet yerinde \n",
      "Caktin mi 🤗\n",
      "tweet 5\n",
      "Thu May 06 19:43:28 +0000 2021\n",
      "@elonmusk Currency will be critical at one point there, you see where this is going?\n",
      "tweet 6\n",
      "Thu May 06 19:43:28 +0000 2021\n",
      "@elonmusk make dogecoin our lunar currency\n",
      "tweet 7\n",
      "Thu May 06 19:43:28 +0000 2021\n",
      "@JohanvanCaem1 @dogecoin @elonmusk @rariblecom @opensea 💙🐰\n",
      "tweet 8\n",
      "Thu May 06 19:43:28 +0000 2021\n",
      "@elonmusk Doge..🤣 https://t.co/UUuc91EptC\n"
     ]
    }
   ],
   "source": [
    "for i in range(9):\n",
    "    #print(df.raw_data.loc[i]['id'])\n",
    "    print(\"tweet\", i)\n",
    "    print(df.raw_data.loc[i]['created_at'])\n",
    "    print(df.raw_data.loc[i]['full_text'])\n",
    "    #print(df.raw_data.loc[i]['display_text_range'])"
   ]
  },
  {
   "cell_type": "code",
   "execution_count": 91,
   "id": "84819516",
   "metadata": {},
   "outputs": [],
   "source": [
    "# Export to csv\n",
    "#df.to_csv(\"data.csv\")"
   ]
  }
 ],
 "metadata": {
  "kernelspec": {
   "display_name": "Python [conda env:twitter]",
   "language": "python",
   "name": "conda-env-twitter-py"
  },
  "language_info": {
   "codemirror_mode": {
    "name": "ipython",
    "version": 3
   },
   "file_extension": ".py",
   "mimetype": "text/x-python",
   "name": "python",
   "nbconvert_exporter": "python",
   "pygments_lexer": "ipython3",
   "version": "3.9.4"
  }
 },
 "nbformat": 4,
 "nbformat_minor": 5
}
