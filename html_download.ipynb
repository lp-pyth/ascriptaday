{
 "cells": [
  {
   "cell_type": "code",
   "execution_count": 47,
   "metadata": {
    "ExecuteTime": {
     "end_time": "2021-03-17T19:29:47.785083Z",
     "start_time": "2021-03-17T19:29:47.487812Z"
    }
   },
   "outputs": [
    {
     "name": "stdout",
     "output_type": "stream",
     "text": [
      "<Response [200]>\n"
     ]
    }
   ],
   "source": [
    "from bs4 import BeautifulSoup\n",
    "import requests\n",
    "website = requests.get('YOUR_URL_HERE')\n",
    "print(website) #Response 200 -> all good"
   ]
  },
  {
   "cell_type": "code",
   "execution_count": 48,
   "metadata": {
    "ExecuteTime": {
     "end_time": "2021-03-17T19:29:48.992901Z",
     "start_time": "2021-03-17T19:29:47.985874Z"
    },
    "scrolled": true
   },
   "outputs": [],
   "source": [
    "soup = BeautifulSoup(website.content, 'html.parser')\n",
    "#soup = BeautifulSoup(website.content, 'lxml')\n",
    "soup_string = str(soup)\n",
    "#print(soup_string)\n",
    "with open(\"original.html\", \"w\", encoding=\"utf-8\") as file:\n",
    "    file.write(soup_string)"
   ]
  },
  {
   "cell_type": "code",
   "execution_count": 49,
   "metadata": {
    "ExecuteTime": {
     "end_time": "2021-03-17T19:29:49.323260Z",
     "start_time": "2021-03-17T19:29:48.995632Z"
    }
   },
   "outputs": [],
   "source": [
    "soup_string = str(soup)\n",
    "soup_string= soup_string.replace(\"OLD_STRING\", \"NEW_STRING\")\n",
    "with open(\"new.html\", \"w\", encoding=\"utf-8\") as file:\n",
    "    file.write(soup_string)"
   ]
  },
  {
   "cell_type": "code",
   "execution_count": null,
   "metadata": {},
   "outputs": [],
   "source": [
    "#Other commands\n",
    "soup.prettify()\n",
    "print(soup.text)\n",
    "print(soup.h2)"
   ]
  },
  {
   "cell_type": "code",
   "execution_count": null,
   "metadata": {},
   "outputs": [],
   "source": [
    "h2tags = soup.find_all('h2')\n",
    "for soups in h2tags:\n",
    " \tprint(soups)"
   ]
  },
  {
   "cell_type": "code",
   "execution_count": null,
   "metadata": {},
   "outputs": [],
   "source": [
    "h2tags = soup.find_all('h2')\n",
    "for soups in h2tags:\n",
    " \tprint(soups.string)"
   ]
  },
  {
   "cell_type": "code",
   "execution_count": null,
   "metadata": {},
   "outputs": [],
   "source": [
    "tags = soup.find_all(['a', 'h2', 'title'])\n",
    "for soups in tags:\n",
    " \tprint(soups.string)"
   ]
  },
  {
   "cell_type": "code",
   "execution_count": null,
   "metadata": {},
   "outputs": [],
   "source": [
    "id = soup.find(id = 'enter the target id here')\n",
    "print(id.text)"
   ]
  },
  {
   "cell_type": "code",
   "execution_count": null,
   "metadata": {},
   "outputs": [],
   "source": [
    "my_classes = soup.find(class_ = 'enter the target class name here')\n",
    "print(my_classes.text)"
   ]
  },
  {
   "cell_type": "code",
   "execution_count": null,
   "metadata": {},
   "outputs": [],
   "source": [
    "data = soup.find_all('div', class_ = 'enter the target class name here')\n",
    "print(data)"
   ]
  }
 ],
 "metadata": {
  "kernelspec": {
   "display_name": "Python 3",
   "language": "python",
   "name": "python3"
  },
  "language_info": {
   "codemirror_mode": {
    "name": "ipython",
    "version": 3
   },
   "file_extension": ".py",
   "mimetype": "text/x-python",
   "name": "python",
   "nbconvert_exporter": "python",
   "pygments_lexer": "ipython3",
   "version": "3.8.5"
  }
 },
 "nbformat": 4,
 "nbformat_minor": 4
}
