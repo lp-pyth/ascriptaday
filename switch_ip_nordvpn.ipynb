{
 "cells": [
  {
   "cell_type": "code",
   "execution_count": null,
   "metadata": {},
   "outputs": [],
   "source": [
    "#pip install nordvpn-switcher\n",
    "\n",
    "import time \n",
    "from nordvpn_switcher import initialize_VPN, rotate_VPN, terminate_VPN\n",
    "\n",
    "initialize_VPN(save=1,area_input=['complete rotation'])\n",
    "\n",
    "rotate_VPN()"
   ]
  }
 ],
 "metadata": {
  "kernelspec": {
   "display_name": "Python 3",
   "language": "python",
   "name": "python3"
  },
  "language_info": {
   "codemirror_mode": {
    "name": "ipython",
    "version": 3
   },
   "file_extension": ".py",
   "mimetype": "text/x-python",
   "name": "python",
   "nbconvert_exporter": "python",
   "pygments_lexer": "ipython3",
   "version": "3.8.5"
  }
 },
 "nbformat": 4,
 "nbformat_minor": 4
}
